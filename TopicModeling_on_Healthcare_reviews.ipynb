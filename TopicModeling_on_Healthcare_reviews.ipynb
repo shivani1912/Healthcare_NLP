{
  "nbformat": 4,
  "nbformat_minor": 0,
  "metadata": {
    "kernelspec": {
      "display_name": "Python 3",
      "language": "python",
      "name": "python3"
    },
    "language_info": {
      "codemirror_mode": {
        "name": "ipython",
        "version": 3
      },
      "file_extension": ".py",
      "mimetype": "text/x-python",
      "name": "python",
      "nbconvert_exporter": "python",
      "pygments_lexer": "ipython3",
      "version": "3.7.4"
    },
    "colab": {
      "name": "TopicModeling_on_Healthcare_reviews.ipynb",
      "provenance": [],
      "collapsed_sections": [],
      "include_colab_link": true
    }
  },
  "cells": [
    {
      "cell_type": "markdown",
      "metadata": {
        "id": "view-in-github",
        "colab_type": "text"
      },
      "source": [
        "<a href=\"https://colab.research.google.com/github/shivani1912/Healthcare_NLP/blob/master/TopicModeling_on_Healthcare_reviews.ipynb\" target=\"_parent\"><img src=\"https://colab.research.google.com/assets/colab-badge.svg\" alt=\"Open In Colab\"/></a>"
      ]
    },
    {
      "cell_type": "markdown",
      "metadata": {
        "id": "7UXo3xl5MzB8",
        "colab_type": "text"
      },
      "source": [
        "## Objective: Find the products and reasons behind negative reviews"
      ]
    },
    {
      "cell_type": "code",
      "metadata": {
        "id": "lOmaUtCTMgh1",
        "colab_type": "code",
        "colab": {}
      },
      "source": [
        "import json\n",
        "import pandas as pd\n",
        "%matplotlib inline\n",
        "import tqdm\n",
        "from tqdm.notebook import tqdm\n",
        "import matplotlib\n",
        "import numpy as np\n",
        "import matplotlib.pyplot as plt\n",
        "from sklearn.feature_extraction.text import CountVectorizer\n",
        "from sklearn.linear_model import LogisticRegression\n",
        "from sklearn.model_selection import train_test_split"
      ],
      "execution_count": null,
      "outputs": []
    },
    {
      "cell_type": "code",
      "metadata": {
        "id": "5svXVOPqMgiI",
        "colab_type": "code",
        "colab": {}
      },
      "source": [
        "import re\n",
        "import numpy as np\n",
        "import pandas as pd\n",
        "from pprint import pprint\n",
        "\n",
        "# Gensim\n",
        "import gensim\n",
        "import gensim.corpora as corpora\n",
        "from gensim.utils import simple_preprocess\n",
        "from gensim.models import CoherenceModel\n",
        "\n",
        "# spacy for lemmatization\n",
        "import spacy\n",
        "\n",
        "# Plotting tools\n",
        "import pyLDAvis\n",
        "import pyLDAvis.gensim  # don't skip this\n",
        "import matplotlib.pyplot as plt\n",
        "%matplotlib inline\n",
        "\n",
        "# Enable logging for gensim - optional\n",
        "import logging\n",
        "logging.basicConfig(format='%(asctime)s : %(levelname)s : %(message)s', level=logging.ERROR)\n",
        "\n",
        "import warnings\n",
        "warnings.filterwarnings(\"ignore\",category=DeprecationWarning)"
      ],
      "execution_count": null,
      "outputs": []
    },
    {
      "cell_type": "code",
      "metadata": {
        "id": "_Wm3uh-nMgiT",
        "colab_type": "code",
        "colab": {}
      },
      "source": [
        "reviews = []\n",
        "with open('Health_and_Personal_Care_5.json', encoding=\"UTF-8\") as fp:\n",
        "    for line in fp:\n",
        "        rev = json.loads(line)\n",
        "        reviews.append(rev)\n",
        "\n",
        "review = pd.DataFrame(reviews)"
      ],
      "execution_count": null,
      "outputs": []
    },
    {
      "cell_type": "code",
      "metadata": {
        "id": "xrkD6RNlMgid",
        "colab_type": "code",
        "colab": {},
        "outputId": "288fb8ee-eb54-47cd-e88c-9bd1f848d69e"
      },
      "source": [
        "review.head()"
      ],
      "execution_count": null,
      "outputs": [
        {
          "output_type": "execute_result",
          "data": {
            "text/html": [
              "<div>\n",
              "<style scoped>\n",
              "    .dataframe tbody tr th:only-of-type {\n",
              "        vertical-align: middle;\n",
              "    }\n",
              "\n",
              "    .dataframe tbody tr th {\n",
              "        vertical-align: top;\n",
              "    }\n",
              "\n",
              "    .dataframe thead th {\n",
              "        text-align: right;\n",
              "    }\n",
              "</style>\n",
              "<table border=\"1\" class=\"dataframe\">\n",
              "  <thead>\n",
              "    <tr style=\"text-align: right;\">\n",
              "      <th></th>\n",
              "      <th>reviewerID</th>\n",
              "      <th>asin</th>\n",
              "      <th>reviewerName</th>\n",
              "      <th>helpful</th>\n",
              "      <th>reviewText</th>\n",
              "      <th>overall</th>\n",
              "      <th>summary</th>\n",
              "      <th>unixReviewTime</th>\n",
              "      <th>reviewTime</th>\n",
              "    </tr>\n",
              "  </thead>\n",
              "  <tbody>\n",
              "    <tr>\n",
              "      <td>0</td>\n",
              "      <td>ALC5GH8CAMAI7</td>\n",
              "      <td>159985130X</td>\n",
              "      <td>AnnN</td>\n",
              "      <td>[1, 1]</td>\n",
              "      <td>This is a great little gadget to have around. ...</td>\n",
              "      <td>5.0</td>\n",
              "      <td>Handy little gadget</td>\n",
              "      <td>1294185600</td>\n",
              "      <td>01 5, 2011</td>\n",
              "    </tr>\n",
              "    <tr>\n",
              "      <td>1</td>\n",
              "      <td>AHKSURW85PJUE</td>\n",
              "      <td>159985130X</td>\n",
              "      <td>AZ buyer \"AZ buyer\"</td>\n",
              "      <td>[1, 1]</td>\n",
              "      <td>I would recommend this for a travel magnifier ...</td>\n",
              "      <td>4.0</td>\n",
              "      <td>Small &amp; may need to encourage battery</td>\n",
              "      <td>1329523200</td>\n",
              "      <td>02 18, 2012</td>\n",
              "    </tr>\n",
              "    <tr>\n",
              "      <td>2</td>\n",
              "      <td>A38RMU1Y5TDP9</td>\n",
              "      <td>159985130X</td>\n",
              "      <td>Bob Tobias \"Robert Tobias\"</td>\n",
              "      <td>[75, 77]</td>\n",
              "      <td>What I liked was the quality of the lens and t...</td>\n",
              "      <td>4.0</td>\n",
              "      <td>Very good but not great</td>\n",
              "      <td>1275955200</td>\n",
              "      <td>06 8, 2010</td>\n",
              "    </tr>\n",
              "    <tr>\n",
              "      <td>3</td>\n",
              "      <td>A1XZUG7DFXXOS4</td>\n",
              "      <td>159985130X</td>\n",
              "      <td>Cat lover</td>\n",
              "      <td>[56, 60]</td>\n",
              "      <td>Love the Great point light pocket magnifier!  ...</td>\n",
              "      <td>4.0</td>\n",
              "      <td>great addition to your purse</td>\n",
              "      <td>1202428800</td>\n",
              "      <td>02 8, 2008</td>\n",
              "    </tr>\n",
              "    <tr>\n",
              "      <td>4</td>\n",
              "      <td>A1MS3M7M7AM13X</td>\n",
              "      <td>159985130X</td>\n",
              "      <td>Cricketoes</td>\n",
              "      <td>[1, 1]</td>\n",
              "      <td>This is very nice. You pull out on the magnifi...</td>\n",
              "      <td>5.0</td>\n",
              "      <td>Very nice and convenient.</td>\n",
              "      <td>1313452800</td>\n",
              "      <td>08 16, 2011</td>\n",
              "    </tr>\n",
              "  </tbody>\n",
              "</table>\n",
              "</div>"
            ],
            "text/plain": [
              "       reviewerID        asin                reviewerName   helpful  \\\n",
              "0   ALC5GH8CAMAI7  159985130X                        AnnN    [1, 1]   \n",
              "1   AHKSURW85PJUE  159985130X         AZ buyer \"AZ buyer\"    [1, 1]   \n",
              "2   A38RMU1Y5TDP9  159985130X  Bob Tobias \"Robert Tobias\"  [75, 77]   \n",
              "3  A1XZUG7DFXXOS4  159985130X                   Cat lover  [56, 60]   \n",
              "4  A1MS3M7M7AM13X  159985130X                  Cricketoes    [1, 1]   \n",
              "\n",
              "                                          reviewText  overall  \\\n",
              "0  This is a great little gadget to have around. ...      5.0   \n",
              "1  I would recommend this for a travel magnifier ...      4.0   \n",
              "2  What I liked was the quality of the lens and t...      4.0   \n",
              "3  Love the Great point light pocket magnifier!  ...      4.0   \n",
              "4  This is very nice. You pull out on the magnifi...      5.0   \n",
              "\n",
              "                                 summary  unixReviewTime   reviewTime  \n",
              "0                    Handy little gadget      1294185600   01 5, 2011  \n",
              "1  Small & may need to encourage battery      1329523200  02 18, 2012  \n",
              "2                Very good but not great      1275955200   06 8, 2010  \n",
              "3           great addition to your purse      1202428800   02 8, 2008  \n",
              "4              Very nice and convenient.      1313452800  08 16, 2011  "
            ]
          },
          "metadata": {
            "tags": []
          },
          "execution_count": 4
        }
      ]
    },
    {
      "cell_type": "code",
      "metadata": {
        "id": "wzt3J5LxMgis",
        "colab_type": "code",
        "colab": {}
      },
      "source": [
        "#reviews with the rating=1 are tagged as negative reviews\n",
        "negative_reviews=review[review['overall']==1]"
      ],
      "execution_count": null,
      "outputs": []
    },
    {
      "cell_type": "code",
      "metadata": {
        "id": "cyha-y2YMgi3",
        "colab_type": "code",
        "colab": {}
      },
      "source": [
        "negative_review_count=pd.DataFrame(negative_reviews.groupby('asin').size())\n",
        "negative_review_count['count']=negative_review_count[0]\n",
        "negative_review_count=negative_review_count.drop([0],axis=1)"
      ],
      "execution_count": null,
      "outputs": []
    },
    {
      "cell_type": "code",
      "metadata": {
        "id": "xpVQL1VbMgjA",
        "colab_type": "code",
        "colab": {}
      },
      "source": [
        "top_negative_reviews=negative_review_count.sort_values(by=['count'], ascending=False).head(int(len(negative_review_count)*0.001))"
      ],
      "execution_count": null,
      "outputs": []
    },
    {
      "cell_type": "code",
      "metadata": {
        "id": "kbzj6vgGMgjL",
        "colab_type": "code",
        "colab": {},
        "outputId": "258d6c6f-4e9b-4ecb-8052-c348e203f0e7"
      },
      "source": [
        "top_negative_reviews"
      ],
      "execution_count": null,
      "outputs": [
        {
          "output_type": "execute_result",
          "data": {
            "text/html": [
              "<div>\n",
              "<style scoped>\n",
              "    .dataframe tbody tr th:only-of-type {\n",
              "        vertical-align: middle;\n",
              "    }\n",
              "\n",
              "    .dataframe tbody tr th {\n",
              "        vertical-align: top;\n",
              "    }\n",
              "\n",
              "    .dataframe thead th {\n",
              "        text-align: right;\n",
              "    }\n",
              "</style>\n",
              "<table border=\"1\" class=\"dataframe\">\n",
              "  <thead>\n",
              "    <tr style=\"text-align: right;\">\n",
              "      <th></th>\n",
              "      <th>count</th>\n",
              "    </tr>\n",
              "    <tr>\n",
              "      <th>asin</th>\n",
              "      <th></th>\n",
              "    </tr>\n",
              "  </thead>\n",
              "  <tbody>\n",
              "    <tr>\n",
              "      <td>B0026HDURA</td>\n",
              "      <td>48</td>\n",
              "    </tr>\n",
              "    <tr>\n",
              "      <td>B00B5H5BGA</td>\n",
              "      <td>42</td>\n",
              "    </tr>\n",
              "    <tr>\n",
              "      <td>B001ADL1SG</td>\n",
              "      <td>42</td>\n",
              "    </tr>\n",
              "    <tr>\n",
              "      <td>B009VUZJTM</td>\n",
              "      <td>41</td>\n",
              "    </tr>\n",
              "    <tr>\n",
              "      <td>B000GP1O4U</td>\n",
              "      <td>37</td>\n",
              "    </tr>\n",
              "    <tr>\n",
              "      <td>B002BH4VY6</td>\n",
              "      <td>33</td>\n",
              "    </tr>\n",
              "    <tr>\n",
              "      <td>B003KVO0GQ</td>\n",
              "      <td>31</td>\n",
              "    </tr>\n",
              "  </tbody>\n",
              "</table>\n",
              "</div>"
            ],
            "text/plain": [
              "            count\n",
              "asin             \n",
              "B0026HDURA     48\n",
              "B00B5H5BGA     42\n",
              "B001ADL1SG     42\n",
              "B009VUZJTM     41\n",
              "B000GP1O4U     37\n",
              "B002BH4VY6     33\n",
              "B003KVO0GQ     31"
            ]
          },
          "metadata": {
            "tags": []
          },
          "execution_count": 34
        }
      ]
    },
    {
      "cell_type": "code",
      "metadata": {
        "id": "gAPDTHJKMgjW",
        "colab_type": "code",
        "colab": {}
      },
      "source": [
        "tp_negative_reviews=pd.merge(negative_reviews, top_negative_reviews, on='asin', how='inner')\n"
      ],
      "execution_count": null,
      "outputs": []
    },
    {
      "cell_type": "markdown",
      "metadata": {
        "id": "d_GBEWniMgje",
        "colab_type": "text"
      },
      "source": [
        "# Review Text: Data Cleaning, Tokenization & Stop words removal"
      ]
    },
    {
      "cell_type": "code",
      "metadata": {
        "id": "e8l4jH-2Mgjh",
        "colab_type": "code",
        "colab": {}
      },
      "source": [
        "#NLTK Stop words\n",
        "from nltk.corpus import stopwords\n",
        "stop_words = stopwords.words('english')\n",
        "\n",
        "    "
      ],
      "execution_count": null,
      "outputs": []
    },
    {
      "cell_type": "code",
      "metadata": {
        "id": "69-qgpb0Mgjr",
        "colab_type": "code",
        "colab": {}
      },
      "source": [
        "import re\n",
        "\n",
        "# Convert to list\n",
        "data = tp_negative_reviews.reviewText.values.tolist()\n",
        "\n",
        "\n",
        "# Remove Emails\n",
        "data = [re.sub('\\S*@\\S*\\s?', '', sent) for sent in data]\n",
        "\n",
        "# Remove new line characters\n",
        "data = [re.sub('\\s+', ' ', sent) for sent in data]\n",
        "\n",
        "# Remove distracting single quotes\n",
        "data = [re.sub(\"\\'\", \"\", sent) for sent in data]\n"
      ],
      "execution_count": null,
      "outputs": []
    },
    {
      "cell_type": "code",
      "metadata": {
        "id": "82TucvNZMgj1",
        "colab_type": "code",
        "colab": {},
        "outputId": "02c4e604-6af8-43e4-aead-9d348b17d39c"
      },
      "source": [
        "len(data)"
      ],
      "execution_count": null,
      "outputs": [
        {
          "output_type": "execute_result",
          "data": {
            "text/plain": [
              "274"
            ]
          },
          "metadata": {
            "tags": []
          },
          "execution_count": 39
        }
      ]
    },
    {
      "cell_type": "code",
      "metadata": {
        "id": "sIAmERJMMgkA",
        "colab_type": "code",
        "colab": {}
      },
      "source": [
        "#tokenizing & removing punctuations\n",
        "def sent_to_words(sentences):\n",
        "    for sentence in sentences:\n",
        "        yield(gensim.utils.simple_preprocess(str(sentence), deacc=True))  # deacc=True removes punctuations\n",
        "\n",
        "data_words = list(sent_to_words(data))\n",
        "\n"
      ],
      "execution_count": null,
      "outputs": []
    },
    {
      "cell_type": "code",
      "metadata": {
        "id": "5qolkf_fMgkQ",
        "colab_type": "code",
        "colab": {},
        "outputId": "6fc2276c-d997-41ab-9d5a-2a4544c4e7a5"
      },
      "source": [
        "len(data_words)"
      ],
      "execution_count": null,
      "outputs": [
        {
          "output_type": "execute_result",
          "data": {
            "text/plain": [
              "274"
            ]
          },
          "metadata": {
            "tags": []
          },
          "execution_count": 41
        }
      ]
    },
    {
      "cell_type": "markdown",
      "metadata": {
        "id": "CQ1JaVCXMgkY",
        "colab_type": "text"
      },
      "source": [
        "# Review Text: Lemmatization & Stop Words removal"
      ]
    },
    {
      "cell_type": "code",
      "metadata": {
        "id": "5aiKqjeTMgka",
        "colab_type": "code",
        "colab": {}
      },
      "source": [
        "#remove stopwords\n",
        "def remove_stopwords(texts):\n",
        "    return [[word for word in simple_preprocess(str(doc)) if word not in stop_words] for doc in texts]"
      ],
      "execution_count": null,
      "outputs": []
    },
    {
      "cell_type": "code",
      "metadata": {
        "id": "dEkobPKyMgki",
        "colab_type": "code",
        "colab": {}
      },
      "source": [
        "import spacy\n",
        "nlp = spacy.load('en_core_web_sm', disable=[\"tagger\", \"parser\"])\n",
        "def lemmatization(texts):\n",
        "    \"\"\"https://spacy.io/api/annotation\"\"\"\n",
        "    texts_out = []\n",
        "    for sent in texts:\n",
        "        doc = nlp(\" \".join(sent)) \n",
        "        texts_out.append([token.lemma_ for token in doc ])\n",
        "    return texts_out"
      ],
      "execution_count": null,
      "outputs": []
    },
    {
      "cell_type": "code",
      "metadata": {
        "id": "LVQN9ICxMgkq",
        "colab_type": "code",
        "colab": {},
        "outputId": "7bfcaa81-5f1b-4383-956b-64b142593043"
      },
      "source": [
        "data_words_nostops = remove_stopwords(data_words)\n",
        "data_lemmatized = lemmatization(data_words_nostops)\n",
        "\n",
        "print(data_lemmatized[1:5])"
      ],
      "execution_count": null,
      "outputs": [
        {
          "output_type": "stream",
          "text": [
            "[['open', 'box', 'amazon', 'quickly', 'double', 'take', 'tiny', 'plastic', 'container', 'really', 'call', 'physician', 'care', 'office', '\\ufeff1', 'aid', 'kit', 'people', 'really', 'twenty', 'five', 'people', 'long', 'back', 'website', 'look', 'numb', 'similarly', 'bemuse', 'occasionally', 'hilarious', 'review', 'people', 'like', 'find', 'little', 'plastic', 'kit', 'little', 'good', 'lack', 'every', 'regard', 'short', 'overpriced', 'kit', 'may', 'find', 'somewhat', 'useful', 'car', 'truck', 'especially', 'little', 'kid', 'prone', 'get', 'small', 'easily', 'clean', 'boo', 'boo', 'beyond', 'product', 'offer', 'virtually', 'nothing', 'get', 'count', 'little', 'alcohol', 'pad', 'small', 'bandage', 'couple', 'packet', 'cream', 'gauze', 'pad', 'inexplicably', 'deal', 'mountain', 'surgical', 'supply', 'get', 'tiny', 'little', 'tweezer', 'scissor', 'wait', 'ten', 'pair', 'rubber', 'glove', 'can', 'not', 'even', 'imagine', 'sort', 'injury', 'problem', 'people', 'may', 'consider', 'kit', 'one', 'warn', 'much', 'well', '\\ufeff1', 'aid', 'kit', 'market', 'mean', 'actual', '\\ufeff1', 'aid', 'kit'], ['advertise', 'giant', 'disappointment', 'instead', 'provide', 'unsuspecting', 'buyer', '\\ufeff1', 'aid', 'kit', 'appropriate', 'task', 'deceive', 'believe', 'handle', 'product', 'really', 'nothing', 'cheap', 'plastic', 'box', 'band', 'aid', 'expect', 'something', 'much', 'especially', 'since', 'advertise', 'something', 'handle', 'load', 'wound', 'individual', 'be', 'not', 'go', 'happen', 'honestly', 'nick', 'scrape', 'happen', 'house', 'wobbly', 'toddler', 'accident', 'prone', 'child', 'suffice', 'time', 'mostly', 'need', 'band', 'aid', 'end', 'day', 'cheap', 'waste', 'money', 'right', 'mind', 'would', 'spend', 'let', 'alone', 'original', 'ask', 'price', 'buyer', 'beware', 'basically', 'pay', 'ten', 'time', 'price', 'would', 'normally', 'box', 'band', 'aid', 'that', 's', '-PRON-', 'be', 'get', 'sadly', 'purchase', 'piece', 'individually', '-PRON-', 'would', 'spend', 'little', 'money'], ['description', 'product', 'sound', 'amaze', '\\ufeff1', 'aid', 'kit', 'office', 'place', 'employment', 'would', 'able', 'accomodate', 'people', 'medical', 'issue', 'kit', 'would', 'serve', 'office', 'let', 'alone', 'home', 'family', 'begin', 'tweezer', 'cheap', 'plastic', 'do', 'not', 'even', 'work', 'adhesive', 'bandage', 'merely', 'standard', 'size', 'regular', 'bandaids', 'take', 'generic', 'box', 'cold', 'pack', 'tiny', 'would', 'not', 'even', 'fit', 'child', 'knee', 'cap', 'everything', 'low', 'quality', 'small', 'size', 'elastic', 'bandage', 'would', 'fit', 'body', 'part', 'small', 'person', 'cheap', 'misadvertising', 'say', 'include', 'medical', 'grade', 'latex', 'glove', 'really', 'pair', 'make', 'individual', 'glove', 'standard', 'gauze', 'pad', 'kit', 'can', 'help', 'people', 'make', 'sense', 'even', 'suppose', '\\ufeff1', 'aid', 'booklet', 'merely', 'page', 'printout', 'almost', 'could', 'not', 'find', 'would', 'honestly', 'cheap', 'purchase', 'item', 'kit', 'separately', 'way', 'product', 'necessary', 'service', 'people', 'yet', 'alone', 'injury', 'serious', 'kit', 'truly', 'joke', 'gimmick', 'unfair', 'legitimate', 'office', 'look', 'quality', '\\ufeff1', 'aid', 'kit', 'buyer', 'beware'], ['-PRON-', 'have', 'own', '\\ufeff1', 'aid', 'kit', 'day', 'camp', 'hike', 'excite', 'get', 'one', 'review', 'seem', 'perfect', 'around', 'house', 'two', 'grow', 'boy', 'honest', 'helpful', 'kind', 'shock', 'open', 'kit', 'item', 'retail', 'msrp', 'pretty', 'disappoint', 'assortment', 'bandage', 'gauze', '\\ufeff1', 'aid', 'cream', 'simply', 'toss', 'container', 'organization', 'pro', 'kit', 'contain', '\\ufeff1', 'aid', 'item', '-PRON-', 'be', 'sure', 'burn', 'much', 'individually', 'package', 'latex', 'glove', 'nice', 'wood', 'stain', 'chemical', 'ice', 'pack', 'nice', 'single', 'use', 'item', 'con', 'tell', 'may', 'supply', 'aid', 'instruction', 'print', 'double', 'side', 'one', 'style', 'band', 'aid', 'large', 'size', 'big', 'con', 'plastic', 'tweezer', 'add', 'challenge', 'tiny', 'splinter', '-PRON-', 'be', 'pretty', 'disappoint', 'seem', 'like', 'great', 'bonus', 'buy', 'bin', 'item', 'drug', 'store', 'definitely', 'cover', 'situation', '\\ufeff1', 'aid', 'kit']]\n"
          ],
          "name": "stdout"
        }
      ]
    },
    {
      "cell_type": "code",
      "metadata": {
        "id": "_rOEGKwiMgkz",
        "colab_type": "code",
        "colab": {},
        "outputId": "c9b0f22f-c3e5-4e58-edf5-452a334f6f80"
      },
      "source": [
        "len(data_lemmatized)"
      ],
      "execution_count": null,
      "outputs": [
        {
          "output_type": "execute_result",
          "data": {
            "text/plain": [
              "274"
            ]
          },
          "metadata": {
            "tags": []
          },
          "execution_count": 46
        }
      ]
    },
    {
      "cell_type": "markdown",
      "metadata": {
        "id": "CGAWqMQEMgk_",
        "colab_type": "text"
      },
      "source": [
        "# Topic Modeling"
      ]
    },
    {
      "cell_type": "code",
      "metadata": {
        "id": "XGx40qcmMglA",
        "colab_type": "code",
        "colab": {},
        "outputId": "b6698f9f-e8df-4239-8e98-bcc28fb75f37"
      },
      "source": [
        "# Create Dictionary\n",
        "id2word = corpora.Dictionary(data_lemmatized)\n",
        "\n",
        "# Create Corpus\n",
        "texts = data_lemmatized\n",
        "\n",
        "# Term Document Frequency\n",
        "corpus = [id2word.doc2bow(text) for text in texts]\n",
        "\n",
        "# View\n",
        "print(corpus[:1])"
      ],
      "execution_count": null,
      "outputs": [
        {
          "output_type": "stream",
          "text": [
            "[[(0, 1), (1, 1), (2, 1), (3, 1), (4, 1), (5, 1), (6, 1), (7, 1), (8, 2), (9, 2), (10, 1), (11, 1), (12, 2), (13, 1), (14, 1), (15, 1), (16, 1), (17, 1), (18, 2), (19, 3), (20, 1), (21, 1), (22, 1), (23, 1), (24, 1), (25, 1), (26, 1), (27, 1), (28, 1), (29, 1), (30, 1), (31, 1), (32, 1), (33, 1), (34, 1), (35, 1), (36, 1), (37, 1), (38, 1), (39, 1), (40, 1), (41, 1), (42, 1), (43, 1), (44, 1), (45, 2), (46, 1)]]\n"
          ],
          "name": "stdout"
        }
      ]
    },
    {
      "cell_type": "code",
      "metadata": {
        "id": "k-ADWCmKMglG",
        "colab_type": "code",
        "colab": {}
      },
      "source": [
        "# Build LDA model\n",
        "lda_model = gensim.models.ldamodel.LdaModel(corpus=corpus,\n",
        "                                           id2word=id2word,\n",
        "                                           num_topics=7, \n",
        "                                           random_state=100,\n",
        "                                           update_every=1,\n",
        "                                           chunksize=100,\n",
        "                                           passes=10,\n",
        "                                           alpha='auto',\n",
        "                                           per_word_topics=True)"
      ],
      "execution_count": null,
      "outputs": []
    },
    {
      "cell_type": "code",
      "metadata": {
        "id": "sp-UyfNQMglM",
        "colab_type": "code",
        "colab": {},
        "outputId": "04ec7ddc-08d3-409f-ed95-6133106b8d39"
      },
      "source": [
        "# Print the Keyword in the 10 topics\n",
        "pprint(lda_model.print_topics())\n",
        "doc_lda = lda_model[corpus]"
      ],
      "execution_count": null,
      "outputs": [
        {
          "output_type": "stream",
          "text": [
            "[(0,\n",
            "  '0.042*\"weight\" + 0.041*\"take\" + 0.021*\"lose\" + 0.021*\"pill\" + 0.020*\"loss\" '\n",
            "  '+ 0.017*\"eat\" + 0.016*\"week\" + 0.014*\"appetite\" + 0.013*\"diet\" + '\n",
            "  '0.011*\"pound\"'),\n",
            " (1,\n",
            "  '0.014*\"cream\" + 0.010*\"elbow\" + 0.010*\"help\" + 0.009*\"group\" + '\n",
            "  '0.008*\"tendon\" + 0.007*\"oil\" + 0.006*\"prevent\" + 0.006*\"snake\" + '\n",
            "  '0.006*\"muscle\" + 0.006*\"money\"'),\n",
            " (2,\n",
            "  '0.025*\"not\" + 0.017*\"do\" + 0.014*\"get\" + 0.012*\"use\" + 0.012*\"work\" + '\n",
            "  '0.011*\"like\" + 0.010*\"would\" + 0.009*\"go\" + 0.009*\"buy\" + 0.009*\"thing\"'),\n",
            " (3,\n",
            "  '0.058*\"dry\" + 0.051*\"bar\" + 0.029*\"clothe\" + 0.019*\"load\" + 0.019*\"sheet\" + '\n",
            "  '0.016*\"bounce\" + 0.011*\"use\" + 0.010*\"softener\" + 0.010*\"stick\" + '\n",
            "  '0.009*\"white\"'),\n",
            " (4,\n",
            "  '0.042*\"kit\" + 0.032*\"aid\" + 0.023*\"\\ufeff1\" + 0.013*\"bandage\" + '\n",
            "  '0.012*\"people\" + 0.012*\"would\" + 0.010*\"plastic\" + 0.009*\"glove\" + '\n",
            "  '0.009*\"pad\" + 0.008*\"one\"'),\n",
            " (5,\n",
            "  '0.026*\"product\" + 0.017*\"-PRON-\" + 0.017*\"not\" + 0.014*\"one\" + '\n",
            "  '0.014*\"review\" + 0.013*\"use\" + 0.012*\"be\" + 0.011*\"work\" + 0.011*\"would\" + '\n",
            "  '0.010*\"do\"'),\n",
            " (6,\n",
            "  '0.008*\"venta\" + 0.006*\"seal\" + 0.005*\"dust\" + 0.004*\"weatherproof\" + '\n",
            "  '0.004*\"emotional\" + 0.004*\"select\" + 0.004*\"carbonica\" + 0.004*\"washer\" + '\n",
            "  '0.004*\"foot\" + 0.003*\"weather\"')]\n"
          ],
          "name": "stdout"
        }
      ]
    },
    {
      "cell_type": "code",
      "metadata": {
        "id": "2uRMqOtMMglR",
        "colab_type": "code",
        "colab": {},
        "outputId": "3c5b80a9-8258-4113-f93d-bd296fa344cb"
      },
      "source": [
        "# Visualize the topics\n",
        "pyLDAvis.enable_notebook()\n",
        "vis = pyLDAvis.gensim.prepare(lda_model, corpus, id2word)\n",
        "vis"
      ],
      "execution_count": null,
      "outputs": [
        {
          "output_type": "stream",
          "text": [
            "C:\\ProgramData\\Anaconda3\\lib\\site-packages\\pyLDAvis\\_prepare.py:257: FutureWarning: Sorting because non-concatenation axis is not aligned. A future version\n",
            "of pandas will change to not sort by default.\n",
            "\n",
            "To accept the future behavior, pass 'sort=False'.\n",
            "\n",
            "To retain the current behavior and silence the warning, pass 'sort=True'.\n",
            "\n",
            "  return pd.concat([default_term_info] + list(topic_dfs))\n"
          ],
          "name": "stderr"
        },
        {
          "output_type": "execute_result",
          "data": {
            "text/html": [
              "\n",
              "<link rel=\"stylesheet\" type=\"text/css\" href=\"https://cdn.rawgit.com/bmabey/pyLDAvis/files/ldavis.v1.0.0.css\">\n",
              "\n",
              "\n",
              "<div id=\"ldavis_el160023983457061849804461520\"></div>\n",
              "<script type=\"text/javascript\">\n",
              "\n",
              "var ldavis_el160023983457061849804461520_data = {\"mdsDat\": {\"x\": [0.13780849458680755, 0.17094418560577826, -0.07391187050693085, 0.16288665021249188, -0.20458200436686516, -0.08945245944665764, -0.10369299608462423], \"y\": [0.02832501743930975, 0.024703486533048585, 0.23724961634435207, -0.13479246963413366, -0.15019148199475493, 0.006296724492146938, -0.011590893179969017], \"topics\": [1, 2, 3, 4, 5, 6, 7], \"cluster\": [1, 1, 1, 1, 1, 1, 1], \"Freq\": [33.78461456298828, 29.422456741333008, 15.129860877990723, 11.514405250549316, 6.9115824699401855, 2.6199398040771484, 0.6171460151672363]}, \"tinfo\": {\"Category\": [\"Default\", \"Default\", \"Default\", \"Default\", \"Default\", \"Default\", \"Default\", \"Default\", \"Default\", \"Default\", \"Default\", \"Default\", \"Default\", \"Default\", \"Default\", \"Default\", \"Default\", \"Default\", \"Default\", \"Default\", \"Default\", \"Default\", \"Default\", \"Default\", \"Default\", \"Default\", \"Default\", \"Default\", \"Default\", \"Default\", \"Topic1\", \"Topic1\", \"Topic1\", \"Topic1\", \"Topic1\", \"Topic1\", \"Topic1\", \"Topic1\", \"Topic1\", \"Topic1\", \"Topic1\", \"Topic1\", \"Topic1\", \"Topic1\", \"Topic1\", \"Topic1\", \"Topic1\", \"Topic1\", \"Topic1\", \"Topic1\", \"Topic1\", \"Topic1\", \"Topic1\", \"Topic1\", \"Topic1\", \"Topic1\", \"Topic1\", \"Topic1\", \"Topic1\", \"Topic1\", \"Topic1\", \"Topic1\", \"Topic1\", \"Topic1\", \"Topic1\", \"Topic1\", \"Topic1\", \"Topic1\", \"Topic1\", \"Topic1\", \"Topic1\", \"Topic1\", \"Topic1\", \"Topic1\", \"Topic1\", \"Topic1\", \"Topic1\", \"Topic1\", \"Topic1\", \"Topic1\", \"Topic1\", \"Topic1\", \"Topic1\", \"Topic1\", \"Topic1\", \"Topic1\", \"Topic1\", \"Topic1\", \"Topic1\", \"Topic1\", \"Topic1\", \"Topic1\", \"Topic1\", \"Topic1\", \"Topic2\", \"Topic2\", \"Topic2\", \"Topic2\", \"Topic2\", \"Topic2\", \"Topic2\", \"Topic2\", \"Topic2\", \"Topic2\", \"Topic2\", \"Topic2\", \"Topic2\", \"Topic2\", \"Topic2\", \"Topic2\", \"Topic2\", \"Topic2\", \"Topic2\", \"Topic2\", \"Topic2\", \"Topic2\", \"Topic2\", \"Topic2\", \"Topic2\", \"Topic2\", \"Topic2\", \"Topic2\", \"Topic2\", \"Topic2\", \"Topic2\", \"Topic2\", \"Topic2\", \"Topic2\", \"Topic2\", \"Topic2\", \"Topic2\", \"Topic2\", \"Topic2\", \"Topic2\", \"Topic2\", \"Topic2\", \"Topic2\", \"Topic2\", \"Topic2\", \"Topic2\", \"Topic2\", \"Topic2\", \"Topic2\", \"Topic2\", \"Topic2\", \"Topic2\", \"Topic2\", \"Topic2\", \"Topic2\", \"Topic2\", \"Topic2\", \"Topic2\", \"Topic2\", \"Topic2\", \"Topic2\", \"Topic2\", \"Topic2\", \"Topic2\", \"Topic2\", \"Topic2\", \"Topic2\", \"Topic3\", \"Topic3\", \"Topic3\", \"Topic3\", \"Topic3\", \"Topic3\", \"Topic3\", \"Topic3\", \"Topic3\", \"Topic3\", \"Topic3\", \"Topic3\", \"Topic3\", \"Topic3\", \"Topic3\", \"Topic3\", \"Topic3\", \"Topic3\", \"Topic3\", \"Topic3\", \"Topic3\", \"Topic3\", \"Topic3\", \"Topic3\", \"Topic3\", \"Topic3\", \"Topic3\", \"Topic3\", \"Topic3\", \"Topic3\", \"Topic3\", \"Topic3\", \"Topic3\", \"Topic3\", \"Topic3\", \"Topic3\", \"Topic3\", \"Topic3\", \"Topic3\", \"Topic3\", \"Topic3\", \"Topic3\", \"Topic3\", \"Topic3\", \"Topic3\", \"Topic3\", \"Topic3\", \"Topic3\", \"Topic3\", \"Topic3\", \"Topic4\", \"Topic4\", \"Topic4\", \"Topic4\", \"Topic4\", \"Topic4\", \"Topic4\", \"Topic4\", \"Topic4\", \"Topic4\", \"Topic4\", \"Topic4\", \"Topic4\", \"Topic4\", \"Topic4\", \"Topic4\", \"Topic4\", \"Topic4\", \"Topic4\", \"Topic4\", \"Topic4\", \"Topic4\", \"Topic4\", \"Topic4\", \"Topic4\", \"Topic4\", \"Topic4\", \"Topic4\", \"Topic4\", \"Topic4\", \"Topic4\", \"Topic4\", \"Topic4\", \"Topic4\", \"Topic4\", \"Topic4\", \"Topic4\", \"Topic4\", \"Topic4\", \"Topic4\", \"Topic4\", \"Topic4\", \"Topic4\", \"Topic4\", \"Topic4\", \"Topic4\", \"Topic4\", \"Topic4\", \"Topic4\", \"Topic4\", \"Topic4\", \"Topic4\", \"Topic4\", \"Topic4\", \"Topic5\", \"Topic5\", \"Topic5\", \"Topic5\", \"Topic5\", \"Topic5\", \"Topic5\", \"Topic5\", \"Topic5\", \"Topic5\", \"Topic5\", \"Topic5\", \"Topic5\", \"Topic5\", \"Topic5\", \"Topic5\", \"Topic5\", \"Topic5\", \"Topic5\", \"Topic5\", \"Topic5\", \"Topic5\", \"Topic5\", \"Topic5\", \"Topic5\", \"Topic5\", \"Topic5\", \"Topic5\", \"Topic5\", \"Topic5\", \"Topic5\", \"Topic5\", \"Topic5\", \"Topic5\", \"Topic5\", \"Topic5\", \"Topic5\", \"Topic5\", \"Topic5\", \"Topic5\", \"Topic5\", \"Topic5\", \"Topic5\", \"Topic6\", \"Topic6\", \"Topic6\", \"Topic6\", \"Topic6\", \"Topic6\", \"Topic6\", \"Topic6\", \"Topic6\", \"Topic6\", \"Topic6\", \"Topic6\", \"Topic6\", \"Topic6\", \"Topic6\", \"Topic6\", \"Topic6\", \"Topic6\", \"Topic6\", \"Topic6\", \"Topic6\", \"Topic6\", \"Topic6\", \"Topic6\", \"Topic6\", \"Topic6\", \"Topic6\", \"Topic6\", \"Topic6\", \"Topic6\", \"Topic6\", \"Topic6\", \"Topic6\", \"Topic6\", \"Topic6\", \"Topic6\", \"Topic6\", \"Topic6\", \"Topic6\", \"Topic6\", \"Topic6\", \"Topic6\", \"Topic6\", \"Topic6\", \"Topic6\", \"Topic6\", \"Topic6\", \"Topic6\", \"Topic6\", \"Topic6\", \"Topic6\", \"Topic6\", \"Topic6\", \"Topic7\", \"Topic7\", \"Topic7\", \"Topic7\", \"Topic7\", \"Topic7\", \"Topic7\", \"Topic7\", \"Topic7\", \"Topic7\", \"Topic7\", \"Topic7\", \"Topic7\", \"Topic7\", \"Topic7\", \"Topic7\", \"Topic7\", \"Topic7\", \"Topic7\", \"Topic7\", \"Topic7\", \"Topic7\", \"Topic7\", \"Topic7\", \"Topic7\", \"Topic7\", \"Topic7\", \"Topic7\", \"Topic7\", \"Topic7\", \"Topic7\", \"Topic7\", \"Topic7\", \"Topic7\", \"Topic7\", \"Topic7\", \"Topic7\", \"Topic7\", \"Topic7\", \"Topic7\", \"Topic7\", \"Topic7\", \"Topic7\", \"Topic7\", \"Topic7\", \"Topic7\"], \"Freq\": [92.0, 114.0, 104.0, 143.0, 63.0, 86.0, 36.0, 55.0, 133.0, 56.0, 187.0, 41.0, 41.0, 35.0, 79.0, 37.0, 25.0, 35.0, 34.0, 41.0, 28.0, 159.0, 20.0, 106.0, 61.0, 40.0, 29.0, 63.0, 56.0, 39.0, 41.663429260253906, 38.5600471496582, 29.538053512573242, 24.19335174560547, 19.823352813720703, 19.090017318725586, 20.511320114135742, 18.549560546875, 16.183752059936523, 16.5378360748291, 16.05679702758789, 14.282946586608887, 21.600248336791992, 14.514142990112305, 14.833776473999023, 16.891002655029297, 12.115139961242676, 11.887115478515625, 11.813175201416016, 11.679884910583496, 11.772848129272461, 10.518065452575684, 10.54565143585205, 10.545221328735352, 10.188249588012695, 10.071494102478027, 9.92379379272461, 10.00641918182373, 10.059134483337402, 9.718271255493164, 45.138023376464844, 21.504356384277344, 52.129981994628906, 15.965210914611816, 14.895259857177734, 24.46990966796875, 82.54512023925781, 68.0842056274414, 32.77231216430664, 151.885498046875, 103.92810821533203, 56.74102020263672, 54.86958694458008, 43.46744918823242, 74.1690673828125, 74.3530502319336, 25.981826782226562, 47.46779251098633, 22.906999588012695, 26.149446487426758, 56.95980453491211, 40.599281311035156, 38.309776306152344, 50.99131774902344, 46.3141975402832, 28.178340911865234, 38.038665771484375, 30.292234420776367, 38.13838195800781, 43.75498580932617, 39.40242385864258, 34.8805046081543, 30.65104103088379, 27.71466064453125, 23.236820220947266, 17.656925201416016, 16.080236434936523, 13.83131217956543, 13.102459907531738, 12.415083885192871, 12.820219993591309, 11.628652572631836, 10.911874771118164, 11.162381172180176, 10.041398048400879, 9.84140682220459, 9.790290832519531, 18.829547882080078, 9.518590927124023, 8.80311393737793, 8.49474048614502, 8.376739501953125, 12.351518630981445, 8.0367431640625, 7.894830226898193, 10.392878532409668, 19.4489803314209, 12.709343910217285, 7.340807914733887, 6.929478168487549, 6.877532482147217, 6.981250286102295, 6.784840106964111, 6.55715274810791, 35.85334014892578, 21.28130340576172, 9.635780334472656, 24.691099166870117, 16.10281753540039, 137.24002075195312, 28.02320671081543, 89.21625518798828, 70.64530181884766, 62.028228759765625, 13.877274513244629, 24.822309494018555, 37.15232467651367, 75.06462860107422, 38.28461456298828, 44.82038116455078, 66.75943756103516, 34.65322494506836, 44.572383880615234, 87.18668365478516, 56.96434783935547, 56.40385437011719, 18.868040084838867, 33.12077331542969, 32.891510009765625, 48.332332611083984, 30.899314880371094, 52.125118255615234, 38.306949615478516, 33.59526824951172, 40.98572540283203, 30.494976043701172, 30.23741340637207, 26.946605682373047, 29.866558074951172, 28.568750381469727, 27.053442001342773, 113.38019561767578, 85.5434341430664, 33.475830078125, 25.333919525146484, 20.893753051757812, 20.888559341430664, 18.6712646484375, 18.66364288330078, 17.86897087097168, 15.71274471282959, 15.707426071166992, 18.21822738647461, 14.231841087341309, 12.009542465209961, 10.013467788696289, 9.049158096313477, 8.870430946350098, 8.045162200927734, 7.569921016693115, 14.333990097045898, 6.830924034118652, 6.830090522766113, 15.729037284851074, 6.089798450469971, 6.075068473815918, 6.075068473815918, 6.073467254638672, 6.0857930183410645, 6.085158348083496, 5.349985122680664, 24.192710876464844, 9.920044898986816, 19.67752456665039, 22.230064392089844, 18.381181716918945, 14.64670181274414, 15.299242973327637, 14.4417142868042, 26.435665130615234, 16.63198471069336, 61.03981399536133, 22.058012008666992, 30.883052825927734, 19.45485496520996, 22.564298629760742, 18.937026977539062, 30.878562927246094, 15.931816101074219, 22.640031814575195, 16.90757942199707, 39.7729606628418, 26.96341896057129, 13.023061752319336, 12.424699783325195, 15.655808448791504, 10.924054145812988, 9.212504386901855, 9.151700973510742, 16.468753814697266, 6.964314937591553, 20.72562026977539, 8.5748872756958, 6.554836273193359, 10.107666015625, 6.309521675109863, 6.308650970458984, 5.839930534362793, 5.715970993041992, 5.1859331130981445, 5.184671401977539, 4.836926460266113, 4.714509010314941, 4.592663764953613, 4.589520454406738, 21.968599319458008, 9.179232597351074, 4.122297286987305, 4.061495780944824, 4.061391830444336, 11.618342399597168, 34.74367904663086, 85.30435180664062, 28.545284271240234, 42.518959045410156, 42.639347076416016, 17.543018341064453, 84.14278411865234, 16.291112899780273, 16.113544464111328, 15.605514526367188, 31.86842155456543, 19.804718017578125, 13.547554969787598, 8.784660339355469, 11.263413429260254, 17.749374389648438, 15.523253440856934, 20.1312198638916, 18.119504928588867, 12.174400329589844, 16.317785263061523, 13.56256103515625, 12.732418060302734, 12.109174728393555, 62.90542221069336, 35.69614791870117, 19.648630142211914, 11.057097434997559, 11.364838600158691, 23.69692611694336, 8.402191162109375, 7.787846088409424, 7.7875237464904785, 7.089893817901611, 7.089650630950928, 6.392357349395752, 6.392331600189209, 6.392248153686523, 6.392199516296387, 6.392162799835205, 6.391680717468262, 6.050539016723633, 4.996433258056641, 4.9959635734558105, 12.35915756225586, 4.299164295196533, 4.2987751960754395, 3.6012368202209473, 3.213557720184326, 2.9035375118255615, 2.903381109237671, 2.9033656120300293, 2.9011361598968506, 2.9011361598968506, 70.56575775146484, 9.571531295776367, 9.354503631591797, 5.672582149505615, 22.658374786376953, 4.862119674682617, 11.856379508972168, 11.51660442352295, 9.497701644897461, 8.027848243713379, 13.557467460632324, 5.880429267883301, 7.18808650970459, 4.2898030281066895, 3.932547092437744, 3.3044254779815674, 2.9829540252685547, 2.933058500289917, 2.4215118885040283, 2.105452299118042, 2.0097339153289795, 4.7501325607299805, 1.583971619606018, 1.4831949472427368, 1.4340879917144775, 1.3425037860870361, 1.336961030960083, 1.3354053497314453, 1.4083030223846436, 1.1897555589675903, 1.0676568746566772, 1.0676568746566772, 1.0670222043991089, 1.0669522285461426, 1.0669522285461426, 1.0669522285461426, 1.0669522285461426, 1.0669522285461426, 1.0669522285461426, 1.0669522285461426, 2.2728960514068604, 2.7450640201568604, 0.9726386666297913, 0.9726386666297913, 1.908735752105713, 2.060250759124756, 1.8168214559555054, 6.441404342651367, 1.7109659910202026, 4.501201629638672, 2.3106110095977783, 2.3336126804351807, 1.5339397192001343, 1.8725318908691406, 1.358460783958435, 1.9040101766586304, 2.3570072650909424, 2.6480910778045654, 2.623948097229004, 1.948463797569275, 2.42144513130188, 2.091323137283325, 1.8926740884780884, 1.6166859865188599, 1.7987786531448364, 1.6882517337799072, 0.8861954212188721, 0.4592476785182953, 0.43164801597595215, 0.43164801597595215, 0.6015686988830566, 0.3743319809436798, 0.37091711163520813, 0.3169173002243042, 0.2319173961877823, 0.2319173961877823, 0.2319173961877823, 0.2319173961877823, 0.2319173961877823, 0.2319173961877823, 0.2319173961877823, 0.2319173961877823, 0.2319173961877823, 0.2319173961877823, 0.23187902569770813, 0.23187902569770813, 0.17454783618450165, 0.17454777657985687, 0.17454761266708374, 0.17454759776592255, 0.1745474487543106, 0.17454707622528076, 0.17454680800437927, 0.17454557120800018, 0.1745482087135315, 0.1745482236146927, 0.31116119027137756, 0.1745481938123703, 0.3060415983200073, 0.41011419892311096, 0.43164628744125366, 0.31690970063209534, 0.5289038419723511, 0.2319154590368271, 0.2319154590368271, 0.2319154590368271, 0.2319154590368271, 0.2319154590368271, 0.3013477325439453, 0.3857705295085907, 0.2702203094959259, 0.2525537312030792], \"Term\": [\"dry\", \"kit\", \"weight\", \"take\", \"bar\", \"aid\", \"clothe\", \"pill\", \"\\ufeff1\", \"lose\", \"product\", \"loss\", \"eat\", \"cream\", \"week\", \"sheet\", \"load\", \"appetite\", \"bandage\", \"help\", \"diet\", \"use\", \"bounce\", \"review\", \"people\", \"pain\", \"white\", \"feel\", \"nothing\", \"plastic\", \"humidifier\", \"great\", \"year\", \"set\", \"crane\", \"room\", \"idea\", \"fall\", \"tank\", \"night\", \"air\", \"regular\", \"clean\", \"noise\", \"wash\", \"turn\", \"inside\", \"stomach\", \"mist\", \"kid\", \"unit\", \"towel\", \"wish\", \"fake\", \"sleep\", \"new\", \"floor\", \"yet\", \"heal\", \"luck\", \"water\", \"nice\", \"thing\", \"easy\", \"must\", \"last\", \"get\", \"like\", \"seem\", \"not\", \"do\", \"go\", \"buy\", \"really\", \"work\", \"use\", \"problem\", \"make\", \"put\", \"way\", \"would\", \"can\", \"think\", \"one\", \"\\ufeff1\", \"come\", \"good\", \"see\", \"little\", \"product\", \"-PRON-\", \"review\", \"try\", \"well\", \"relief\", \"per\", \"else\", \"break\", \"benefit\", \"show\", \"natural\", \"reduce\", \"healthy\", \"medicine\", \"half\", \"continue\", \"everyone\", \"that\", \"condition\", \"curb\", \"offer\", \"heart\", \"injury\", \"customer\", \"shoot\", \"sorry\", \"three\", \"cost\", \"head\", \"available\", \"comment\", \"post\", \"bloat\", \"write\", \"pain\", \"fact\", \"penetrex\", \"hope\", \"list\", \"product\", \"s\", \"-PRON-\", \"review\", \"be\", \"amount\", \"different\", \"much\", \"one\", \"may\", \"try\", \"use\", \"well\", \"good\", \"not\", \"work\", \"would\", \"since\", \"time\", \"day\", \"take\", \"give\", \"do\", \"little\", \"week\", \"get\", \"say\", \"think\", \"nothing\", \"can\", \"buy\", \"feel\", \"kit\", \"aid\", \"bandage\", \"glove\", \"latex\", \"tweezer\", \"packet\", \"gauze\", \"band\", \"scissor\", \"alcohol\", \"burn\", \"antibiotic\", \"emergency\", \"gcbe\", \"medical\", \"affect\", \"alzheimers\", \"elastic\", \"content\", \"cm\", \"flimsy\", \"include\", \"prep\", \"dementia\", \"form\", \"genesis\", \"latch\", \"advertise\", \"workplace\", \"pad\", \"contain\", \"pair\", \"case\", \"pack\", \"size\", \"cold\", \"tape\", \"plastic\", \"quality\", \"\\ufeff1\", \"cream\", \"people\", \"price\", \"box\", \"item\", \"would\", \"cheap\", \"one\", \"little\", \"loss\", \"diet\", \"lb\", \"naturewise\", \"garcinia\", \"supplement\", \"energy\", \"meal\", \"cambogia\", \"dinner\", \"exercise\", \"metabolism\", \"dose\", \"increase\", \"suppress\", \"gym\", \"fat\", \"watch\", \"habit\", \"speed\", \"tablet\", \"calorie\", \"suppression\", \"mg\", \"pound\", \"whatsoever\", \"dosage\", \"boost\", \"snack\", \"extract\", \"eat\", \"weight\", \"appetite\", \"pill\", \"lose\", \"difference\", \"take\", \"gain\", \"effect\", \"change\", \"week\", \"feel\", \"bottle\", \"dr\", \"hour\", \"day\", \"nothing\", \"not\", \"do\", \"result\", \"work\", \"try\", \"say\", \"give\", \"bar\", \"clothe\", \"bounce\", \"term\", \"bean\", \"load\", \"mark\", \"holder\", \"cycle\", \"tendinosis\", \"streak\", \"drum\", \"spot\", \"lint\", \"soap\", \"collagen\", \"static\", \"headache\", \"laundry\", \"soften\", \"softener\", \"shirt\", \"install\", \"fresh\", \"severe\", \"black\", \"pant\", \"trouble\", \"tacs\", \"tic\", \"dry\", \"fabric\", \"dark\", \"liquid\", \"sheet\", \"residue\", \"stick\", \"white\", \"leave\", \"green\", \"use\", \"without\", \"like\", \"group\", \"tendon\", \"oil\", \"prevent\", \"snake\", \"gimmick\", \"horse\", \"tennis\", \"elbow\", \"finish\", \"suffer\", \"goal\", \"dmso\", \"math\", \"sore\", \"quick\", \"serious\", \"jerk\", \"salad\", \"commit\", \"spite\", \"gaseous\", \"veggies\", \"rat\", \"meat\", \"grain\", \"ride\", \"totally\", \"muscle\", \"plantar\", \"fasciitis\", \"bandaids\", \"skin\", \"balm\", \"cream\", \"lotion\", \"help\", \"etc\", \"almost\", \"knee\", \"rub\", \"alone\", \"supply\", \"waste\", \"money\", \"nothing\", \"cause\", \"people\", \"little\", \"pain\", \"joke\", \"would\", \"maybe\", \"venta\", \"weatherproof\", \"emotional\", \"select\", \"seal\", \"weather\", \"pricey\", \"indoor\", \"depression\", \"distancenot\", \"anemia\", \"worsen\", \"weakness\", \"circulatory\", \"scarskiali\", \"proprietary\", \"nervousness\", \"excitation\", \"laxative\", \"absurd\", \"az\", \"phoeniz\", \"automatically\", \"filterless\", \"locally\", \"evaporative\", \"phoenix\", \"refuse\", \"advantageous\", \"approval\", \"technology\", \"feed\", \"swiss\", \"washer\", \"carbonica\", \"ultrasonic\", \"dust\", \"metalicum\", \"natrum\", \"calcarea\", \"graphites\", \"muraticum\", \"otherwise\", \"foot\", \"spread\", \"cold\"], \"Total\": [92.0, 114.0, 104.0, 143.0, 63.0, 86.0, 36.0, 55.0, 133.0, 56.0, 187.0, 41.0, 41.0, 35.0, 79.0, 37.0, 25.0, 35.0, 34.0, 41.0, 28.0, 159.0, 20.0, 106.0, 61.0, 40.0, 29.0, 63.0, 56.0, 39.0, 42.30533981323242, 39.20083236694336, 30.230627059936523, 24.839353561401367, 20.461820602416992, 19.731414794921875, 21.21077537536621, 19.19012451171875, 16.821531295776367, 17.202550888061523, 16.72299575805664, 14.924975395202637, 22.577322006225586, 15.188529014587402, 15.527538299560547, 17.687515258789062, 12.755578994750977, 12.52857780456543, 12.4519624710083, 12.320480346679688, 12.43927001953125, 11.158052444458008, 11.188361167907715, 11.199548721313477, 10.834712028503418, 10.712085723876953, 10.561796188354492, 10.652010917663574, 10.712706565856934, 10.35861587524414, 48.86149978637695, 23.223182678222656, 61.578758239746094, 17.715229034423828, 16.542789459228516, 29.243698120117188, 124.61724090576172, 99.5017318725586, 43.11040496826172, 270.5931701660156, 176.2666015625, 85.97368621826172, 85.41080474853516, 68.06763458251953, 147.85365295410156, 159.36451721191406, 35.80018615722656, 89.98653411865234, 30.754653930664062, 38.91236877441406, 157.51072692871094, 87.07119750976562, 78.4354476928711, 151.8632354736328, 133.36895751953125, 46.6348991394043, 94.09174346923828, 55.37386703491211, 100.22894287109375, 187.62034606933594, 137.1929473876953, 106.15670776367188, 89.43798828125, 62.865867614746094, 23.9411563873291, 18.319927215576172, 16.78574562072754, 14.499465942382812, 13.771045684814453, 13.080464363098145, 13.520174026489258, 12.293258666992188, 11.577286720275879, 11.846040725708008, 10.704145431518555, 10.503561019897461, 10.452872276306152, 20.135025024414062, 10.186975479125977, 9.471779823303223, 9.16347885131836, 9.041110038757324, 13.360628128051758, 8.699393272399902, 8.558866500854492, 11.287056922912598, 21.139522552490234, 13.858695983886719, 8.004834175109863, 7.591831207275391, 7.540653705596924, 7.66342830657959, 7.448516845703125, 7.219449996948242, 40.68177032470703, 24.02508544921875, 10.670378684997559, 28.595260620117188, 18.353069305419922, 187.62034606933594, 34.40548324584961, 137.1929473876953, 106.15670776367188, 92.33108520507812, 16.29065704345703, 32.916412353515625, 55.5296516418457, 151.8632354736328, 67.32682800292969, 89.43798828125, 159.36451721191406, 62.865867614746094, 94.09174346923828, 270.5931701660156, 147.85365295410156, 157.51072692871094, 26.738697052001953, 68.59745788574219, 69.94160461425781, 143.92190551757812, 64.6171875, 176.2666015625, 100.22894287109375, 79.36434936523438, 124.61724090576172, 73.7551040649414, 78.4354476928711, 56.71607208251953, 87.07119750976562, 85.41080474853516, 63.81260299682617, 114.0584945678711, 86.22627258300781, 34.11526107788086, 25.972196578979492, 21.530288696289062, 21.528297424316406, 19.308752059936523, 19.305278778076172, 18.560039520263672, 16.348737716674805, 16.34636116027832, 19.02616310119629, 14.86800479888916, 12.646757125854492, 10.650378227233887, 9.68567180633545, 9.517190933227539, 8.681183815002441, 8.205503463745117, 15.545981407165527, 7.465788841247559, 7.4654412269592285, 17.35702896118164, 6.725099563598633, 6.711092472076416, 6.711092472076416, 6.7101850509643555, 6.724637508392334, 6.724207401275635, 5.985009670257568, 27.89571189880371, 11.271689414978027, 23.39293670654297, 27.95037841796875, 22.678180694580078, 17.790342330932617, 18.81292724609375, 17.777463912963867, 39.68142318725586, 23.065757751464844, 133.36895751953125, 35.462120056152344, 61.24518585205078, 30.838233947753906, 46.4333381652832, 37.700626373291016, 157.51072692871094, 26.123416900634766, 151.8632354736328, 100.22894287109375, 41.59899139404297, 28.387462615966797, 13.7772798538208, 13.190139770507812, 16.679096221923828, 11.638978958129883, 9.920722007751465, 9.859469413757324, 18.037700653076172, 7.672012805938721, 22.878705978393555, 9.47965145111084, 7.262942790985107, 11.229999542236328, 7.0177903175354, 7.017459869384766, 6.5476579666137695, 6.424924850463867, 5.893495559692383, 5.893438816070557, 5.546043395996094, 5.423469066619873, 5.300599575042725, 5.301183223724365, 25.51839828491211, 10.672239303588867, 4.830484390258789, 4.769096374511719, 4.769066333770752, 13.653053283691406, 41.287967681884766, 104.90654754638672, 35.42769241333008, 55.09685134887695, 56.941673278808594, 23.160480499267578, 143.92190551757812, 22.974628448486328, 23.100475311279297, 26.6146240234375, 79.36434936523438, 63.81260299682617, 31.125858306884766, 13.691793441772461, 23.5366268157959, 69.94160461425781, 56.71607208251953, 270.5931701660156, 176.2666015625, 34.772727966308594, 147.85365295410156, 89.43798828125, 73.7551040649414, 64.6171875, 63.600128173828125, 36.387733459472656, 20.339767456054688, 11.749913215637207, 12.077886581420898, 25.185285568237305, 9.100093841552734, 8.47828483581543, 8.478193283081055, 7.780472278594971, 7.7804951667785645, 7.082817554473877, 7.082808971405029, 7.082773685455322, 7.082776069641113, 7.082740306854248, 7.082790851593018, 6.777472496032715, 5.687241554260254, 5.687051296234131, 14.234724998474121, 4.989616870880127, 4.9895734786987305, 4.291823387145996, 3.943793535232544, 3.594090223312378, 3.5940372943878174, 3.5940330028533936, 3.593125820159912, 3.593125820159912, 92.41963958740234, 12.050929069519043, 12.271416664123535, 7.264602184295654, 37.142879486083984, 6.477289199829102, 22.152324676513672, 29.491479873657227, 27.270320892333984, 23.773517608642578, 159.36451721191406, 14.013577461242676, 99.5017318725586, 5.013273239135742, 4.656093597412109, 4.029252529144287, 3.713693857192993, 3.65934419631958, 3.1412034034729004, 2.825037956237793, 2.7296159267425537, 6.723501682281494, 2.3057212829589844, 2.208571434020996, 2.1565444469451904, 2.0618345737457275, 2.0620288848876953, 2.0683348178863525, 2.216334342956543, 1.9139286279678345, 1.7873412370681763, 1.7873412370681763, 1.7871612310409546, 1.787213921546936, 1.787213921546936, 1.787213921546936, 1.787213921546936, 1.787213921546936, 1.787213921546936, 1.787213921546936, 3.824312925338745, 4.678755760192871, 1.6920440196990967, 1.6920440196990967, 4.129573822021484, 4.940657615661621, 4.1110382080078125, 35.462120056152344, 4.1846418380737305, 41.114662170410156, 10.001262664794922, 16.108901977539062, 4.930911064147949, 9.35997200012207, 4.083924293518066, 13.192971229553223, 30.09712028503418, 51.91764831542969, 56.71607208251953, 14.976961135864258, 61.24518585205078, 100.22894287109375, 40.68177032470703, 8.0449857711792, 157.51072692871094, 30.10907745361328, 1.65767240524292, 1.2307981252670288, 1.203066110610962, 1.203066110610962, 1.7427704334259033, 1.1457242965698242, 1.1523150205612183, 1.0885087251663208, 1.0034270286560059, 1.0034270286560059, 1.0034270286560059, 1.0034270286560059, 1.0034270286560059, 1.0034270286560059, 1.0034270286560059, 1.0034270286560059, 1.0034270286560059, 1.0034270286560059, 1.0034239292144775, 1.0034239292144775, 0.9461405873298645, 0.9461406469345093, 0.946141242980957, 0.9461411833763123, 0.9461417198181152, 0.9461429119110107, 0.9461437463760376, 0.9461478590965271, 0.9462977051734924, 0.9462977051734924, 1.6970350742340088, 0.9462978839874268, 1.7482832670211792, 2.4501755237579346, 2.597369909286499, 2.249791383743286, 7.975035190582275, 1.6996201276779175, 1.6996201276779175, 1.6996201276779175, 1.6996201276779175, 1.6996201276779175, 3.2502920627593994, 8.306358337402344, 3.123969793319702, 18.81292724609375], \"loglift\": [30.0, 29.0, 28.0, 27.0, 26.0, 25.0, 24.0, 23.0, 22.0, 21.0, 20.0, 19.0, 18.0, 17.0, 16.0, 15.0, 14.0, 13.0, 12.0, 11.0, 10.0, 9.0, 8.0, 7.0, 6.0, 5.0, 4.0, 3.0, 2.0, 1.0, 1.0699000358581543, 1.0686999559402466, 1.062000036239624, 1.0587999820709229, 1.0535000562667847, 1.0520999431610107, 1.0515999794006348, 1.051200032234192, 1.0464999675750732, 1.045799970626831, 1.0444999933242798, 1.041200041770935, 1.0408999919891357, 1.0397000312805176, 1.0394999980926514, 1.0391000509262085, 1.0336999893188477, 1.0326000452041626, 1.0325000286102295, 1.0318000316619873, 1.0300999879837036, 1.0261000394821167, 1.0260000228881836, 1.024999976158142, 1.0235999822616577, 1.0234999656677246, 1.0228999853134155, 1.0226000547409058, 1.0221999883651733, 1.021399974822998, 1.0059000253677368, 1.0082999467849731, 0.9186000227928162, 0.9811999797821045, 0.9803000092506409, 0.9068999886512756, 0.67330002784729, 0.7056999802589417, 0.8109999895095825, 0.5077000260353088, 0.5569000244140625, 0.6696000099182129, 0.6427000164985657, 0.6366999745368958, 0.3953000009059906, 0.32280001044273376, 0.7645999789237976, 0.4456000030040741, 0.7906000018119812, 0.6876999735832214, 0.06800000369548798, 0.3222000002861023, 0.3686000108718872, -0.006200000178068876, 0.027499999850988388, 0.5813999772071838, 0.17949999868869781, 0.48190000653266907, 0.11890000104904175, -0.37070000171661377, -0.1624000072479248, -0.027799999341368675, 0.014299999922513962, 0.2660999894142151, 1.193600058555603, 1.1865999698638916, 1.1805000305175781, 1.176200032234192, 1.1735999584197998, 1.1712000370025635, 1.170300006866455, 1.167799949645996, 1.164199948310852, 1.1640000343322754, 1.159500002861023, 1.1583000421524048, 1.1578999757766724, 1.1563999652862549, 1.155500054359436, 1.1502000093460083, 1.1476000547409058, 1.1470999717712402, 1.1448999643325806, 1.1441999673843384, 1.142699956893921, 1.1409000158309937, 1.1401000022888184, 1.1368000507354736, 1.1368000507354736, 1.132099986076355, 1.1313999891281128, 1.1302000284194946, 1.1301000118255615, 1.1272000074386597, 1.097100019454956, 1.1021000146865845, 1.121399998664856, 1.0765999555587769, 1.0925999879837036, 0.9107000231742859, 1.0182000398635864, 0.7930999994277954, 0.8162000179290771, 0.8256000280380249, 1.063099980354309, 0.9412000179290771, 0.8215000033378601, 0.5188000202178955, 0.6589000225067139, 0.5325000286102295, 0.353300005197525, 0.6277999877929688, 0.4763000011444092, 0.09080000221729279, 0.2696000039577484, 0.1965000033378601, 0.8748000264167786, 0.4952999949455261, 0.4690000116825104, 0.13220000267028809, 0.48570001125335693, 0.005100000184029341, 0.26159998774528503, 0.3637000024318695, 0.11140000075101852, 0.3402000069618225, 0.2702000141143799, 0.47920000553131104, 0.1534000039100647, 0.1282999962568283, 0.3652999997138977, 1.8825000524520874, 1.8804999589920044, 1.8696000576019287, 1.8636000156402588, 1.8585000038146973, 1.858299970626831, 1.8549000024795532, 1.854699969291687, 1.850600004196167, 1.8487999439239502, 1.8486000299453735, 1.8451000452041626, 1.8447999954223633, 1.8367999792099, 1.826799988746643, 1.8205000162124634, 1.8180999755859375, 1.812399983406067, 1.8078999519348145, 1.8072999715805054, 1.7996000051498413, 1.7996000051498413, 1.7899999618530273, 1.7892999649047852, 1.7889000177383423, 1.7889000177383423, 1.7888000011444092, 1.788699984550476, 1.788599967956543, 1.7762999534606934, 1.7460999488830566, 1.7608000040054321, 1.715499997138977, 1.659500002861023, 1.6784000396728516, 1.694100022315979, 1.6818000078201294, 1.6806999444961548, 1.482300043106079, 1.5614999532699585, 1.1068999767303467, 1.413699984550476, 1.2037999629974365, 1.4278000593185425, 1.1669000387191772, 1.1999000310897827, 0.2590999901294708, 1.3940000534057617, -0.014800000004470348, 0.1088000014424324, 2.1166999340057373, 2.110100030899048, 2.105299949645996, 2.101799964904785, 2.098299980163574, 2.0982000827789307, 2.0875000953674316, 2.087100028991699, 2.0706000328063965, 2.0648000240325928, 2.062700033187866, 2.061300039291382, 2.059000015258789, 2.056299924850464, 2.0552000999450684, 2.0550999641418457, 2.0471999645233154, 2.0446999073028564, 2.0336999893188477, 2.033400058746338, 2.0248000621795654, 2.0215001106262207, 2.018199920654297, 2.017400026321411, 2.0118000507354736, 2.0109000205993652, 2.003000020980835, 2.000999927520752, 2.0009000301361084, 2.000200033187866, 1.9889999628067017, 1.954699993133545, 1.9456000328063965, 1.902400016784668, 1.8723000288009644, 1.8838000297546387, 1.6247999668121338, 1.8178000450134277, 1.8013999462127686, 1.6276999711990356, 1.2490999698638916, 0.9915000200271606, 1.329699993133545, 1.7178000211715698, 1.4246000051498413, 0.7903000116348267, 0.8658999800682068, -0.4368000030517578, -0.11339999735355377, 1.1121000051498413, -0.042399998754262924, 0.275299996137619, 0.4050000011920929, 0.4871000051498413, 2.6610000133514404, 2.6528000831604004, 2.637399911880493, 2.6112000942230225, 2.6110999584198, 2.6110999584198, 2.5922000408172607, 2.5869998931884766, 2.5869998931884766, 2.5789999961853027, 2.5789999961853027, 2.5694000720977783, 2.5694000720977783, 2.5694000720977783, 2.5694000720977783, 2.5694000720977783, 2.5692999362945557, 2.558500051498413, 2.5425000190734863, 2.5423998832702637, 2.5306999683380127, 2.5230000019073486, 2.5230000019073486, 2.496500015258789, 2.4672000408172607, 2.4586000442504883, 2.4586000442504883, 2.4586000442504883, 2.4581000804901123, 2.4581000804901123, 2.4021999835968018, 2.4416000843048096, 2.400599956512451, 2.4245998859405518, 2.1777000427246094, 2.3850998878479004, 2.0469000339508057, 1.7316999435424805, 1.6172000169754028, 1.586300015449524, 0.2076999992132187, 1.8035999536514282, 0.044199999421834946, 3.4862000942230225, 3.473099946975708, 3.443700075149536, 3.4228999614715576, 3.420799970626831, 3.3817999362945557, 3.3480000495910645, 3.335900068283081, 3.294600009918213, 3.2665998935699463, 3.2439000606536865, 3.2339999675750732, 3.2130000591278076, 3.208699941635132, 3.2044999599456787, 3.188499927520752, 3.166599988937378, 3.126800060272217, 3.126800060272217, 3.126300096511841, 3.126199960708618, 3.126199960708618, 3.126199960708618, 3.126199960708618, 3.126199960708618, 3.126199960708618, 3.126199960708618, 3.1217000484466553, 3.108799934387207, 3.0882999897003174, 3.0882999897003174, 2.870300054550171, 2.7672998905181885, 2.8254001140594482, 1.9363000392913818, 2.7476999759674072, 1.4299999475479126, 2.176800012588501, 1.7101000547409058, 2.474299907684326, 2.032900094985962, 2.541300058364868, 1.7063000202178955, 1.0950000286102295, 0.6661999821662903, 0.5685999989509583, 1.6024999618530273, 0.4115000069141388, -0.22759999334812164, 0.5741999745368958, 2.0373001098632812, -0.8303999900817871, 0.7609000205993652, 4.461599826812744, 4.1020002365112305, 4.06279993057251, 4.06279993057251, 4.024099826812744, 3.9691998958587646, 3.9542999267578125, 3.8538999557495117, 3.622999906539917, 3.622999906539917, 3.622999906539917, 3.622999906539917, 3.622999906539917, 3.622999906539917, 3.622999906539917, 3.622999906539917, 3.622999906539917, 3.622999906539917, 3.6229000091552734, 3.6229000091552734, 3.397599935531616, 3.397599935531616, 3.397599935531616, 3.397599935531616, 3.397599935531616, 3.397599935531616, 3.397599935531616, 3.397599935531616, 3.3975000381469727, 3.3975000381469727, 3.3914999961853027, 3.3975000381469727, 3.3452000617980957, 3.300299882888794, 3.2932000160217285, 3.1277999877929688, 2.3745999336242676, 3.0959999561309814, 3.0959999561309814, 3.0959999561309814, 3.0959999561309814, 3.0959999561309814, 2.7095999717712402, 2.0183000564575195, 2.640199899673462, 0.7771000266075134], \"logprob\": [30.0, 29.0, 28.0, 27.0, 26.0, 25.0, 24.0, 23.0, 22.0, 21.0, 20.0, 19.0, 18.0, 17.0, 16.0, 15.0, 14.0, 13.0, 12.0, 11.0, 10.0, 9.0, 8.0, 7.0, 6.0, 5.0, 4.0, 3.0, 2.0, 1.0, -4.96619987487793, -5.043600082397461, -5.310100078582764, -5.509699821472168, -5.709000110626221, -5.746699810028076, -5.674799919128418, -5.775400161743164, -5.911799907684326, -5.890200138092041, -5.9197001457214355, -6.036799907684326, -5.6230998039245605, -6.020699977874756, -5.998899936676025, -5.86899995803833, -6.201399803161621, -6.220399856567383, -6.226600170135498, -6.2378997802734375, -6.230000019073486, -6.342700004577637, -6.340099811553955, -6.340099811553955, -6.374599933624268, -6.386099815368652, -6.400899887084961, -6.392600059509277, -6.38730001449585, -6.421800136566162, -4.886099815368652, -5.627600193023682, -4.742099761962891, -5.9253997802734375, -5.994800090789795, -5.4984002113342285, -4.28249979019165, -4.475100040435791, -5.206200122833252, -3.6726999282836914, -4.05210018157959, -4.657299995422363, -4.690899848937988, -4.923799991607666, -4.389500141143799, -4.38700008392334, -5.438399791717529, -4.8358001708984375, -5.5644001960754395, -5.432000160217285, -4.653500080108643, -4.992099761962891, -5.050099849700928, -4.764200210571289, -4.860400199890137, -5.3572998046875, -5.057199954986572, -5.284900188446045, -5.054599761962891, -4.917200088500977, -5.021999835968018, -5.143899917602539, -5.273099899291992, -5.373899936676025, -5.411799907684326, -5.686399936676025, -5.78000020980835, -5.930600166320801, -5.984799861907959, -6.038700103759766, -6.006499767303467, -6.104100227355957, -6.167699813842773, -6.144999980926514, -6.250899791717529, -6.270999908447266, -6.276199817657471, -5.622099876403809, -6.304299831390381, -6.382500171661377, -6.418099880218506, -6.43209981918335, -6.043799877166748, -6.473499774932861, -6.491399765014648, -6.216400146484375, -5.589799880981445, -6.015200138092041, -6.5640997886657715, -6.621799945831299, -6.629300117492676, -6.614299774169922, -6.642899990081787, -6.677000045776367, -4.978099822998047, -5.49970006942749, -6.292099952697754, -5.351099967956543, -5.778600215911865, -3.6357998847961426, -5.2245001792907715, -4.066500186920166, -4.299900054931641, -4.429999828338623, -5.927299976348877, -5.345799922943115, -4.942500114440918, -4.239200115203857, -4.912499904632568, -4.754899978637695, -4.356500148773193, -5.012199878692627, -4.760499954223633, -4.0894999504089355, -4.515100002288818, -4.525000095367432, -5.620100021362305, -5.057400226593018, -5.0644001960754395, -4.679500102996826, -5.126800060272217, -4.603899955749512, -4.911900043487549, -5.0432000160217285, -4.844299793243408, -5.139999866485596, -5.148499965667725, -5.263700008392334, -5.160799980163574, -5.2052998542785645, -5.259799957275391, -3.1617000102996826, -3.44350004196167, -4.381700038909912, -4.660299777984619, -4.853000164031982, -4.853300094604492, -4.9654998779296875, -4.96589994430542, -5.009399890899658, -5.138000011444092, -5.138299942016602, -4.990099906921387, -5.236999988555908, -5.406799793243408, -5.588600158691406, -5.689799785614014, -5.709799766540527, -5.807400226593018, -5.868299961090088, -5.229800224304199, -5.9710001945495605, -5.971099853515625, -5.13700008392334, -6.085899829864502, -6.0883002281188965, -6.0883002281188965, -6.088600158691406, -6.08650016784668, -6.086599826812744, -6.215400218963623, -4.706399917602539, -5.597899913787842, -4.913000106811523, -4.790999889373779, -4.981200218200684, -5.2083001136779785, -5.164700031280518, -5.222400188446045, -4.617800235748291, -5.081200122833252, -3.7809998989105225, -4.798799991607666, -4.462299823760986, -4.9243998527526855, -4.776100158691406, -4.951399803161621, -4.462399959564209, -5.124199867248535, -4.772799968719482, -5.064700126647949, -3.936199903488159, -4.324900150299072, -5.052700042724609, -5.099699974060059, -4.868599891662598, -5.228400230407715, -5.398799896240234, -5.4054999351501465, -4.81790018081665, -5.678599834442139, -4.5879998207092285, -5.470600128173828, -5.739200115203857, -5.306099891662598, -5.777299880981445, -5.777500152587891, -5.854700088500977, -5.876100063323975, -5.973499774932861, -5.973700046539307, -6.043099880218506, -6.06879997253418, -6.094900131225586, -6.095600128173828, -4.529799938201904, -5.402500152587891, -6.203000068664551, -6.217899799346924, -6.217899799346924, -5.166800022125244, -4.071400165557861, -3.1731998920440674, -4.267899990081787, -3.869499921798706, -3.8666000366210938, -4.754799842834473, -3.1868999004364014, -4.828800201416016, -4.839700222015381, -4.871799945831299, -4.157800197601318, -4.633500099182129, -5.013199806213379, -5.446400165557861, -5.197800159454346, -4.743100166320801, -4.877099990844727, -4.617099761962891, -4.722400188446045, -5.120100021362305, -4.827199935913086, -5.0121002197265625, -5.075300216674805, -5.125400066375732, -2.967400074005127, -3.5339999198913574, -4.13100004196167, -4.705900192260742, -4.678500175476074, -3.943700075149536, -4.980500221252441, -5.056399822235107, -5.05649995803833, -5.150300025939941, -5.150400161743164, -5.253900051116943, -5.253900051116943, -5.253900051116943, -5.253900051116943, -5.253900051116943, -5.254000186920166, -5.308899879455566, -5.50029993057251, -5.500400066375732, -4.594600200653076, -5.650599956512451, -5.650700092315674, -5.827700138092041, -5.9415998458862305, -6.043099880218506, -6.043099880218506, -6.043099880218506, -6.043900012969971, -6.043900012969971, -2.8524999618530273, -4.850200176239014, -4.873199939727783, -5.3734002113342285, -3.9885001182556152, -5.527500152587891, -4.636099815368652, -4.665200233459473, -4.857999801635742, -5.026100158691406, -4.502099990844727, -5.337399959564209, -5.136600017547607, -4.682700157165527, -4.769700050354004, -4.943699836730957, -5.046000003814697, -5.062900066375732, -5.2546000480651855, -5.394400119781494, -5.440999984741211, -4.5808000564575195, -5.678999900817871, -5.744800090789795, -5.77839994430542, -5.844399929046631, -5.848599910736084, -5.849699974060059, -5.796599864959717, -5.965199947357178, -6.073500156402588, -6.073500156402588, -6.074100017547607, -6.07420015335083, -6.07420015335083, -6.07420015335083, -6.07420015335083, -6.07420015335083, -6.07420015335083, -6.07420015335083, -5.31790018081665, -5.129199981689453, -6.1666998863220215, -6.1666998863220215, -5.492499828338623, -5.416100025177002, -5.541900157928467, -4.276199817657471, -5.601900100708008, -4.6346001625061035, -5.301400184631348, -5.291500091552734, -5.711100101470947, -5.51170015335083, -5.832600116729736, -5.494999885559082, -5.281599998474121, -5.16510009765625, -5.174300193786621, -5.47189998626709, -5.2546000480651855, -5.401199817657471, -5.500999927520752, -5.658599853515625, -5.5518999099731445, -5.615300178527832, -4.814000129699707, -5.47130012512207, -5.533299922943115, -5.533299922943115, -5.201399803161621, -5.67579984664917, -5.684899806976318, -5.842299938201904, -6.1545000076293945, -6.1545000076293945, -6.1545000076293945, -6.1545000076293945, -6.1545000076293945, -6.1545000076293945, -6.1545000076293945, -6.1545000076293945, -6.1545000076293945, -6.1545000076293945, -6.154699802398682, -6.154699802398682, -6.438700199127197, -6.438700199127197, -6.438700199127197, -6.438700199127197, -6.438700199127197, -6.438700199127197, -6.438700199127197, -6.438700199127197, -6.438700199127197, -6.438700199127197, -5.860599994659424, -6.438700199127197, -5.877200126647949, -5.584499835968018, -5.533299922943115, -5.842299938201904, -5.330100059509277, -6.1545000076293945, -6.1545000076293945, -6.1545000076293945, -6.1545000076293945, -6.1545000076293945, -5.8927001953125, -5.645699977874756, -6.001699924468994, -6.069300174713135]}, \"token.table\": {\"Topic\": [1, 2, 3, 4, 3, 3, 3, 1, 3, 1, 2, 6, 2, 6, 3, 1, 2, 3, 2, 4, 2, 2, 6, 3, 3, 1, 6, 5, 1, 2, 3, 5, 2, 5, 2, 4, 2, 4, 5, 1, 2, 3, 2, 3, 1, 2, 3, 4, 6, 5, 4, 3, 4, 1, 2, 3, 4, 5, 1, 2, 3, 1, 3, 4, 6, 1, 4, 1, 3, 6, 1, 5, 3, 1, 2, 3, 5, 1, 2, 5, 2, 6, 2, 2, 3, 2, 3, 2, 2, 1, 2, 3, 6, 2, 2, 5, 1, 5, 1, 2, 4, 3, 2, 4, 1, 2, 4, 1, 2, 4, 6, 1, 2, 3, 4, 4, 4, 2, 4, 5, 5, 1, 5, 1, 7, 1, 2, 2, 4, 2, 4, 3, 2, 6, 2, 3, 4, 1, 6, 2, 2, 4, 2, 3, 4, 1, 2, 5, 1, 2, 1, 1, 6, 4, 1, 2, 4, 6, 6, 3, 1, 1, 4, 6, 3, 5, 2, 4, 4, 6, 3, 3, 3, 1, 2, 6, 1, 2, 4, 5, 6, 3, 1, 2, 3, 4, 5, 6, 1, 2, 3, 4, 5, 6, 5, 1, 1, 2, 5, 6, 4, 4, 2, 2, 5, 1, 2, 2, 1, 2, 4, 6, 5, 1, 2, 6, 1, 2, 4, 1, 1, 1, 3, 4, 5, 2, 1, 5, 1, 2, 3, 6, 1, 2, 6, 1, 3, 2, 6, 1, 2, 4, 3, 3, 5, 4, 1, 2, 5, 1, 2, 3, 4, 5, 6, 5, 2, 5, 2, 4, 1, 2, 3, 4, 6, 2, 5, 1, 2, 4, 2, 4, 2, 6, 1, 1, 2, 3, 4, 5, 6, 1, 2, 3, 4, 5, 1, 2, 6, 4, 6, 3, 2, 4, 5, 4, 1, 1, 2, 3, 4, 6, 1, 2, 5, 5, 1, 6, 1, 2, 5, 2, 4, 1, 1, 6, 1, 1, 1, 2, 3, 4, 5, 1, 2, 4, 5, 6, 2, 6, 1, 2, 3, 4, 2, 2, 3, 3, 1, 2, 3, 1, 2, 6, 1, 2, 3, 5, 2, 1, 2, 3, 4, 5, 6, 2, 2, 4, 6, 1, 3, 2, 2, 4, 3, 6, 1, 2, 3, 1, 2, 1, 2, 5, 6, 1, 3, 1, 3, 6, 6, 1, 2, 3, 4, 2, 1, 2, 1, 5, 1, 2, 4, 1, 2, 6, 1, 2, 6, 1, 2, 3, 6, 1, 2, 3, 4, 3, 7, 1, 2, 4, 1, 2, 4, 6, 1, 5, 1, 2, 3, 5, 5, 2, 2, 1, 2, 1, 3, 2, 6, 1, 4, 6, 5, 5, 1, 5, 6, 2, 4, 6, 5, 2, 5, 1, 2, 5, 1, 5, 6, 4, 2, 3, 6, 4, 4, 2, 4, 5, 1, 2, 3, 4, 1, 2, 3, 2, 5, 6, 6, 5, 1, 2, 1, 2, 4, 6, 1, 2, 3, 4, 6, 2, 3, 5, 1, 2, 3, 4, 1, 6, 1, 5, 1, 2, 4, 1, 3, 4, 6, 1, 1, 2, 3, 4, 5, 6, 7, 1, 1, 1, 2, 6, 4, 1, 2, 4, 1, 2, 3, 1, 2, 4, 2, 4, 1, 2, 1, 4, 1, 5, 1, 1, 4, 5, 1, 2, 4, 3, 1, 2, 3, 4, 5, 6, 2, 1, 1, 1, 2, 3], \"Freq\": [0.2842711806297302, 0.6487213969230652, 0.007289004512131214, 0.051023032516241074, 0.8922984600067139, 0.9456571936607361, 0.9973758459091187, 0.9567663669586182, 0.9788111448287964, 0.4966198205947876, 0.3724648654460907, 0.1241549551486969, 0.4897250533103943, 0.24486252665519714, 0.9215332865715027, 0.12276975810527802, 0.8593882918357849, 0.9416192770004272, 0.16935904324054718, 0.8185687065124512, 0.9220436811447144, 0.48649510741233826, 0.48649510741233826, 0.9698255062103271, 0.9673089981079102, 0.4843114912509918, 0.4843114912509918, 0.9905640482902527, 0.28159528970718384, 0.6714965105056763, 0.032491765916347504, 0.9107553362846375, 0.9440096616744995, 0.8347035646438599, 0.9397844076156616, 0.8387333154678345, 0.5461696982383728, 0.4497867822647095, 0.9832954406738281, 0.1292175054550171, 0.3661162555217743, 0.4953337609767914, 0.965552806854248, 0.9460656642913818, 0.643946647644043, 0.33953550457954407, 0.011708120815455914, 0.011708120815455914, 0.011708120815455914, 0.5883667469024658, 0.9219191670417786, 0.05543943867087364, 0.8870310187339783, 0.4708790183067322, 0.3445456326007843, 0.16078795492649078, 0.03445456176996231, 0.7700096964836121, 0.10733307152986526, 0.07155538350343704, 0.7871091961860657, 0.6676921844482422, 0.06676921993494034, 0.13353843986988068, 0.13353843986988068, 0.37573328614234924, 0.6011732220649719, 0.3445184826850891, 0.6124773025512695, 0.038279831409454346, 0.9744291305541992, 0.9893444180488586, 0.9376102089881897, 0.05315493792295456, 0.10630987584590912, 0.7973240613937378, 0.847129762172699, 0.6004087328910828, 0.2787611782550812, 0.10721584409475327, 0.9283014535903931, 0.5595465898513794, 0.9816456437110901, 0.08871784806251526, 0.8871784806251526, 0.06432530283927917, 0.9005542993545532, 0.9520580768585205, 0.9380391836166382, 0.9774301052093506, 0.1973937302827835, 0.6203802824020386, 0.16919462382793427, 0.9501910209655762, 0.9196043610572815, 0.9435972571372986, 0.1629803627729416, 0.7334116697311401, 0.27165520191192627, 0.47182217240333557, 0.25735753774642944, 0.8940421938896179, 0.035226818174123764, 0.9511241316795349, 0.04317699745297432, 0.17270798981189728, 0.7771859765052795, 0.24303984642028809, 0.7594995498657227, 0.9124072194099426, 0.4850049614906311, 0.5900153517723083, 0.2950076758861542, 0.005673224572092295, 0.10211803764104843, 0.8280742764472961, 0.9637966752052307, 0.14607290923595428, 0.6573280692100525, 0.14607290923595428, 0.8471205234527588, 0.2272244244813919, 0.7682349681854248, 0.8777390718460083, 0.12539128959178925, 0.9031777381896973, 0.05644860863685608, 0.14532078802585602, 0.8477045893669128, 0.2597349286079407, 0.692626416683197, 0.9749554395675659, 0.1487320214509964, 0.7436600923538208, 0.9531897306442261, 0.9488598704338074, 0.907192051410675, 0.6999116539955139, 0.19997474551200867, 0.9566748738288879, 0.08741752803325653, 0.9178840517997742, 0.07324369251728058, 0.07324369251728058, 0.8789242506027222, 0.0829811543226242, 0.0829811543226242, 0.8298115134239197, 0.08324632048606873, 0.8740863800048828, 0.9821824431419373, 0.9900925755500793, 0.5910011529922485, 0.9163581728935242, 0.23506328463554382, 0.4231139123439789, 0.3134177029132843, 0.03134177252650261, 0.867407500743866, 0.9376538991928101, 0.9468086361885071, 0.7223381996154785, 0.12038969993591309, 0.12038969993591309, 0.8940421938896179, 0.9320048093795776, 0.26115766167640686, 0.696420431137085, 0.9592846035957336, 0.5595300793647766, 0.9841867685317993, 0.938933789730072, 0.8941631317138672, 0.6660394668579102, 0.32900744676589966, 0.6366986632347107, 0.23213638365268707, 0.47974851727485657, 0.18570910394191742, 0.061903033405542374, 0.030951516702771187, 0.9625678062438965, 0.6629935503005981, 0.20936638116836548, 0.011631465516984463, 0.11631465703248978, 0.011631465516984463, 0.46370479464530945, 0.4038611650466919, 0.4782566428184509, 0.010627925395965576, 0.06376755237579346, 0.042511701583862305, 0.5595300793647766, 0.5883667469024658, 0.9948768615722656, 0.294445276260376, 0.3365088999271393, 0.3365088999271393, 0.7978819012641907, 0.8550102114677429, 0.8483929634094238, 0.9342175126075745, 0.8744716048240662, 0.8852857947349548, 0.9334709048271179, 0.9501362442970276, 0.884847104549408, 0.2675444483757019, 0.3891555666923523, 0.21890000998973846, 0.12161111831665039, 0.943587064743042, 0.10491248965263367, 0.8742707371711731, 0.7079550623893738, 0.46735668182373047, 0.042486973106861115, 0.46735668182373047, 0.992782473564148, 0.9900628328323364, 0.0576135478913784, 0.9218167662620544, 0.8904719948768616, 0.08904720097780228, 0.8981613516807556, 0.940764844417572, 0.8016717433929443, 0.23872283101081848, 0.2652475833892822, 0.5039703845977783, 0.5594902634620667, 0.37290307879447937, 0.37290307879447937, 0.24860206246376038, 0.9739879965782166, 0.990719735622406, 0.6084068417549133, 0.4056045711040497, 0.8206896185874939, 0.06839080154895782, 0.10258620232343674, 0.8922414183616638, 0.9753701090812683, 0.8791608214378357, 0.9435824751853943, 0.3666990101337433, 0.25668931007385254, 0.33002912998199463, 0.6834051609039307, 0.1407010704278946, 0.04020030423998833, 0.05025038123130798, 0.0703505352139473, 0.010050076059997082, 0.847125768661499, 0.13765378296375275, 0.8259227275848389, 0.8717887997627258, 0.054486799985170364, 0.3791320025920868, 0.3791320025920868, 0.16961169242858887, 0.049885790795087814, 0.019954316318035126, 0.03970572352409363, 0.9529373645782471, 0.05268549174070358, 0.1931801289319992, 0.7551587224006653, 0.024039044976234436, 0.9615617990493774, 0.47793814539909363, 0.47793814539909363, 0.9653799533843994, 0.5223003625869751, 0.21114270389080048, 0.13335329294204712, 0.12224051356315613, 0.8791118264198303, 0.4849592447280884, 0.19308796525001526, 0.5644109845161438, 0.14852920174598694, 0.07426460087299347, 0.014852920547127724, 0.4317634701728821, 0.4981886148452759, 0.0664251521229744, 0.9128280282020569, 0.5595300793647766, 0.9292076230049133, 0.9285802841186523, 0.9494019746780396, 0.5883667469024658, 0.9431856870651245, 0.9637035131454468, 0.404486745595932, 0.4622705578804016, 0.019261272624135017, 0.0577838197350502, 0.0577838197350502, 0.30614274740219116, 0.6663106679916382, 0.01800839602947235, 0.5883667469024658, 0.2137320339679718, 0.6411961317062378, 0.9067394733428955, 0.06044929847121239, 0.5883667469024658, 0.961526095867157, 0.9097704887390137, 0.933525025844574, 0.9473292231559753, 0.04306041821837425, 0.988225519657135, 0.9875873923301697, 0.5617288947105408, 0.32151588797569275, 0.03326026350259781, 0.07391169667243958, 0.0073911696672439575, 0.17631685733795166, 0.4760555326938629, 0.28210699558258057, 0.017631687223911285, 0.05289505794644356, 0.8730309009552002, 0.7445549964904785, 0.3358284831047058, 0.493865430355072, 0.15145206451416016, 0.019754616543650627, 0.6153293251991272, 0.17638099193572998, 0.7937144637107849, 0.9840097427368164, 0.035847801715135574, 0.07169560343027115, 0.8603472709655762, 0.07374310493469238, 0.8849172592163086, 0.04916206747293472, 0.042747944593429565, 0.08549588918685913, 0.8549589514732361, 0.8347159028053284, 0.9371738433837891, 0.0653112530708313, 0.31022846698760986, 0.5061622262001038, 0.0653112530708313, 0.016327813267707825, 0.03265562653541565, 0.9825366735458374, 0.21779829263687134, 0.7804438471794128, 0.5910011529922485, 0.32760921120643616, 0.6552184224128723, 0.913429319858551, 0.11756223440170288, 0.8621230721473694, 0.8921800851821899, 0.8078210353851318, 0.03242727741599083, 0.3242727816104889, 0.616118311882019, 0.7262532114982605, 0.2513953447341919, 0.23451614379882812, 0.7301979660987854, 0.026649562641978264, 0.005329912528395653, 0.7478542923927307, 0.2276078313589096, 0.2601258456707001, 0.7370232343673706, 0.45119544863700867, 0.5595300793647766, 0.6317245960235596, 0.13222143054008484, 0.13222143054008484, 0.0881476178765297, 0.9761447310447693, 0.9380249977111816, 0.9606887698173523, 0.15438556671142578, 0.7719278335571289, 0.20130719244480133, 0.4601307213306427, 0.34509801864624023, 0.3297012448310852, 0.6688225269317627, 0.5595300793647766, 0.9629314541816711, 0.7478654980659485, 0.213675856590271, 0.1453256756067276, 0.8138237595558167, 0.02906513400375843, 0.5594902634620667, 0.2847260534763336, 0.40675151348114014, 0.12202545255422592, 0.17625898122787476, 0.9786688089370728, 0.5737990140914917, 0.5417718291282654, 0.25282683968544006, 0.19864965975284576, 0.7654764652252197, 0.18557004630565643, 0.04639251157641411, 0.5224854946136475, 0.9662086963653564, 0.7606889009475708, 0.24230754375457764, 0.053846120834350586, 0.08076918125152588, 0.6192303895950317, 0.8016647696495056, 0.9347032308578491, 0.9173986315727234, 0.2617928683757782, 0.7105806469917297, 0.11242054402828217, 0.8431540727615356, 0.40480440855026245, 0.40480440855026245, 0.9229594469070435, 0.8387386202812195, 0.8198190331459045, 0.8471254706382751, 0.8791902661323547, 0.0702507421374321, 0.8430089354515076, 0.4834807217121124, 0.8859705328941345, 0.8484011292457581, 0.5595300793647766, 0.84712153673172, 0.6402110457420349, 0.8471236824989319, 0.36113590002059937, 0.09028397500514984, 0.5417038798332214, 0.9578102231025696, 0.8996856808662415, 0.4527813792228699, 0.9451000690460205, 0.07579793781042099, 0.7579793930053711, 0.15159587562084198, 0.8549699783325195, 0.9432895183563232, 0.5719897150993347, 0.9015436172485352, 0.8349276185035706, 0.04863748699426651, 0.3335142135620117, 0.027792850509285927, 0.5836498737335205, 0.9511619210243225, 0.168752983212471, 0.7875139117240906, 0.5892630219459534, 0.8996883034706116, 0.8590892553329468, 0.7327038049697876, 0.936177134513855, 0.0496647022664547, 0.9436293244361877, 0.8444470167160034, 0.1136755645275116, 0.016239365562796593, 0.016239365562796593, 0.4844748377799988, 0.38248011469841003, 0.02549867518246174, 0.08924536406993866, 0.01274933759123087, 0.8987904191017151, 0.04730475693941116, 0.8349276185035706, 0.26240038871765137, 0.48106738924980164, 0.11662239581346512, 0.13120019435882568, 0.26148489117622375, 0.5229697823524475, 0.9858351349830627, 0.8347168564796448, 0.34660887718200684, 0.5031418800354004, 0.15653303265571594, 0.961129903793335, 0.9754603505134583, 0.4444856643676758, 0.4444856643676758, 0.9646868109703064, 0.4643442630767822, 0.4204198122024536, 0.02509969100356102, 0.006274922750890255, 0.08784891664981842, 0.5595300793647766, 0.6032555103302002, 0.9660256505012512, 0.40813401341438293, 0.3322576880455017, 0.5980638861656189, 0.0664515420794487, 0.9338630437850952, 0.9209704995155334, 0.02046601101756096, 0.04093202203512192, 0.6681680083274841, 0.2826864719390869, 0.025698769837617874, 0.16380150616168976, 0.42840394377708435, 0.40320369601249695, 0.1811135709285736, 0.8102449178695679, 0.4453927278518677, 0.5567408800125122, 0.09370104968547821, 0.8433094024658203, 0.5764376521110535, 0.4068971872329712, 0.9831645488739014, 0.14271873235702515, 0.35679683089256287, 0.42815619707107544, 0.5004948973655701, 0.38551634550094604, 0.10821511596441269, 0.835420548915863, 0.3618801236152649, 0.35553133487701416, 0.1968119889497757, 0.06983651220798492, 0.006348773837089539, 0.012697547674179077, 0.9696029424667358, 0.9923710823059082, 0.9387899041175842, 0.34490785002708435, 0.19494791328907013, 0.4573777914047241], \"Term\": [\"-PRON-\", \"-PRON-\", \"-PRON-\", \"-PRON-\", \"advertise\", \"affect\", \"aid\", \"air\", \"alcohol\", \"almost\", \"almost\", \"almost\", \"alone\", \"alone\", \"alzheimers\", \"amount\", \"amount\", \"antibiotic\", \"appetite\", \"appetite\", \"available\", \"balm\", \"balm\", \"band\", \"bandage\", \"bandaids\", \"bandaids\", \"bar\", \"be\", \"be\", \"be\", \"bean\", \"benefit\", \"black\", \"bloat\", \"boost\", \"bottle\", \"bottle\", \"bounce\", \"box\", \"box\", \"box\", \"break\", \"burn\", \"buy\", \"buy\", \"buy\", \"buy\", \"buy\", \"calcarea\", \"calorie\", \"cambogia\", \"cambogia\", \"can\", \"can\", \"can\", \"can\", \"carbonica\", \"case\", \"case\", \"case\", \"cause\", \"cause\", \"cause\", \"cause\", \"change\", \"change\", \"cheap\", \"cheap\", \"cheap\", \"clean\", \"clothe\", \"cm\", \"cold\", \"cold\", \"cold\", \"collagen\", \"come\", \"come\", \"come\", \"comment\", \"commit\", \"condition\", \"contain\", \"contain\", \"content\", \"content\", \"continue\", \"cost\", \"crane\", \"cream\", \"cream\", \"cream\", \"curb\", \"customer\", \"cycle\", \"dark\", \"dark\", \"day\", \"day\", \"day\", \"dementia\", \"diet\", \"diet\", \"difference\", \"difference\", \"difference\", \"different\", \"different\", \"dinner\", \"dmso\", \"do\", \"do\", \"do\", \"do\", \"dosage\", \"dose\", \"dr\", \"dr\", \"dr\", \"drum\", \"dry\", \"dry\", \"dust\", \"dust\", \"easy\", \"easy\", \"eat\", \"eat\", \"effect\", \"effect\", \"elastic\", \"elbow\", \"elbow\", \"else\", \"emergency\", \"energy\", \"etc\", \"etc\", \"everyone\", \"exercise\", \"exercise\", \"extract\", \"extract\", \"extract\", \"fabric\", \"fabric\", \"fabric\", \"fact\", \"fact\", \"fake\", \"fall\", \"fasciitis\", \"fat\", \"feel\", \"feel\", \"feel\", \"feel\", \"finish\", \"flimsy\", \"floor\", \"foot\", \"foot\", \"foot\", \"form\", \"fresh\", \"gain\", \"gain\", \"garcinia\", \"gaseous\", \"gauze\", \"gcbe\", \"genesis\", \"get\", \"get\", \"gimmick\", \"give\", \"give\", \"give\", \"give\", \"give\", \"glove\", \"go\", \"go\", \"go\", \"go\", \"go\", \"goal\", \"good\", \"good\", \"good\", \"good\", \"good\", \"grain\", \"graphites\", \"great\", \"green\", \"green\", \"green\", \"group\", \"gym\", \"habit\", \"half\", \"head\", \"headache\", \"heal\", \"healthy\", \"heart\", \"help\", \"help\", \"help\", \"help\", \"holder\", \"hope\", \"hope\", \"horse\", \"hour\", \"hour\", \"hour\", \"humidifier\", \"idea\", \"include\", \"include\", \"increase\", \"increase\", \"injury\", \"inside\", \"install\", \"item\", \"item\", \"item\", \"jerk\", \"joke\", \"joke\", \"joke\", \"kid\", \"kit\", \"knee\", \"knee\", \"last\", \"last\", \"last\", \"latch\", \"latex\", \"laundry\", \"lb\", \"leave\", \"leave\", \"leave\", \"like\", \"like\", \"like\", \"like\", \"like\", \"like\", \"lint\", \"liquid\", \"liquid\", \"list\", \"list\", \"little\", \"little\", \"little\", \"little\", \"little\", \"load\", \"load\", \"lose\", \"lose\", \"lose\", \"loss\", \"loss\", \"lotion\", \"lotion\", \"luck\", \"make\", \"make\", \"make\", \"make\", \"mark\", \"math\", \"may\", \"may\", \"may\", \"may\", \"may\", \"maybe\", \"maybe\", \"maybe\", \"meal\", \"meat\", \"medical\", \"medicine\", \"metabolism\", \"metalicum\", \"mg\", \"mist\", \"money\", \"money\", \"money\", \"money\", \"money\", \"much\", \"much\", \"much\", \"muraticum\", \"muscle\", \"muscle\", \"must\", \"must\", \"natrum\", \"natural\", \"naturewise\", \"new\", \"nice\", \"nice\", \"night\", \"noise\", \"not\", \"not\", \"not\", \"not\", \"not\", \"nothing\", \"nothing\", \"nothing\", \"nothing\", \"nothing\", \"offer\", \"oil\", \"one\", \"one\", \"one\", \"one\", \"otherwise\", \"pack\", \"pack\", \"packet\", \"pad\", \"pad\", \"pad\", \"pain\", \"pain\", \"pain\", \"pair\", \"pair\", \"pair\", \"pant\", \"penetrex\", \"people\", \"people\", \"people\", \"people\", \"people\", \"people\", \"per\", \"pill\", \"pill\", \"plantar\", \"plastic\", \"plastic\", \"post\", \"pound\", \"pound\", \"prep\", \"prevent\", \"price\", \"price\", \"price\", \"problem\", \"problem\", \"product\", \"product\", \"product\", \"product\", \"put\", \"put\", \"quality\", \"quality\", \"quick\", \"rat\", \"really\", \"really\", \"really\", \"really\", \"reduce\", \"regular\", \"relief\", \"residue\", \"residue\", \"result\", \"result\", \"result\", \"review\", \"review\", \"ride\", \"room\", \"rub\", \"rub\", \"s\", \"s\", \"s\", \"salad\", \"say\", \"say\", \"say\", \"say\", \"scissor\", \"seal\", \"see\", \"see\", \"see\", \"seem\", \"seem\", \"seem\", \"serious\", \"set\", \"severe\", \"sheet\", \"sheet\", \"sheet\", \"sheet\", \"shirt\", \"shoot\", \"show\", \"since\", \"since\", \"size\", \"size\", \"skin\", \"skin\", \"sleep\", \"snack\", \"snake\", \"soap\", \"soften\", \"softener\", \"softener\", \"sore\", \"sorry\", \"speed\", \"spite\", \"spot\", \"spread\", \"static\", \"stick\", \"stick\", \"stick\", \"stomach\", \"streak\", \"suffer\", \"supplement\", \"supply\", \"supply\", \"supply\", \"suppress\", \"suppression\", \"swiss\", \"tablet\", \"tacs\", \"take\", \"take\", \"take\", \"take\", \"tank\", \"tape\", \"tape\", \"technology\", \"tendinosis\", \"tendon\", \"tennis\", \"term\", \"that\", \"that\", \"thing\", \"thing\", \"thing\", \"thing\", \"think\", \"think\", \"think\", \"think\", \"think\", \"three\", \"three\", \"tic\", \"time\", \"time\", \"time\", \"time\", \"totally\", \"totally\", \"towel\", \"trouble\", \"try\", \"try\", \"try\", \"turn\", \"tweezer\", \"ultrasonic\", \"ultrasonic\", \"unit\", \"use\", \"use\", \"use\", \"use\", \"use\", \"veggies\", \"venta\", \"wash\", \"washer\", \"waste\", \"waste\", \"waste\", \"watch\", \"water\", \"water\", \"water\", \"way\", \"way\", \"way\", \"week\", \"week\", \"week\", \"weight\", \"weight\", \"well\", \"well\", \"whatsoever\", \"whatsoever\", \"white\", \"white\", \"wish\", \"without\", \"without\", \"without\", \"work\", \"work\", \"work\", \"workplace\", \"would\", \"would\", \"would\", \"would\", \"would\", \"would\", \"write\", \"year\", \"yet\", \"\\ufeff1\", \"\\ufeff1\", \"\\ufeff1\"]}, \"R\": 30, \"lambda.step\": 0.01, \"plot.opts\": {\"xlab\": \"PC1\", \"ylab\": \"PC2\"}, \"topic.order\": [3, 6, 5, 1, 4, 2, 7]};\n",
              "\n",
              "function LDAvis_load_lib(url, callback){\n",
              "  var s = document.createElement('script');\n",
              "  s.src = url;\n",
              "  s.async = true;\n",
              "  s.onreadystatechange = s.onload = callback;\n",
              "  s.onerror = function(){console.warn(\"failed to load library \" + url);};\n",
              "  document.getElementsByTagName(\"head\")[0].appendChild(s);\n",
              "}\n",
              "\n",
              "if(typeof(LDAvis) !== \"undefined\"){\n",
              "   // already loaded: just create the visualization\n",
              "   !function(LDAvis){\n",
              "       new LDAvis(\"#\" + \"ldavis_el160023983457061849804461520\", ldavis_el160023983457061849804461520_data);\n",
              "   }(LDAvis);\n",
              "}else if(typeof define === \"function\" && define.amd){\n",
              "   // require.js is available: use it to load d3/LDAvis\n",
              "   require.config({paths: {d3: \"https://cdnjs.cloudflare.com/ajax/libs/d3/3.5.5/d3.min\"}});\n",
              "   require([\"d3\"], function(d3){\n",
              "      window.d3 = d3;\n",
              "      LDAvis_load_lib(\"https://cdn.rawgit.com/bmabey/pyLDAvis/files/ldavis.v1.0.0.js\", function(){\n",
              "        new LDAvis(\"#\" + \"ldavis_el160023983457061849804461520\", ldavis_el160023983457061849804461520_data);\n",
              "      });\n",
              "    });\n",
              "}else{\n",
              "    // require.js not available: dynamically load d3 & LDAvis\n",
              "    LDAvis_load_lib(\"https://cdnjs.cloudflare.com/ajax/libs/d3/3.5.5/d3.min.js\", function(){\n",
              "         LDAvis_load_lib(\"https://cdn.rawgit.com/bmabey/pyLDAvis/files/ldavis.v1.0.0.js\", function(){\n",
              "                 new LDAvis(\"#\" + \"ldavis_el160023983457061849804461520\", ldavis_el160023983457061849804461520_data);\n",
              "            })\n",
              "         });\n",
              "}\n",
              "</script>"
            ],
            "text/plain": [
              "PreparedData(topic_coordinates=              x         y  topics  cluster       Freq\n",
              "topic                                                \n",
              "2      0.137808  0.028325       1        1  33.784615\n",
              "5      0.170944  0.024703       2        1  29.422457\n",
              "4     -0.073912  0.237250       3        1  15.129861\n",
              "0      0.162887 -0.134792       4        1  11.514405\n",
              "3     -0.204582 -0.150191       5        1   6.911582\n",
              "1     -0.089452  0.006297       6        1   2.619940\n",
              "6     -0.103693 -0.011591       7        1   0.617146, topic_info=     Category        Freq       Term       Total  loglift  logprob\n",
              "1155  Default   92.000000        dry   92.000000  30.0000  30.0000\n",
              "19    Default  114.000000        kit  114.000000  29.0000  29.0000\n",
              "1607  Default  104.000000     weight  104.000000  28.0000  28.0000\n",
              "113   Default  143.000000       take  143.000000  27.0000  27.0000\n",
              "2101  Default   63.000000        bar   63.000000  26.0000  26.0000\n",
              "...       ...         ...        ...         ...      ...      ...\n",
              "2478   Topic7    0.231915  muraticum    1.699620   3.0960  -6.1545\n",
              "1403   Topic7    0.301348  otherwise    3.250292   2.7096  -5.8927\n",
              "1295   Topic7    0.385771       foot    8.306358   2.0183  -5.6457\n",
              "572    Topic7    0.270220     spread    3.123970   2.6402  -6.0017\n",
              "187    Topic7    0.252554       cold   18.812927   0.7771  -6.0693\n",
              "\n",
              "[407 rows x 6 columns], token_table=      Topic      Freq       Term\n",
              "term                            \n",
              "0         1  0.284271     -PRON-\n",
              "0         2  0.648721     -PRON-\n",
              "0         3  0.007289     -PRON-\n",
              "0         4  0.051023     -PRON-\n",
              "126       3  0.892298  advertise\n",
              "...     ...       ...        ...\n",
              "456       1  0.992371       year\n",
              "234       1  0.938790        yet\n",
              "46        1  0.344908         ﻿1\n",
              "46        2  0.194948         ﻿1\n",
              "46        3  0.457378         ﻿1\n",
              "\n",
              "[552 rows x 3 columns], R=30, lambda_step=0.01, plot_opts={'xlab': 'PC1', 'ylab': 'PC2'}, topic_order=[3, 6, 5, 1, 4, 2, 7])"
            ]
          },
          "metadata": {
            "tags": []
          },
          "execution_count": 50
        }
      ]
    },
    {
      "cell_type": "markdown",
      "metadata": {
        "id": "qM7JbqKENLJc",
        "colab_type": "text"
      },
      "source": [
        "## Themes identified through topic modeling:\n",
        "* Diet pills are perceived to be ineffective\n",
        "* Quality of medical instruments is not upto the mark\n",
        "* Laundry detergent is ineffective\n"
      ]
    }
  ]
}