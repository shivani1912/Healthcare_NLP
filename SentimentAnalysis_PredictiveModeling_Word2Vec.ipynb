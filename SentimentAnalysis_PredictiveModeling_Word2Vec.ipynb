{
  "nbformat": 4,
  "nbformat_minor": 0,
  "metadata": {
    "kernelspec": {
      "display_name": "Python 3",
      "language": "python",
      "name": "python3"
    },
    "language_info": {
      "codemirror_mode": {
        "name": "ipython",
        "version": 3
      },
      "file_extension": ".py",
      "mimetype": "text/x-python",
      "name": "python",
      "nbconvert_exporter": "python",
      "pygments_lexer": "ipython3",
      "version": "3.7.4"
    },
    "colab": {
      "name": "SentimentAnalysis_PredictiveModeling_Word2Vec.ipynb",
      "provenance": [],
      "include_colab_link": true
    }
  },
  "cells": [
    {
      "cell_type": "markdown",
      "metadata": {
        "id": "view-in-github",
        "colab_type": "text"
      },
      "source": [
        "<a href=\"https://colab.research.google.com/github/shivani1912/Healthcare_NLP/blob/master/SentimentAnalysis_PredictiveModeling_Word2Vec.ipynb\" target=\"_parent\"><img src=\"https://colab.research.google.com/assets/colab-badge.svg\" alt=\"Open In Colab\"/></a>"
      ]
    },
    {
      "cell_type": "markdown",
      "metadata": {
        "id": "CuQaLxQ3Okdj",
        "colab_type": "text"
      },
      "source": [
        "# Machine Learning Project: Sentiment Analysis on Healthcare data"
      ]
    },
    {
      "cell_type": "markdown",
      "metadata": {
        "id": "ocLXm-MnOkdn",
        "colab_type": "text"
      },
      "source": [
        "# Business Understanding"
      ]
    },
    {
      "cell_type": "markdown",
      "metadata": {
        "id": "PkOETWuyOkdp",
        "colab_type": "text"
      },
      "source": [
        "Predicting sentiment of customers expressed in these reviews will allow the\n",
        "product marketing team to gauge the customer satisfaction level and to take\n",
        "appropriate actions to address negative feedback.\n",
        "1.Model to predict sentiment\n",
        "2.Context of topics in the model "
      ]
    },
    {
      "cell_type": "markdown",
      "metadata": {
        "id": "gsFE0XpcOkdq",
        "colab_type": "text"
      },
      "source": [
        "# Data understanding"
      ]
    },
    {
      "cell_type": "code",
      "metadata": {
        "id": "wNHqb8PxOkds",
        "colab_type": "code",
        "colab": {}
      },
      "source": [
        "import json\n",
        "import pandas as pd\n",
        "%matplotlib inline\n",
        "import tqdm\n",
        "from tqdm.notebook import tqdm\n",
        "import matplotlib\n",
        "import numpy as np\n",
        "import matplotlib.pyplot as plt\n",
        "from sklearn.feature_extraction.text import CountVectorizer\n",
        "from sklearn.linear_model import LogisticRegression\n",
        "from sklearn.model_selection import train_test_split"
      ],
      "execution_count": null,
      "outputs": []
    },
    {
      "cell_type": "code",
      "metadata": {
        "id": "eIdNDP1cOkdz",
        "colab_type": "code",
        "colab": {}
      },
      "source": [
        "import re\n",
        "import numpy as np\n",
        "import pandas as pd\n",
        "from pprint import pprint\n",
        "\n",
        "# Gensim\n",
        "import gensim\n",
        "import gensim.corpora as corpora\n",
        "from gensim.utils import simple_preprocess\n",
        "from gensim.models import CoherenceModel\n",
        "\n",
        "# spacy for lemmatization\n",
        "import spacy\n",
        "\n",
        "# Plotting tools\n",
        "import pyLDAvis\n",
        "import pyLDAvis.gensim  # don't skip this\n",
        "import matplotlib.pyplot as plt\n",
        "%matplotlib inline\n",
        "\n",
        "# Enable logging for gensim - optional\n",
        "import logging\n",
        "logging.basicConfig(format='%(asctime)s : %(levelname)s : %(message)s', level=logging.ERROR)\n",
        "\n",
        "import warnings\n",
        "warnings.filterwarnings(\"ignore\",category=DeprecationWarning)"
      ],
      "execution_count": null,
      "outputs": []
    },
    {
      "cell_type": "code",
      "metadata": {
        "id": "FVrzZRgFOkd4",
        "colab_type": "code",
        "colab": {}
      },
      "source": [
        "review = []\n",
        "with open('Health_and_Personal_Care_5.json', encoding=\"UTF-8\") as fp:\n",
        "    for line in fp:\n",
        "        rev = json.loads(line)\n",
        "        review.append(rev)\n",
        "\n",
        "review = pd.DataFrame(review)"
      ],
      "execution_count": null,
      "outputs": []
    },
    {
      "cell_type": "code",
      "metadata": {
        "id": "CG3rQL4dOkd-",
        "colab_type": "code",
        "colab": {},
        "outputId": "fd2d05ab-1973-4f8f-968a-41f1118176fe"
      },
      "source": [
        "len(review)"
      ],
      "execution_count": null,
      "outputs": [
        {
          "output_type": "execute_result",
          "data": {
            "text/plain": [
              "346355"
            ]
          },
          "metadata": {
            "tags": []
          },
          "execution_count": 4
        }
      ]
    },
    {
      "cell_type": "markdown",
      "metadata": {
        "id": "rqlnDAhjOkeG",
        "colab_type": "text"
      },
      "source": [
        "# Data preparation: Data Cleaning, Tokenization & Stop words removal"
      ]
    },
    {
      "cell_type": "code",
      "metadata": {
        "id": "-rzZaSWFOkeH",
        "colab_type": "code",
        "colab": {}
      },
      "source": [
        "#NLTK Stop words\n",
        "from nltk.corpus import stopwords\n",
        "stop_words = stopwords.words('english')\n",
        "\n",
        "    "
      ],
      "execution_count": null,
      "outputs": []
    },
    {
      "cell_type": "code",
      "metadata": {
        "id": "lfWSMrqqOkeN",
        "colab_type": "code",
        "colab": {}
      },
      "source": [
        "import re\n",
        "\n",
        "# Convert to list\n",
        "data = review.reviewText.values.tolist()\n",
        "\n",
        "\n",
        "# Remove Emails\n",
        "data = [re.sub('\\S*@\\S*\\s?', '', sent) for sent in data]\n",
        "\n",
        "# Remove new line characters\n",
        "data = [re.sub('\\s+', ' ', sent) for sent in data]\n",
        "\n",
        "# Remove distracting single quotes\n",
        "data = [re.sub(\"\\'\", \"\", sent) for sent in data]\n"
      ],
      "execution_count": null,
      "outputs": []
    },
    {
      "cell_type": "code",
      "metadata": {
        "id": "8pMbvj9XOkeU",
        "colab_type": "code",
        "colab": {}
      },
      "source": [
        "#tokenizing & removing punctuations\n",
        "def sent_to_words(sentences):\n",
        "    for sentence in sentences:\n",
        "        yield(gensim.utils.simple_preprocess(str(sentence), deacc=True))  # deacc=True removes punctuations\n",
        "\n",
        "data_words = list(sent_to_words(data))\n",
        "\n"
      ],
      "execution_count": null,
      "outputs": []
    },
    {
      "cell_type": "code",
      "metadata": {
        "id": "_xKu4WPNOkea",
        "colab_type": "code",
        "colab": {},
        "outputId": "9b27a27a-2456-4729-8760-c33206e24277"
      },
      "source": [
        "len(data_words)"
      ],
      "execution_count": null,
      "outputs": [
        {
          "output_type": "execute_result",
          "data": {
            "text/plain": [
              "346355"
            ]
          },
          "metadata": {
            "tags": []
          },
          "execution_count": 12
        }
      ]
    },
    {
      "cell_type": "markdown",
      "metadata": {
        "id": "m1u7vr1LOkeh",
        "colab_type": "text"
      },
      "source": [
        "# Data preparation: Stemming\n"
      ]
    },
    {
      "cell_type": "code",
      "metadata": {
        "id": "STSYmxPjOkei",
        "colab_type": "code",
        "colab": {}
      },
      "source": [
        "#remove stopwords\n",
        "def remove_stopwords(texts):\n",
        "    return [[word for word in simple_preprocess(str(doc)) if word not in stop_words] for doc in texts]"
      ],
      "execution_count": null,
      "outputs": []
    },
    {
      "cell_type": "code",
      "metadata": {
        "id": "SAspkbdTOken",
        "colab_type": "code",
        "colab": {}
      },
      "source": [
        "import nltk\n",
        "from nltk.corpus import stopwords\n",
        "from nltk.stem import *\n",
        "\n",
        "\n",
        "stemmer = PorterStemmer()\n",
        "def stemming(texts):\n",
        "    texts_out = []\n",
        "    for sent in texts:\n",
        "        texts_out.append([stemmer.stem(word) for word in sent])\n",
        "    return texts_out"
      ],
      "execution_count": null,
      "outputs": []
    },
    {
      "cell_type": "code",
      "metadata": {
        "id": "du88hXn1Oket",
        "colab_type": "code",
        "colab": {},
        "outputId": "a3a53d38-4809-450f-8d89-166cec36f604"
      },
      "source": [
        "data_words_nostops = remove_stopwords(data_words)\n",
        "data_stemmed = stemming(data_words_nostops)\n",
        "\n",
        "print(data_stemmed[0:5])"
      ],
      "execution_count": null,
      "outputs": [
        {
          "output_type": "stream",
          "text": [
            "[['great', 'littl', 'gadget', 'around', 'weve', 'alreadi', 'use', 'look', 'splinter', 'use', 'light', 'great', 'handi', 'size', 'howev', 'wish', 'id', 'bought', 'one', 'littl', 'higher', 'magnif'], ['would', 'recommend', 'travel', 'magnifi', 'occasion', 'read', 'read', 'anoth', 'review', 'magnifi', 'problem', 'light', 'come', 'find', 'one', 'appear', 'doa', 'box', 'open', 'shut', 'viewer', 'turn', 'light', 'light', 'began', 'come', 'sever', 'time', 'light', 'appear', 'come', 'time', 'small', 'take', 'someplac', 'read', 'thing', 'like', 'menu', 'dark', 'corner', 'restaur', 'great'], ['like', 'qualiti', 'len', 'built', 'light', 'len', 'discern', 'distort', 'anywher', 'magnifi', 'everyth', 'evenli', 'without', 'rippl', 'distort', 'ive', 'seen', 'low', 'cost', 'magnifi', 'light', 'nice', 'touch', 'easi', 'use', 'want', 'pull', 'len', 'bit', 'focus', 'close', 'center', 'look', 'provid', 'nice', 'even', 'coverag', 'didnt', 'like', 'bright', 'actual', 'dimm', 'light', 'focus', 'led', 'lot', 'brighter', 'know', 'ive', 'seen', 'also', 'light', 'focus', 'center', 'field', 'view', 'len', 'close', 'focus', 'properli', 'bottom', 'line', 'good', 'valu', 'magnifi', 'could', 'made', 'great', 'better', 'qualiti', 'control', 'btw', 'feel', 'honest', 'effect', 'review', 'take', 'place', 'first', 'hand', 'experi', 'lack', 'onlin', 'shop', 'ive', 'alway', 'appreci', 'help', 'ive', 'receiv', 'review', 'work', 'hard', 'return', 'favor', 'best', 'hope', 'found', 'review', 'help', 'anyth', 'thought', 'lack', 'unclear', 'leav', 'comment', 'ill', 'fix'], ['love', 'great', 'point', 'light', 'pocket', 'magnifi', 'work', 'great', 'especi', 'forget', 'glass', 'cant', 'read', 'menu', 'dinner', 'light', 'bonu', 'dark', 'restaur', 'would', 'given', 'star', 'came', 'case', 'cover', 'glass', 'clear', 'plastic', 'case', 'come', 'littl', 'tacki', 'id', 'will', 'pay', 'littl', 'nice', 'case', 'protec', 'len'], ['nice', 'pull', 'magnifi', 'want', 'light', 'come', 'slide', 'back', 'would', 'recommend', 'buy', 'need', 'someth', 'light', 'easili', 'put', 'pocket', 'purs']]\n"
          ],
          "name": "stdout"
        }
      ]
    },
    {
      "cell_type": "code",
      "metadata": {
        "id": "wATayNKGOkey",
        "colab_type": "code",
        "colab": {},
        "outputId": "cf9e98e9-8293-4052-cde5-27435033b26f"
      },
      "source": [
        "len(data_stemmed)"
      ],
      "execution_count": null,
      "outputs": [
        {
          "output_type": "execute_result",
          "data": {
            "text/plain": [
              "346355"
            ]
          },
          "metadata": {
            "tags": []
          },
          "execution_count": 13
        }
      ]
    },
    {
      "cell_type": "markdown",
      "metadata": {
        "id": "QQVYN1MuOke3",
        "colab_type": "text"
      },
      "source": [
        "# Data preparation: Word to Vec Conversion"
      ]
    },
    {
      "cell_type": "code",
      "metadata": {
        "id": "EL6tSbuxOke4",
        "colab_type": "code",
        "colab": {},
        "outputId": "e4362b52-40e0-44b1-8ed5-286d872f0675"
      },
      "source": [
        "import gensim.models\n",
        "\n",
        "\n",
        "model = gensim.models.word2vec.Word2Vec(\n",
        "    sg=1,\n",
        "    seed=42,\n",
        "    workers=3, \n",
        "    min_count=10, \n",
        "    window=5)\n",
        "     \n",
        "model.build_vocab(sentences=data_stemmed)\n",
        "print(\"The vocabulary is built\")\n",
        "print(\"Word2Vec vocabulary length: \", len(model.wv.vocab))\n"
      ],
      "execution_count": null,
      "outputs": [
        {
          "output_type": "stream",
          "text": [
            "The vocabulary is built\n",
            "Word2Vec vocabulary length:  17004\n"
          ],
          "name": "stdout"
        }
      ]
    },
    {
      "cell_type": "code",
      "metadata": {
        "id": "B5QodUI6Oke9",
        "colab_type": "code",
        "colab": {}
      },
      "source": [
        "all_reviews_vec = []\n",
        "review_vec = np.zeros(100)\n",
        "for review_text in data_stemmed:\n",
        "    for word in review_text:\n",
        "        try:\n",
        "            review_vec = review_vec + model[word]\n",
        "         \n",
        "        except:\n",
        "             continue  #some words are not in the model vocabulary, we assume its vector is 0 * 100 dimension\n",
        "     \n",
        "    all_reviews_vec.append(review_vec) \n",
        "    review_vec = np.zeros(100)"
      ],
      "execution_count": null,
      "outputs": []
    },
    {
      "cell_type": "code",
      "metadata": {
        "id": "rl1vfpjPOkfC",
        "colab_type": "code",
        "colab": {},
        "outputId": "d405e13c-fc95-4887-ba04-44e0b6c54354"
      },
      "source": [
        "len(all_reviews_vec)"
      ],
      "execution_count": null,
      "outputs": [
        {
          "output_type": "execute_result",
          "data": {
            "text/plain": [
              "346355"
            ]
          },
          "metadata": {
            "tags": []
          },
          "execution_count": 16
        }
      ]
    },
    {
      "cell_type": "markdown",
      "metadata": {
        "id": "MFrPO2ucOkfH",
        "colab_type": "text"
      },
      "source": [
        "# Modeling: Setting the Y variable & splitting into Train & Test"
      ]
    },
    {
      "cell_type": "code",
      "metadata": {
        "id": "Apd2jQSbOkfI",
        "colab_type": "code",
        "colab": {},
        "outputId": "7e810454-4059-408a-b4bd-37766db34a9e"
      },
      "source": [
        "len(all_reviews_vec[1000])"
      ],
      "execution_count": null,
      "outputs": [
        {
          "output_type": "execute_result",
          "data": {
            "text/plain": [
              "100"
            ]
          },
          "metadata": {
            "tags": []
          },
          "execution_count": 17
        }
      ]
    },
    {
      "cell_type": "code",
      "metadata": {
        "id": "GhkcIyc-OkfM",
        "colab_type": "code",
        "colab": {}
      },
      "source": [
        "review_vec=pd.DataFrame(all_reviews_vec)"
      ],
      "execution_count": null,
      "outputs": []
    },
    {
      "cell_type": "code",
      "metadata": {
        "id": "taAyEEMJOkfQ",
        "colab_type": "code",
        "colab": {},
        "outputId": "2b5a4766-6c5f-4fd5-9077-303d9d6c6170"
      },
      "source": [
        "review_vec.head()"
      ],
      "execution_count": null,
      "outputs": [
        {
          "output_type": "execute_result",
          "data": {
            "text/html": [
              "<div>\n",
              "<style scoped>\n",
              "    .dataframe tbody tr th:only-of-type {\n",
              "        vertical-align: middle;\n",
              "    }\n",
              "\n",
              "    .dataframe tbody tr th {\n",
              "        vertical-align: top;\n",
              "    }\n",
              "\n",
              "    .dataframe thead th {\n",
              "        text-align: right;\n",
              "    }\n",
              "</style>\n",
              "<table border=\"1\" class=\"dataframe\">\n",
              "  <thead>\n",
              "    <tr style=\"text-align: right;\">\n",
              "      <th></th>\n",
              "      <th>0</th>\n",
              "      <th>1</th>\n",
              "      <th>2</th>\n",
              "      <th>3</th>\n",
              "      <th>4</th>\n",
              "      <th>5</th>\n",
              "      <th>6</th>\n",
              "      <th>7</th>\n",
              "      <th>8</th>\n",
              "      <th>9</th>\n",
              "      <th>...</th>\n",
              "      <th>90</th>\n",
              "      <th>91</th>\n",
              "      <th>92</th>\n",
              "      <th>93</th>\n",
              "      <th>94</th>\n",
              "      <th>95</th>\n",
              "      <th>96</th>\n",
              "      <th>97</th>\n",
              "      <th>98</th>\n",
              "      <th>99</th>\n",
              "    </tr>\n",
              "  </thead>\n",
              "  <tbody>\n",
              "    <tr>\n",
              "      <td>0</td>\n",
              "      <td>0.007353</td>\n",
              "      <td>-0.007914</td>\n",
              "      <td>-0.011647</td>\n",
              "      <td>0.023538</td>\n",
              "      <td>-0.008086</td>\n",
              "      <td>0.013961</td>\n",
              "      <td>-0.006420</td>\n",
              "      <td>-0.001027</td>\n",
              "      <td>-0.006167</td>\n",
              "      <td>-0.009650</td>\n",
              "      <td>...</td>\n",
              "      <td>-0.002626</td>\n",
              "      <td>0.002035</td>\n",
              "      <td>-0.014493</td>\n",
              "      <td>0.002701</td>\n",
              "      <td>-0.001201</td>\n",
              "      <td>-0.017506</td>\n",
              "      <td>0.000041</td>\n",
              "      <td>-0.002991</td>\n",
              "      <td>-0.018179</td>\n",
              "      <td>0.004532</td>\n",
              "    </tr>\n",
              "    <tr>\n",
              "      <td>1</td>\n",
              "      <td>0.030893</td>\n",
              "      <td>-0.006335</td>\n",
              "      <td>-0.001315</td>\n",
              "      <td>-0.004125</td>\n",
              "      <td>-0.005287</td>\n",
              "      <td>-0.007130</td>\n",
              "      <td>0.005752</td>\n",
              "      <td>0.017042</td>\n",
              "      <td>-0.024139</td>\n",
              "      <td>0.027196</td>\n",
              "      <td>...</td>\n",
              "      <td>0.019953</td>\n",
              "      <td>0.016582</td>\n",
              "      <td>-0.021303</td>\n",
              "      <td>-0.012404</td>\n",
              "      <td>-0.005324</td>\n",
              "      <td>0.006190</td>\n",
              "      <td>-0.020637</td>\n",
              "      <td>-0.021966</td>\n",
              "      <td>-0.011735</td>\n",
              "      <td>-0.025941</td>\n",
              "    </tr>\n",
              "    <tr>\n",
              "      <td>2</td>\n",
              "      <td>-0.006675</td>\n",
              "      <td>0.037450</td>\n",
              "      <td>-0.058256</td>\n",
              "      <td>0.043102</td>\n",
              "      <td>-0.030381</td>\n",
              "      <td>-0.023542</td>\n",
              "      <td>0.041010</td>\n",
              "      <td>0.021086</td>\n",
              "      <td>-0.005323</td>\n",
              "      <td>-0.067771</td>\n",
              "      <td>...</td>\n",
              "      <td>-0.030260</td>\n",
              "      <td>-0.021359</td>\n",
              "      <td>-0.058237</td>\n",
              "      <td>0.018744</td>\n",
              "      <td>-0.034753</td>\n",
              "      <td>0.011229</td>\n",
              "      <td>-0.051548</td>\n",
              "      <td>0.013513</td>\n",
              "      <td>0.014139</td>\n",
              "      <td>0.013390</td>\n",
              "    </tr>\n",
              "    <tr>\n",
              "      <td>3</td>\n",
              "      <td>-0.003254</td>\n",
              "      <td>-0.023621</td>\n",
              "      <td>0.010256</td>\n",
              "      <td>-0.001554</td>\n",
              "      <td>0.004874</td>\n",
              "      <td>0.006719</td>\n",
              "      <td>0.000091</td>\n",
              "      <td>0.021744</td>\n",
              "      <td>-0.015642</td>\n",
              "      <td>0.004099</td>\n",
              "      <td>...</td>\n",
              "      <td>-0.024440</td>\n",
              "      <td>0.024582</td>\n",
              "      <td>-0.020632</td>\n",
              "      <td>0.007950</td>\n",
              "      <td>0.026149</td>\n",
              "      <td>-0.006709</td>\n",
              "      <td>0.006665</td>\n",
              "      <td>-0.023926</td>\n",
              "      <td>0.009489</td>\n",
              "      <td>-0.010843</td>\n",
              "    </tr>\n",
              "    <tr>\n",
              "      <td>4</td>\n",
              "      <td>-0.011346</td>\n",
              "      <td>0.009422</td>\n",
              "      <td>-0.005538</td>\n",
              "      <td>-0.012450</td>\n",
              "      <td>-0.018265</td>\n",
              "      <td>0.006925</td>\n",
              "      <td>-0.004192</td>\n",
              "      <td>-0.012290</td>\n",
              "      <td>-0.004144</td>\n",
              "      <td>0.006804</td>\n",
              "      <td>...</td>\n",
              "      <td>-0.020158</td>\n",
              "      <td>0.028238</td>\n",
              "      <td>-0.017103</td>\n",
              "      <td>-0.000398</td>\n",
              "      <td>-0.015429</td>\n",
              "      <td>0.025166</td>\n",
              "      <td>-0.014462</td>\n",
              "      <td>0.001392</td>\n",
              "      <td>-0.009938</td>\n",
              "      <td>0.021494</td>\n",
              "    </tr>\n",
              "  </tbody>\n",
              "</table>\n",
              "<p>5 rows × 100 columns</p>\n",
              "</div>"
            ],
            "text/plain": [
              "         0         1         2         3         4         5         6   \\\n",
              "0  0.007353 -0.007914 -0.011647  0.023538 -0.008086  0.013961 -0.006420   \n",
              "1  0.030893 -0.006335 -0.001315 -0.004125 -0.005287 -0.007130  0.005752   \n",
              "2 -0.006675  0.037450 -0.058256  0.043102 -0.030381 -0.023542  0.041010   \n",
              "3 -0.003254 -0.023621  0.010256 -0.001554  0.004874  0.006719  0.000091   \n",
              "4 -0.011346  0.009422 -0.005538 -0.012450 -0.018265  0.006925 -0.004192   \n",
              "\n",
              "         7         8         9   ...        90        91        92        93  \\\n",
              "0 -0.001027 -0.006167 -0.009650  ... -0.002626  0.002035 -0.014493  0.002701   \n",
              "1  0.017042 -0.024139  0.027196  ...  0.019953  0.016582 -0.021303 -0.012404   \n",
              "2  0.021086 -0.005323 -0.067771  ... -0.030260 -0.021359 -0.058237  0.018744   \n",
              "3  0.021744 -0.015642  0.004099  ... -0.024440  0.024582 -0.020632  0.007950   \n",
              "4 -0.012290 -0.004144  0.006804  ... -0.020158  0.028238 -0.017103 -0.000398   \n",
              "\n",
              "         94        95        96        97        98        99  \n",
              "0 -0.001201 -0.017506  0.000041 -0.002991 -0.018179  0.004532  \n",
              "1 -0.005324  0.006190 -0.020637 -0.021966 -0.011735 -0.025941  \n",
              "2 -0.034753  0.011229 -0.051548  0.013513  0.014139  0.013390  \n",
              "3  0.026149 -0.006709  0.006665 -0.023926  0.009489 -0.010843  \n",
              "4 -0.015429  0.025166 -0.014462  0.001392 -0.009938  0.021494  \n",
              "\n",
              "[5 rows x 100 columns]"
            ]
          },
          "metadata": {
            "tags": []
          },
          "execution_count": 19
        }
      ]
    },
    {
      "cell_type": "code",
      "metadata": {
        "id": "j-sWIGDkOkfU",
        "colab_type": "code",
        "colab": {}
      },
      "source": [
        "review_vec.to_csv('All_data_Word2Vec.csv')"
      ],
      "execution_count": null,
      "outputs": []
    },
    {
      "cell_type": "code",
      "metadata": {
        "id": "rJGNtT5TOkfZ",
        "colab_type": "code",
        "colab": {}
      },
      "source": [
        "import pandas as pd\n",
        "review_vec=pd.read_csv('All_data_Word2Vec.csv')"
      ],
      "execution_count": null,
      "outputs": []
    },
    {
      "cell_type": "code",
      "metadata": {
        "id": "xwdakacwOkfd",
        "colab_type": "code",
        "colab": {},
        "outputId": "103c6638-f2d9-448e-e751-44e0d004db23"
      },
      "source": [
        "review_vec"
      ],
      "execution_count": null,
      "outputs": [
        {
          "output_type": "execute_result",
          "data": {
            "text/html": [
              "<div>\n",
              "<style scoped>\n",
              "    .dataframe tbody tr th:only-of-type {\n",
              "        vertical-align: middle;\n",
              "    }\n",
              "\n",
              "    .dataframe tbody tr th {\n",
              "        vertical-align: top;\n",
              "    }\n",
              "\n",
              "    .dataframe thead th {\n",
              "        text-align: right;\n",
              "    }\n",
              "</style>\n",
              "<table border=\"1\" class=\"dataframe\">\n",
              "  <thead>\n",
              "    <tr style=\"text-align: right;\">\n",
              "      <th></th>\n",
              "      <th>Unnamed: 0</th>\n",
              "      <th>0</th>\n",
              "      <th>1</th>\n",
              "      <th>2</th>\n",
              "      <th>3</th>\n",
              "      <th>4</th>\n",
              "      <th>5</th>\n",
              "      <th>6</th>\n",
              "      <th>7</th>\n",
              "      <th>8</th>\n",
              "      <th>...</th>\n",
              "      <th>90</th>\n",
              "      <th>91</th>\n",
              "      <th>92</th>\n",
              "      <th>93</th>\n",
              "      <th>94</th>\n",
              "      <th>95</th>\n",
              "      <th>96</th>\n",
              "      <th>97</th>\n",
              "      <th>98</th>\n",
              "      <th>99</th>\n",
              "    </tr>\n",
              "  </thead>\n",
              "  <tbody>\n",
              "    <tr>\n",
              "      <td>0</td>\n",
              "      <td>0</td>\n",
              "      <td>0.007353</td>\n",
              "      <td>-0.007914</td>\n",
              "      <td>-0.011647</td>\n",
              "      <td>0.023538</td>\n",
              "      <td>-0.008086</td>\n",
              "      <td>0.013961</td>\n",
              "      <td>-0.006420</td>\n",
              "      <td>-0.001027</td>\n",
              "      <td>-0.006167</td>\n",
              "      <td>...</td>\n",
              "      <td>-0.002626</td>\n",
              "      <td>0.002035</td>\n",
              "      <td>-0.014493</td>\n",
              "      <td>0.002701</td>\n",
              "      <td>-0.001201</td>\n",
              "      <td>-0.017506</td>\n",
              "      <td>0.000041</td>\n",
              "      <td>-0.002991</td>\n",
              "      <td>-0.018179</td>\n",
              "      <td>0.004532</td>\n",
              "    </tr>\n",
              "    <tr>\n",
              "      <td>1</td>\n",
              "      <td>1</td>\n",
              "      <td>0.030893</td>\n",
              "      <td>-0.006335</td>\n",
              "      <td>-0.001315</td>\n",
              "      <td>-0.004125</td>\n",
              "      <td>-0.005287</td>\n",
              "      <td>-0.007130</td>\n",
              "      <td>0.005752</td>\n",
              "      <td>0.017042</td>\n",
              "      <td>-0.024139</td>\n",
              "      <td>...</td>\n",
              "      <td>0.019953</td>\n",
              "      <td>0.016582</td>\n",
              "      <td>-0.021303</td>\n",
              "      <td>-0.012404</td>\n",
              "      <td>-0.005324</td>\n",
              "      <td>0.006190</td>\n",
              "      <td>-0.020637</td>\n",
              "      <td>-0.021966</td>\n",
              "      <td>-0.011735</td>\n",
              "      <td>-0.025941</td>\n",
              "    </tr>\n",
              "    <tr>\n",
              "      <td>2</td>\n",
              "      <td>2</td>\n",
              "      <td>-0.006675</td>\n",
              "      <td>0.037450</td>\n",
              "      <td>-0.058256</td>\n",
              "      <td>0.043102</td>\n",
              "      <td>-0.030381</td>\n",
              "      <td>-0.023542</td>\n",
              "      <td>0.041010</td>\n",
              "      <td>0.021086</td>\n",
              "      <td>-0.005323</td>\n",
              "      <td>...</td>\n",
              "      <td>-0.030260</td>\n",
              "      <td>-0.021359</td>\n",
              "      <td>-0.058237</td>\n",
              "      <td>0.018744</td>\n",
              "      <td>-0.034753</td>\n",
              "      <td>0.011229</td>\n",
              "      <td>-0.051548</td>\n",
              "      <td>0.013513</td>\n",
              "      <td>0.014139</td>\n",
              "      <td>0.013390</td>\n",
              "    </tr>\n",
              "    <tr>\n",
              "      <td>3</td>\n",
              "      <td>3</td>\n",
              "      <td>-0.003254</td>\n",
              "      <td>-0.023621</td>\n",
              "      <td>0.010256</td>\n",
              "      <td>-0.001554</td>\n",
              "      <td>0.004874</td>\n",
              "      <td>0.006719</td>\n",
              "      <td>0.000091</td>\n",
              "      <td>0.021744</td>\n",
              "      <td>-0.015642</td>\n",
              "      <td>...</td>\n",
              "      <td>-0.024440</td>\n",
              "      <td>0.024582</td>\n",
              "      <td>-0.020632</td>\n",
              "      <td>0.007950</td>\n",
              "      <td>0.026149</td>\n",
              "      <td>-0.006709</td>\n",
              "      <td>0.006665</td>\n",
              "      <td>-0.023926</td>\n",
              "      <td>0.009489</td>\n",
              "      <td>-0.010843</td>\n",
              "    </tr>\n",
              "    <tr>\n",
              "      <td>4</td>\n",
              "      <td>4</td>\n",
              "      <td>-0.011346</td>\n",
              "      <td>0.009422</td>\n",
              "      <td>-0.005538</td>\n",
              "      <td>-0.012450</td>\n",
              "      <td>-0.018265</td>\n",
              "      <td>0.006925</td>\n",
              "      <td>-0.004192</td>\n",
              "      <td>-0.012290</td>\n",
              "      <td>-0.004144</td>\n",
              "      <td>...</td>\n",
              "      <td>-0.020158</td>\n",
              "      <td>0.028238</td>\n",
              "      <td>-0.017103</td>\n",
              "      <td>-0.000398</td>\n",
              "      <td>-0.015429</td>\n",
              "      <td>0.025166</td>\n",
              "      <td>-0.014462</td>\n",
              "      <td>0.001392</td>\n",
              "      <td>-0.009938</td>\n",
              "      <td>0.021494</td>\n",
              "    </tr>\n",
              "    <tr>\n",
              "      <td>...</td>\n",
              "      <td>...</td>\n",
              "      <td>...</td>\n",
              "      <td>...</td>\n",
              "      <td>...</td>\n",
              "      <td>...</td>\n",
              "      <td>...</td>\n",
              "      <td>...</td>\n",
              "      <td>...</td>\n",
              "      <td>...</td>\n",
              "      <td>...</td>\n",
              "      <td>...</td>\n",
              "      <td>...</td>\n",
              "      <td>...</td>\n",
              "      <td>...</td>\n",
              "      <td>...</td>\n",
              "      <td>...</td>\n",
              "      <td>...</td>\n",
              "      <td>...</td>\n",
              "      <td>...</td>\n",
              "      <td>...</td>\n",
              "      <td>...</td>\n",
              "    </tr>\n",
              "    <tr>\n",
              "      <td>346350</td>\n",
              "      <td>346350</td>\n",
              "      <td>-0.008210</td>\n",
              "      <td>0.000090</td>\n",
              "      <td>0.006245</td>\n",
              "      <td>-0.021921</td>\n",
              "      <td>0.009310</td>\n",
              "      <td>-0.002173</td>\n",
              "      <td>0.004896</td>\n",
              "      <td>-0.012092</td>\n",
              "      <td>0.006064</td>\n",
              "      <td>...</td>\n",
              "      <td>0.000318</td>\n",
              "      <td>0.001943</td>\n",
              "      <td>0.002360</td>\n",
              "      <td>-0.002849</td>\n",
              "      <td>-0.015391</td>\n",
              "      <td>-0.001064</td>\n",
              "      <td>-0.000644</td>\n",
              "      <td>-0.000652</td>\n",
              "      <td>0.006647</td>\n",
              "      <td>0.001764</td>\n",
              "    </tr>\n",
              "    <tr>\n",
              "      <td>346351</td>\n",
              "      <td>346351</td>\n",
              "      <td>0.002593</td>\n",
              "      <td>0.000896</td>\n",
              "      <td>-0.013936</td>\n",
              "      <td>0.006564</td>\n",
              "      <td>0.009009</td>\n",
              "      <td>-0.002185</td>\n",
              "      <td>-0.003217</td>\n",
              "      <td>0.015667</td>\n",
              "      <td>-0.015101</td>\n",
              "      <td>...</td>\n",
              "      <td>0.005286</td>\n",
              "      <td>0.015841</td>\n",
              "      <td>0.005263</td>\n",
              "      <td>0.006793</td>\n",
              "      <td>0.005340</td>\n",
              "      <td>0.007734</td>\n",
              "      <td>0.006278</td>\n",
              "      <td>0.017514</td>\n",
              "      <td>0.007166</td>\n",
              "      <td>0.000588</td>\n",
              "    </tr>\n",
              "    <tr>\n",
              "      <td>346352</td>\n",
              "      <td>346352</td>\n",
              "      <td>0.010561</td>\n",
              "      <td>0.009255</td>\n",
              "      <td>-0.005893</td>\n",
              "      <td>0.005509</td>\n",
              "      <td>0.026961</td>\n",
              "      <td>-0.017517</td>\n",
              "      <td>0.023168</td>\n",
              "      <td>0.020433</td>\n",
              "      <td>-0.013755</td>\n",
              "      <td>...</td>\n",
              "      <td>0.004488</td>\n",
              "      <td>0.027038</td>\n",
              "      <td>-0.018667</td>\n",
              "      <td>0.016262</td>\n",
              "      <td>0.016507</td>\n",
              "      <td>0.002377</td>\n",
              "      <td>-0.000433</td>\n",
              "      <td>0.014498</td>\n",
              "      <td>0.004208</td>\n",
              "      <td>0.031081</td>\n",
              "    </tr>\n",
              "    <tr>\n",
              "      <td>346353</td>\n",
              "      <td>346353</td>\n",
              "      <td>0.011155</td>\n",
              "      <td>0.004526</td>\n",
              "      <td>-0.004579</td>\n",
              "      <td>0.009571</td>\n",
              "      <td>0.012207</td>\n",
              "      <td>-0.016709</td>\n",
              "      <td>0.037436</td>\n",
              "      <td>0.018844</td>\n",
              "      <td>-0.042179</td>\n",
              "      <td>...</td>\n",
              "      <td>0.036876</td>\n",
              "      <td>0.017813</td>\n",
              "      <td>0.002284</td>\n",
              "      <td>0.012131</td>\n",
              "      <td>0.042070</td>\n",
              "      <td>0.001320</td>\n",
              "      <td>-0.002369</td>\n",
              "      <td>0.021763</td>\n",
              "      <td>-0.002752</td>\n",
              "      <td>-0.009712</td>\n",
              "    </tr>\n",
              "    <tr>\n",
              "      <td>346354</td>\n",
              "      <td>346354</td>\n",
              "      <td>0.023790</td>\n",
              "      <td>-0.028077</td>\n",
              "      <td>-0.002612</td>\n",
              "      <td>0.041589</td>\n",
              "      <td>0.026707</td>\n",
              "      <td>-0.009211</td>\n",
              "      <td>0.012193</td>\n",
              "      <td>-0.002987</td>\n",
              "      <td>-0.031991</td>\n",
              "      <td>...</td>\n",
              "      <td>-0.037026</td>\n",
              "      <td>0.015910</td>\n",
              "      <td>-0.016231</td>\n",
              "      <td>0.022772</td>\n",
              "      <td>0.010349</td>\n",
              "      <td>0.039562</td>\n",
              "      <td>0.023350</td>\n",
              "      <td>-0.004239</td>\n",
              "      <td>-0.030911</td>\n",
              "      <td>-0.002237</td>\n",
              "    </tr>\n",
              "  </tbody>\n",
              "</table>\n",
              "<p>346355 rows × 101 columns</p>\n",
              "</div>"
            ],
            "text/plain": [
              "        Unnamed: 0         0         1         2         3         4  \\\n",
              "0                0  0.007353 -0.007914 -0.011647  0.023538 -0.008086   \n",
              "1                1  0.030893 -0.006335 -0.001315 -0.004125 -0.005287   \n",
              "2                2 -0.006675  0.037450 -0.058256  0.043102 -0.030381   \n",
              "3                3 -0.003254 -0.023621  0.010256 -0.001554  0.004874   \n",
              "4                4 -0.011346  0.009422 -0.005538 -0.012450 -0.018265   \n",
              "...            ...       ...       ...       ...       ...       ...   \n",
              "346350      346350 -0.008210  0.000090  0.006245 -0.021921  0.009310   \n",
              "346351      346351  0.002593  0.000896 -0.013936  0.006564  0.009009   \n",
              "346352      346352  0.010561  0.009255 -0.005893  0.005509  0.026961   \n",
              "346353      346353  0.011155  0.004526 -0.004579  0.009571  0.012207   \n",
              "346354      346354  0.023790 -0.028077 -0.002612  0.041589  0.026707   \n",
              "\n",
              "               5         6         7         8  ...        90        91  \\\n",
              "0       0.013961 -0.006420 -0.001027 -0.006167  ... -0.002626  0.002035   \n",
              "1      -0.007130  0.005752  0.017042 -0.024139  ...  0.019953  0.016582   \n",
              "2      -0.023542  0.041010  0.021086 -0.005323  ... -0.030260 -0.021359   \n",
              "3       0.006719  0.000091  0.021744 -0.015642  ... -0.024440  0.024582   \n",
              "4       0.006925 -0.004192 -0.012290 -0.004144  ... -0.020158  0.028238   \n",
              "...          ...       ...       ...       ...  ...       ...       ...   \n",
              "346350 -0.002173  0.004896 -0.012092  0.006064  ...  0.000318  0.001943   \n",
              "346351 -0.002185 -0.003217  0.015667 -0.015101  ...  0.005286  0.015841   \n",
              "346352 -0.017517  0.023168  0.020433 -0.013755  ...  0.004488  0.027038   \n",
              "346353 -0.016709  0.037436  0.018844 -0.042179  ...  0.036876  0.017813   \n",
              "346354 -0.009211  0.012193 -0.002987 -0.031991  ... -0.037026  0.015910   \n",
              "\n",
              "              92        93        94        95        96        97        98  \\\n",
              "0      -0.014493  0.002701 -0.001201 -0.017506  0.000041 -0.002991 -0.018179   \n",
              "1      -0.021303 -0.012404 -0.005324  0.006190 -0.020637 -0.021966 -0.011735   \n",
              "2      -0.058237  0.018744 -0.034753  0.011229 -0.051548  0.013513  0.014139   \n",
              "3      -0.020632  0.007950  0.026149 -0.006709  0.006665 -0.023926  0.009489   \n",
              "4      -0.017103 -0.000398 -0.015429  0.025166 -0.014462  0.001392 -0.009938   \n",
              "...          ...       ...       ...       ...       ...       ...       ...   \n",
              "346350  0.002360 -0.002849 -0.015391 -0.001064 -0.000644 -0.000652  0.006647   \n",
              "346351  0.005263  0.006793  0.005340  0.007734  0.006278  0.017514  0.007166   \n",
              "346352 -0.018667  0.016262  0.016507  0.002377 -0.000433  0.014498  0.004208   \n",
              "346353  0.002284  0.012131  0.042070  0.001320 -0.002369  0.021763 -0.002752   \n",
              "346354 -0.016231  0.022772  0.010349  0.039562  0.023350 -0.004239 -0.030911   \n",
              "\n",
              "              99  \n",
              "0       0.004532  \n",
              "1      -0.025941  \n",
              "2       0.013390  \n",
              "3      -0.010843  \n",
              "4       0.021494  \n",
              "...          ...  \n",
              "346350  0.001764  \n",
              "346351  0.000588  \n",
              "346352  0.031081  \n",
              "346353 -0.009712  \n",
              "346354 -0.002237  \n",
              "\n",
              "[346355 rows x 101 columns]"
            ]
          },
          "metadata": {
            "tags": []
          },
          "execution_count": 4
        }
      ]
    },
    {
      "cell_type": "code",
      "metadata": {
        "id": "gbT0FwH-Okfi",
        "colab_type": "code",
        "colab": {}
      },
      "source": [
        "#negative sentiment is 1, positive sentiment is 0\n",
        "all_data=pd.concat([review['overall'], review_vec], axis=1)\n",
        "all_data.loc[all_data.overall <3 , 'Sentiment'] = 1\n",
        "all_data.loc[all_data.overall >= 3, 'Sentiment'] = 0\n",
        "all_data=all_data.drop(['overall'], axis=1)"
      ],
      "execution_count": null,
      "outputs": []
    },
    {
      "cell_type": "code",
      "metadata": {
        "id": "7m9lXISyOkfo",
        "colab_type": "code",
        "colab": {}
      },
      "source": [
        "model_data=all_data[0:5000]"
      ],
      "execution_count": null,
      "outputs": []
    },
    {
      "cell_type": "code",
      "metadata": {
        "id": "3vLCBSOpOkft",
        "colab_type": "code",
        "colab": {}
      },
      "source": [
        "model_data=model_data.drop(['Unnamed: 0'], axis=1)"
      ],
      "execution_count": null,
      "outputs": []
    },
    {
      "cell_type": "code",
      "metadata": {
        "id": "mlEY70AhOkf0",
        "colab_type": "code",
        "colab": {},
        "outputId": "0a8ae293-9927-481d-a542-90f278a8e42d"
      },
      "source": [
        "model_data"
      ],
      "execution_count": null,
      "outputs": [
        {
          "output_type": "execute_result",
          "data": {
            "text/html": [
              "<div>\n",
              "<style scoped>\n",
              "    .dataframe tbody tr th:only-of-type {\n",
              "        vertical-align: middle;\n",
              "    }\n",
              "\n",
              "    .dataframe tbody tr th {\n",
              "        vertical-align: top;\n",
              "    }\n",
              "\n",
              "    .dataframe thead th {\n",
              "        text-align: right;\n",
              "    }\n",
              "</style>\n",
              "<table border=\"1\" class=\"dataframe\">\n",
              "  <thead>\n",
              "    <tr style=\"text-align: right;\">\n",
              "      <th></th>\n",
              "      <th>0</th>\n",
              "      <th>1</th>\n",
              "      <th>2</th>\n",
              "      <th>3</th>\n",
              "      <th>4</th>\n",
              "      <th>5</th>\n",
              "      <th>6</th>\n",
              "      <th>7</th>\n",
              "      <th>8</th>\n",
              "      <th>9</th>\n",
              "      <th>...</th>\n",
              "      <th>91</th>\n",
              "      <th>92</th>\n",
              "      <th>93</th>\n",
              "      <th>94</th>\n",
              "      <th>95</th>\n",
              "      <th>96</th>\n",
              "      <th>97</th>\n",
              "      <th>98</th>\n",
              "      <th>99</th>\n",
              "      <th>Sentiment</th>\n",
              "    </tr>\n",
              "  </thead>\n",
              "  <tbody>\n",
              "    <tr>\n",
              "      <td>0</td>\n",
              "      <td>0.007353</td>\n",
              "      <td>-0.007914</td>\n",
              "      <td>-0.011647</td>\n",
              "      <td>0.023538</td>\n",
              "      <td>-0.008086</td>\n",
              "      <td>0.013961</td>\n",
              "      <td>-0.006420</td>\n",
              "      <td>-0.001027</td>\n",
              "      <td>-0.006167</td>\n",
              "      <td>-0.009650</td>\n",
              "      <td>...</td>\n",
              "      <td>0.002035</td>\n",
              "      <td>-0.014493</td>\n",
              "      <td>0.002701</td>\n",
              "      <td>-0.001201</td>\n",
              "      <td>-0.017506</td>\n",
              "      <td>0.000041</td>\n",
              "      <td>-0.002991</td>\n",
              "      <td>-0.018179</td>\n",
              "      <td>0.004532</td>\n",
              "      <td>0.0</td>\n",
              "    </tr>\n",
              "    <tr>\n",
              "      <td>1</td>\n",
              "      <td>0.030893</td>\n",
              "      <td>-0.006335</td>\n",
              "      <td>-0.001315</td>\n",
              "      <td>-0.004125</td>\n",
              "      <td>-0.005287</td>\n",
              "      <td>-0.007130</td>\n",
              "      <td>0.005752</td>\n",
              "      <td>0.017042</td>\n",
              "      <td>-0.024139</td>\n",
              "      <td>0.027196</td>\n",
              "      <td>...</td>\n",
              "      <td>0.016582</td>\n",
              "      <td>-0.021303</td>\n",
              "      <td>-0.012404</td>\n",
              "      <td>-0.005324</td>\n",
              "      <td>0.006190</td>\n",
              "      <td>-0.020637</td>\n",
              "      <td>-0.021966</td>\n",
              "      <td>-0.011735</td>\n",
              "      <td>-0.025941</td>\n",
              "      <td>0.0</td>\n",
              "    </tr>\n",
              "    <tr>\n",
              "      <td>2</td>\n",
              "      <td>-0.006675</td>\n",
              "      <td>0.037450</td>\n",
              "      <td>-0.058256</td>\n",
              "      <td>0.043102</td>\n",
              "      <td>-0.030381</td>\n",
              "      <td>-0.023542</td>\n",
              "      <td>0.041010</td>\n",
              "      <td>0.021086</td>\n",
              "      <td>-0.005323</td>\n",
              "      <td>-0.067771</td>\n",
              "      <td>...</td>\n",
              "      <td>-0.021359</td>\n",
              "      <td>-0.058237</td>\n",
              "      <td>0.018744</td>\n",
              "      <td>-0.034753</td>\n",
              "      <td>0.011229</td>\n",
              "      <td>-0.051548</td>\n",
              "      <td>0.013513</td>\n",
              "      <td>0.014139</td>\n",
              "      <td>0.013390</td>\n",
              "      <td>0.0</td>\n",
              "    </tr>\n",
              "    <tr>\n",
              "      <td>3</td>\n",
              "      <td>-0.003254</td>\n",
              "      <td>-0.023621</td>\n",
              "      <td>0.010256</td>\n",
              "      <td>-0.001554</td>\n",
              "      <td>0.004874</td>\n",
              "      <td>0.006719</td>\n",
              "      <td>0.000091</td>\n",
              "      <td>0.021744</td>\n",
              "      <td>-0.015642</td>\n",
              "      <td>0.004099</td>\n",
              "      <td>...</td>\n",
              "      <td>0.024582</td>\n",
              "      <td>-0.020632</td>\n",
              "      <td>0.007950</td>\n",
              "      <td>0.026149</td>\n",
              "      <td>-0.006709</td>\n",
              "      <td>0.006665</td>\n",
              "      <td>-0.023926</td>\n",
              "      <td>0.009489</td>\n",
              "      <td>-0.010843</td>\n",
              "      <td>0.0</td>\n",
              "    </tr>\n",
              "    <tr>\n",
              "      <td>4</td>\n",
              "      <td>-0.011346</td>\n",
              "      <td>0.009422</td>\n",
              "      <td>-0.005538</td>\n",
              "      <td>-0.012450</td>\n",
              "      <td>-0.018265</td>\n",
              "      <td>0.006925</td>\n",
              "      <td>-0.004192</td>\n",
              "      <td>-0.012290</td>\n",
              "      <td>-0.004144</td>\n",
              "      <td>0.006804</td>\n",
              "      <td>...</td>\n",
              "      <td>0.028238</td>\n",
              "      <td>-0.017103</td>\n",
              "      <td>-0.000398</td>\n",
              "      <td>-0.015429</td>\n",
              "      <td>0.025166</td>\n",
              "      <td>-0.014462</td>\n",
              "      <td>0.001392</td>\n",
              "      <td>-0.009938</td>\n",
              "      <td>0.021494</td>\n",
              "      <td>0.0</td>\n",
              "    </tr>\n",
              "    <tr>\n",
              "      <td>...</td>\n",
              "      <td>...</td>\n",
              "      <td>...</td>\n",
              "      <td>...</td>\n",
              "      <td>...</td>\n",
              "      <td>...</td>\n",
              "      <td>...</td>\n",
              "      <td>...</td>\n",
              "      <td>...</td>\n",
              "      <td>...</td>\n",
              "      <td>...</td>\n",
              "      <td>...</td>\n",
              "      <td>...</td>\n",
              "      <td>...</td>\n",
              "      <td>...</td>\n",
              "      <td>...</td>\n",
              "      <td>...</td>\n",
              "      <td>...</td>\n",
              "      <td>...</td>\n",
              "      <td>...</td>\n",
              "      <td>...</td>\n",
              "      <td>...</td>\n",
              "    </tr>\n",
              "    <tr>\n",
              "      <td>4995</td>\n",
              "      <td>0.019136</td>\n",
              "      <td>-0.002178</td>\n",
              "      <td>-0.011625</td>\n",
              "      <td>0.022120</td>\n",
              "      <td>-0.007130</td>\n",
              "      <td>0.014280</td>\n",
              "      <td>0.001734</td>\n",
              "      <td>0.015283</td>\n",
              "      <td>0.000283</td>\n",
              "      <td>0.002538</td>\n",
              "      <td>...</td>\n",
              "      <td>0.024656</td>\n",
              "      <td>0.010490</td>\n",
              "      <td>-0.017422</td>\n",
              "      <td>0.017684</td>\n",
              "      <td>0.018279</td>\n",
              "      <td>-0.018311</td>\n",
              "      <td>-0.000553</td>\n",
              "      <td>-0.017756</td>\n",
              "      <td>-0.000246</td>\n",
              "      <td>0.0</td>\n",
              "    </tr>\n",
              "    <tr>\n",
              "      <td>4996</td>\n",
              "      <td>-0.020885</td>\n",
              "      <td>0.054899</td>\n",
              "      <td>-0.024450</td>\n",
              "      <td>0.068251</td>\n",
              "      <td>-0.041456</td>\n",
              "      <td>0.057327</td>\n",
              "      <td>0.001013</td>\n",
              "      <td>0.059409</td>\n",
              "      <td>-0.042674</td>\n",
              "      <td>0.013005</td>\n",
              "      <td>...</td>\n",
              "      <td>-0.007687</td>\n",
              "      <td>0.083449</td>\n",
              "      <td>-0.016194</td>\n",
              "      <td>0.003843</td>\n",
              "      <td>0.058584</td>\n",
              "      <td>-0.069480</td>\n",
              "      <td>0.003791</td>\n",
              "      <td>0.003923</td>\n",
              "      <td>-0.015146</td>\n",
              "      <td>0.0</td>\n",
              "    </tr>\n",
              "    <tr>\n",
              "      <td>4997</td>\n",
              "      <td>0.019197</td>\n",
              "      <td>-0.022789</td>\n",
              "      <td>-0.004311</td>\n",
              "      <td>0.012212</td>\n",
              "      <td>-0.004354</td>\n",
              "      <td>0.007857</td>\n",
              "      <td>-0.022006</td>\n",
              "      <td>0.006060</td>\n",
              "      <td>-0.012523</td>\n",
              "      <td>-0.015703</td>\n",
              "      <td>...</td>\n",
              "      <td>0.000471</td>\n",
              "      <td>0.012641</td>\n",
              "      <td>-0.010773</td>\n",
              "      <td>0.007404</td>\n",
              "      <td>0.012114</td>\n",
              "      <td>-0.002094</td>\n",
              "      <td>0.019178</td>\n",
              "      <td>-0.002037</td>\n",
              "      <td>-0.016075</td>\n",
              "      <td>0.0</td>\n",
              "    </tr>\n",
              "    <tr>\n",
              "      <td>4998</td>\n",
              "      <td>-0.006281</td>\n",
              "      <td>0.003756</td>\n",
              "      <td>-0.001622</td>\n",
              "      <td>-0.001098</td>\n",
              "      <td>0.001587</td>\n",
              "      <td>-0.001117</td>\n",
              "      <td>0.008227</td>\n",
              "      <td>0.003303</td>\n",
              "      <td>-0.003908</td>\n",
              "      <td>-0.002742</td>\n",
              "      <td>...</td>\n",
              "      <td>0.008434</td>\n",
              "      <td>0.021281</td>\n",
              "      <td>0.004417</td>\n",
              "      <td>0.007237</td>\n",
              "      <td>-0.003144</td>\n",
              "      <td>0.014231</td>\n",
              "      <td>0.019486</td>\n",
              "      <td>0.003839</td>\n",
              "      <td>0.012531</td>\n",
              "      <td>0.0</td>\n",
              "    </tr>\n",
              "    <tr>\n",
              "      <td>4999</td>\n",
              "      <td>0.004981</td>\n",
              "      <td>0.008140</td>\n",
              "      <td>0.027340</td>\n",
              "      <td>0.015216</td>\n",
              "      <td>0.004367</td>\n",
              "      <td>-0.003858</td>\n",
              "      <td>0.026694</td>\n",
              "      <td>0.003152</td>\n",
              "      <td>-0.027524</td>\n",
              "      <td>0.001805</td>\n",
              "      <td>...</td>\n",
              "      <td>-0.014644</td>\n",
              "      <td>0.014344</td>\n",
              "      <td>0.020144</td>\n",
              "      <td>0.014846</td>\n",
              "      <td>0.013869</td>\n",
              "      <td>-0.001127</td>\n",
              "      <td>0.005222</td>\n",
              "      <td>0.024035</td>\n",
              "      <td>0.002746</td>\n",
              "      <td>0.0</td>\n",
              "    </tr>\n",
              "  </tbody>\n",
              "</table>\n",
              "<p>5000 rows × 101 columns</p>\n",
              "</div>"
            ],
            "text/plain": [
              "             0         1         2         3         4         5         6  \\\n",
              "0     0.007353 -0.007914 -0.011647  0.023538 -0.008086  0.013961 -0.006420   \n",
              "1     0.030893 -0.006335 -0.001315 -0.004125 -0.005287 -0.007130  0.005752   \n",
              "2    -0.006675  0.037450 -0.058256  0.043102 -0.030381 -0.023542  0.041010   \n",
              "3    -0.003254 -0.023621  0.010256 -0.001554  0.004874  0.006719  0.000091   \n",
              "4    -0.011346  0.009422 -0.005538 -0.012450 -0.018265  0.006925 -0.004192   \n",
              "...        ...       ...       ...       ...       ...       ...       ...   \n",
              "4995  0.019136 -0.002178 -0.011625  0.022120 -0.007130  0.014280  0.001734   \n",
              "4996 -0.020885  0.054899 -0.024450  0.068251 -0.041456  0.057327  0.001013   \n",
              "4997  0.019197 -0.022789 -0.004311  0.012212 -0.004354  0.007857 -0.022006   \n",
              "4998 -0.006281  0.003756 -0.001622 -0.001098  0.001587 -0.001117  0.008227   \n",
              "4999  0.004981  0.008140  0.027340  0.015216  0.004367 -0.003858  0.026694   \n",
              "\n",
              "             7         8         9  ...        91        92        93  \\\n",
              "0    -0.001027 -0.006167 -0.009650  ...  0.002035 -0.014493  0.002701   \n",
              "1     0.017042 -0.024139  0.027196  ...  0.016582 -0.021303 -0.012404   \n",
              "2     0.021086 -0.005323 -0.067771  ... -0.021359 -0.058237  0.018744   \n",
              "3     0.021744 -0.015642  0.004099  ...  0.024582 -0.020632  0.007950   \n",
              "4    -0.012290 -0.004144  0.006804  ...  0.028238 -0.017103 -0.000398   \n",
              "...        ...       ...       ...  ...       ...       ...       ...   \n",
              "4995  0.015283  0.000283  0.002538  ...  0.024656  0.010490 -0.017422   \n",
              "4996  0.059409 -0.042674  0.013005  ... -0.007687  0.083449 -0.016194   \n",
              "4997  0.006060 -0.012523 -0.015703  ...  0.000471  0.012641 -0.010773   \n",
              "4998  0.003303 -0.003908 -0.002742  ...  0.008434  0.021281  0.004417   \n",
              "4999  0.003152 -0.027524  0.001805  ... -0.014644  0.014344  0.020144   \n",
              "\n",
              "            94        95        96        97        98        99  Sentiment  \n",
              "0    -0.001201 -0.017506  0.000041 -0.002991 -0.018179  0.004532        0.0  \n",
              "1    -0.005324  0.006190 -0.020637 -0.021966 -0.011735 -0.025941        0.0  \n",
              "2    -0.034753  0.011229 -0.051548  0.013513  0.014139  0.013390        0.0  \n",
              "3     0.026149 -0.006709  0.006665 -0.023926  0.009489 -0.010843        0.0  \n",
              "4    -0.015429  0.025166 -0.014462  0.001392 -0.009938  0.021494        0.0  \n",
              "...        ...       ...       ...       ...       ...       ...        ...  \n",
              "4995  0.017684  0.018279 -0.018311 -0.000553 -0.017756 -0.000246        0.0  \n",
              "4996  0.003843  0.058584 -0.069480  0.003791  0.003923 -0.015146        0.0  \n",
              "4997  0.007404  0.012114 -0.002094  0.019178 -0.002037 -0.016075        0.0  \n",
              "4998  0.007237 -0.003144  0.014231  0.019486  0.003839  0.012531        0.0  \n",
              "4999  0.014846  0.013869 -0.001127  0.005222  0.024035  0.002746        0.0  \n",
              "\n",
              "[5000 rows x 101 columns]"
            ]
          },
          "metadata": {
            "tags": []
          },
          "execution_count": 12
        }
      ]
    },
    {
      "cell_type": "code",
      "metadata": {
        "id": "gsFo0sIBOkf5",
        "colab_type": "code",
        "colab": {},
        "outputId": "5881d877-c11c-4135-fccc-6dc6be266cde"
      },
      "source": [
        "#split into train and test\n",
        "import numpy as np\n",
        "import pandas as pd\n",
        "import seaborn as sns\n",
        "import matplotlib.pyplot as plt\n",
        "from sklearn.feature_selection import RFECV\n",
        "from sklearn.datasets import make_regression\n",
        "from sklearn import datasets, linear_model\n",
        "import warnings\n",
        "from sklearn.ensemble import RandomForestClassifier\n",
        "from imblearn.over_sampling import SMOTE\n",
        "\n",
        "\n",
        "\n",
        "\n",
        "pts = np.random.rand(len(model_data)) < 0.7\n",
        "\n",
        "clean_data_train = model_data[pts]\n",
        "clean_data_test = model_data[~pts]\n",
        "\n",
        "\n",
        "#training set\n",
        "X_train = clean_data_train.copy()\n",
        "X_train = X_train.drop(['Sentiment'], axis=1)\n",
        "Y_train =clean_data_train['Sentiment']\n",
        "\n",
        "#SMOTE\n",
        "oversampler=SMOTE(random_state=0)\n",
        "X_train,Y_train=oversampler.fit_sample(X_train,Y_train)\n",
        "\n",
        "#testing set\n",
        "#Prepping the test set\n",
        "X_test = clean_data_test.copy()\n",
        "X_test = X_test.drop(['Sentiment'], axis=1)\n",
        "Y_test = clean_data_test['Sentiment']\n"
      ],
      "execution_count": null,
      "outputs": [
        {
          "output_type": "stream",
          "text": [
            "Using TensorFlow backend.\n"
          ],
          "name": "stderr"
        }
      ]
    },
    {
      "cell_type": "markdown",
      "metadata": {
        "id": "dBxHtv9LOkf-",
        "colab_type": "text"
      },
      "source": [
        "# Modeling & Evaluation: Logistic Regression"
      ]
    },
    {
      "cell_type": "code",
      "metadata": {
        "id": "n2Thy1zJOkf-",
        "colab_type": "code",
        "colab": {}
      },
      "source": [
        "import statsmodels.api as sm\n",
        "from sklearn import preprocessing\n",
        "from sklearn.metrics import confusion_matrix\n",
        "from sklearn.metrics import r2_score\n",
        "from sklearn.model_selection import cross_val_score, cross_val_predict\n",
        "from sklearn.linear_model import LogisticRegression\n",
        "from sklearn.model_selection import train_test_split\n",
        "from sklearn.feature_selection import RFE\n",
        "from sklearn import metrics\n",
        "from sklearn.linear_model import Lasso\n",
        "from sklearn.linear_model import LinearRegression\n",
        "from sklearn.model_selection import GridSearchCV\n",
        "from sklearn.metrics import classification_report\n",
        "from sklearn.metrics import accuracy_score\n",
        "from sklearn.metrics import f1_score"
      ],
      "execution_count": null,
      "outputs": []
    },
    {
      "cell_type": "code",
      "metadata": {
        "id": "5we3BbY_OkgC",
        "colab_type": "code",
        "colab": {},
        "outputId": "cb95267c-6f91-4b09-8490-90698764cc71"
      },
      "source": [
        "from sklearn.linear_model import LogisticRegression\n",
        "logreg = LogisticRegression(solver='lbfgs')\n",
        "logreg.fit(X_train, Y_train)"
      ],
      "execution_count": null,
      "outputs": [
        {
          "output_type": "execute_result",
          "data": {
            "text/plain": [
              "LogisticRegression()"
            ]
          },
          "metadata": {
            "tags": []
          },
          "execution_count": 16
        }
      ]
    },
    {
      "cell_type": "code",
      "metadata": {
        "id": "G3iD1G49OkgH",
        "colab_type": "code",
        "colab": {},
        "outputId": "b10bfa70-00a2-422d-8169-a4c517de72b2"
      },
      "source": [
        "Y_pred = logreg.predict(X_test)\n",
        "\n",
        "#Testing set accuracy\n",
        "from sklearn.metrics import accuracy_score\n",
        "print('accuracy score',accuracy_score(Y_test, Y_pred))\n",
        "\n",
        "#Precision=True positive / (True positive + False positive)\n",
        "#Recall=True positive / (True positive + False negative)\n",
        "#F1 is the harmonic mean of precision and recall\n",
        "from sklearn.metrics import f1_score\n",
        "print('f1_score',f1_score(Y_test, Y_pred))\n",
        "\n",
        "#F1 is the harmonic mean of precision and recall\n",
        "from sklearn.metrics import classification_report\n",
        "print (\"\\n Classification report : \\n\",classification_report(Y_test,Y_pred))"
      ],
      "execution_count": null,
      "outputs": [
        {
          "output_type": "stream",
          "text": [
            "accuracy score 0.6176084099868594\n",
            "f1_score 0.22811671087533156\n",
            "\n",
            " Classification report : \n",
            "               precision    recall  f1-score   support\n",
            "\n",
            "         0.0       0.92      0.63      0.75      1359\n",
            "         1.0       0.15      0.53      0.23       163\n",
            "\n",
            "    accuracy                           0.62      1522\n",
            "   macro avg       0.53      0.58      0.49      1522\n",
            "weighted avg       0.83      0.62      0.69      1522\n",
            "\n"
          ],
          "name": "stdout"
        }
      ]
    },
    {
      "cell_type": "code",
      "metadata": {
        "id": "A4Oe7hMqOkgN",
        "colab_type": "code",
        "colab": {},
        "outputId": "14963d30-1d7b-4975-c231-49129355f6e8"
      },
      "source": [
        "#Confusion matrix\n",
        "from sklearn.metrics import confusion_matrix\n",
        "cm = confusion_matrix(Y_test, Y_pred)\n",
        "sns.heatmap(cm,xticklabels = [\"Negative Sentiment\",\"Positive Sentiment\"],yticklabels = [\"Negative Sentiment\",\"Positive Sentiment\"], annot=True)\n",
        "print(cm)"
      ],
      "execution_count": null,
      "outputs": [
        {
          "output_type": "stream",
          "text": [
            "[[854 505]\n",
            " [ 77  86]]\n"
          ],
          "name": "stdout"
        },
        {
          "output_type": "display_data",
          "data": {
            "image/png": "[encoded data removed]",
            "text/plain": [
              "<Figure size 432x288 with 2 Axes>"
            ]
          },
          "metadata": {
            "tags": [],
            "needs_background": "light"
          }
        }
      ]
    },
    {
      "cell_type": "code",
      "metadata": {
        "id": "t2F6WGI3OkgR",
        "colab_type": "code",
        "colab": {},
        "outputId": "aab8d15c-20d4-41e0-ac74-8abd7ff974bc"
      },
      "source": [
        "import matplotlib.pyplot as plt\n",
        "#predicted probabilities\n",
        "probabilities = logreg.predict_proba(X_test)\n",
        "\n",
        "from sklearn.metrics import roc_curve,roc_auc_score\n",
        "#Compute ROC Score\n",
        "model_roc_auc = roc_auc_score(Y_test, Y_pred)\n",
        "print (\"Area under curve : \",model_roc_auc,\"\\n\")\n",
        "fpr,tpr,thresholds = roc_curve(Y_test,probabilities[:,1])\n",
        "\n",
        "plt.figure(figsize=(10, 8))\n",
        "plt.title('Receiver Operating Characteristic- Simple Logistic')\n",
        "plt.plot(fpr, tpr, 'b', label = 'AUC = %0.2f' % model_roc_auc)\n",
        "plt.legend(loc = 'lower right')\n",
        "plt.plot([0, 1], [0, 1],'r--')\n",
        "plt.xlim([0, 1])\n",
        "plt.ylim([0, 1])\n",
        "plt.ylabel('True Positive Rate')\n",
        "plt.xlabel('False Positive Rate')\n",
        "plt.show()\n"
      ],
      "execution_count": null,
      "outputs": [
        {
          "output_type": "stream",
          "text": [
            "Area under curve :  0.5780052998189755 \n",
            "\n"
          ],
          "name": "stdout"
        },
        {
          "output_type": "display_data",
          "data": {
            "image/png": "[encoded data removed]",
            "text/plain": [
              "<Figure size 720x576 with 1 Axes>"
            ]
          },
          "metadata": {
            "tags": [],
            "needs_background": "light"
          }
        }
      ]
    },
    {
      "cell_type": "markdown",
      "metadata": {
        "id": "Szd7MgxkOkgY",
        "colab_type": "text"
      },
      "source": [
        "<h6> Logistic Regression: Hyperparameter tuning with GridSearch"
      ]
    },
    {
      "cell_type": "code",
      "metadata": {
        "id": "-mtg92iKOkgZ",
        "colab_type": "code",
        "colab": {}
      },
      "source": [
        "from sklearn.linear_model import LogisticRegression\n",
        "logreg = LogisticRegression(solver='liblinear')\n",
        "logreg.fit(X_train, Y_train)\n",
        "\n",
        "# Create regularization penalty space\n",
        "penalty = ['l1', 'l2'] #Lasso,Ridge respectively\n",
        "\n",
        "# Create regularization hyperparameter space\n",
        "C = np.logspace(0, 4, 10)\n",
        "\n",
        "# Creating a dictionary of hyperparameter options\n",
        "hyperparameters = dict(C=C, penalty=penalty)"
      ],
      "execution_count": null,
      "outputs": []
    },
    {
      "cell_type": "code",
      "metadata": {
        "id": "T0N-BpGwOkgd",
        "colab_type": "code",
        "colab": {}
      },
      "source": [
        "# Grid search using 5-fold cross validation\n",
        "clf = GridSearchCV(logreg, hyperparameters, cv=10, verbose=0)\n",
        "\n",
        "# Fit the best model from grid search\n",
        "best_model = clf.fit(X_train, Y_train)"
      ],
      "execution_count": null,
      "outputs": []
    },
    {
      "cell_type": "code",
      "metadata": {
        "id": "l43bMUwsOkgh",
        "colab_type": "code",
        "colab": {},
        "outputId": "e3b3f48e-4230-4703-a27b-1614ac0c0c57"
      },
      "source": [
        "#best parameter\n",
        "best_model.best_params_"
      ],
      "execution_count": null,
      "outputs": [
        {
          "output_type": "execute_result",
          "data": {
            "text/plain": [
              "{'C': 166.81005372000593, 'penalty': 'l2'}"
            ]
          },
          "metadata": {
            "tags": []
          },
          "execution_count": 22
        }
      ]
    },
    {
      "cell_type": "code",
      "metadata": {
        "id": "483YPCZNOkgm",
        "colab_type": "code",
        "colab": {},
        "outputId": "f288cbb8-ed23-413f-e43a-95d1fa0b293e"
      },
      "source": [
        "# Predict target vector\n",
        "Y_pred = best_model.predict(X_test)\n",
        "\n",
        "#Testing set accuracy\n",
        "from sklearn.metrics import accuracy_score\n",
        "print('accuracy score',accuracy_score(Y_test, Y_pred))\n",
        "\n",
        "#Precision=True positive / (True positive + False positive)\n",
        "#Recall=True positive / (True positive + False negative)\n",
        "#F1 is the harmonic mean of precision and recall\n",
        "from sklearn.metrics import f1_score\n",
        "print('f1_score',f1_score(Y_test, Y_pred))\n",
        "#F1 is the harmonic mean of precision and recall\n",
        "\n",
        "from sklearn.metrics import classification_report\n",
        "print (\"\\n Classification report : \\n\",classification_report(Y_test,Y_pred))"
      ],
      "execution_count": null,
      "outputs": [
        {
          "output_type": "stream",
          "text": [
            "accuracy score 0.657030223390276\n",
            "f1_score 0.2564102564102564\n",
            "\n",
            " Classification report : \n",
            "               precision    recall  f1-score   support\n",
            "\n",
            "         0.0       0.93      0.67      0.78      1359\n",
            "         1.0       0.17      0.55      0.26       163\n",
            "\n",
            "    accuracy                           0.66      1522\n",
            "   macro avg       0.55      0.61      0.52      1522\n",
            "weighted avg       0.84      0.66      0.72      1522\n",
            "\n"
          ],
          "name": "stdout"
        }
      ]
    },
    {
      "cell_type": "code",
      "metadata": {
        "id": "c4m8feRgOkgr",
        "colab_type": "code",
        "colab": {},
        "outputId": "0a91282b-834d-4f00-c22e-20400893920d"
      },
      "source": [
        "#Confusion matrix\n",
        "from sklearn.metrics import confusion_matrix\n",
        "cm = confusion_matrix(Y_test, Y_pred)\n",
        "sns.heatmap(cm,xticklabels = [\"Negative Sentiment\",\"Positive Sentiment\"],yticklabels = [\"Negative Sentiment\",\"Positive Sentiment\"], annot=True)\n",
        "print(cm)"
      ],
      "execution_count": null,
      "outputs": [
        {
          "output_type": "stream",
          "text": [
            "[[910 449]\n",
            " [ 73  90]]\n"
          ],
          "name": "stdout"
        },
        {
          "output_type": "display_data",
          "data": {
            "image/png": "[encoded data removed]",
            "text/plain": [
              "<Figure size 432x288 with 2 Axes>"
            ]
          },
          "metadata": {
            "tags": [],
            "needs_background": "light"
          }
        }
      ]
    },
    {
      "cell_type": "code",
      "metadata": {
        "id": "rZHP-HiOOkgv",
        "colab_type": "code",
        "colab": {},
        "outputId": "db8fca7c-467e-429e-b521-feb4ddff4e05"
      },
      "source": [
        "\n",
        "#predicted probabilities\n",
        "probabilities = best_model.predict_proba(X_test)[:,1]\n",
        "\n",
        "from sklearn.metrics import roc_curve,roc_auc_score\n",
        "#Compute ROC Score\n",
        "model_roc_auc = roc_auc_score(Y_test, Y_pred)\n",
        "print (\"Area under curve : \",model_roc_auc,\"\\n\")\n",
        "fpr,tpr,thresholds = roc_curve(Y_test,probabilities)\n",
        "\n",
        "plt.figure(figsize=(10, 8))\n",
        "plt.title('Receiver Operating Characteristic-Logistic Regression with GridSearchCV')\n",
        "plt.plot(fpr, tpr, 'b', label = 'AUC = %0.2f' % model_roc_auc)\n",
        "plt.legend(loc = 'lower right')\n",
        "plt.plot([0, 1], [0, 1],'r--')\n",
        "plt.xlim([0, 1])\n",
        "plt.ylim([0, 1])\n",
        "plt.ylabel('True Positive Rate')\n",
        "plt.xlabel('False Positive Rate')\n",
        "plt.show()\n"
      ],
      "execution_count": null,
      "outputs": [
        {
          "output_type": "stream",
          "text": [
            "Area under curve :  0.6108786233110777 \n",
            "\n"
          ],
          "name": "stdout"
        },
        {
          "output_type": "display_data",
          "data": {
            "image/png": "[encoded data removed]",
            "text/plain": [
              "<Figure size 720x576 with 1 Axes>"
            ]
          },
          "metadata": {
            "tags": [],
            "needs_background": "light"
          }
        }
      ]
    },
    {
      "cell_type": "markdown",
      "metadata": {
        "id": "7_VT0C6JOkgz",
        "colab_type": "text"
      },
      "source": [
        "# Modeling & Evaluation: Random Forest"
      ]
    },
    {
      "cell_type": "code",
      "metadata": {
        "id": "17eAvJWYOkg0",
        "colab_type": "code",
        "colab": {},
        "outputId": "9dbd0f79-0574-4bbe-be83-860a34941a1f"
      },
      "source": [
        "# Import the model we are using\n",
        "from sklearn.ensemble import RandomForestClassifier\n",
        "\n",
        "# Create the model with 100 trees\n",
        "model_rf = RandomForestClassifier(n_estimators=100, \n",
        "                               bootstrap = True,\n",
        "                               max_features = 'sqrt')\n",
        "\n",
        "\n",
        "# Train the model on training data\n",
        "model_rf.fit(X_train, Y_train)\n",
        "\n",
        "# Use the forest's predict method on the test data\n",
        "\n",
        "from sklearn.metrics import roc_auc_score\n",
        "Y_pred = model_rf.predict(X_test)\n",
        "\n",
        "\n",
        "print('accuracy score',accuracy_score(Y_test, Y_pred))\n",
        "print('f1_score',f1_score(Y_test, Y_pred))\n",
        "print (\"\\n Classification report : \\n\",classification_report(Y_test,Y_pred))"
      ],
      "execution_count": null,
      "outputs": [
        {
          "output_type": "stream",
          "text": [
            "accuracy score 0.8751642575558476\n",
            "f1_score 0.05\n",
            "\n",
            " Classification report : \n",
            "               precision    recall  f1-score   support\n",
            "\n",
            "         0.0       0.89      0.98      0.93      1359\n",
            "         1.0       0.14      0.03      0.05       163\n",
            "\n",
            "    accuracy                           0.88      1522\n",
            "   macro avg       0.51      0.50      0.49      1522\n",
            "weighted avg       0.81      0.88      0.84      1522\n",
            "\n"
          ],
          "name": "stdout"
        }
      ]
    },
    {
      "cell_type": "code",
      "metadata": {
        "id": "5BemA2Y4Okg6",
        "colab_type": "code",
        "colab": {},
        "outputId": "1e36efbc-62f4-453a-8259-496f6312b1e5"
      },
      "source": [
        "#Confusion matrix\n",
        "from sklearn.metrics import confusion_matrix\n",
        "cm = confusion_matrix(Y_test, Y_pred)\n",
        "sns.heatmap(cm,xticklabels = [\"Negative Sentiment\",\"Positive Sentiment\"],yticklabels = [\"Negative Sentiment\",\"Positive Sentiment\"], annot=True)\n",
        "print(cm)"
      ],
      "execution_count": null,
      "outputs": [
        {
          "output_type": "stream",
          "text": [
            "[[1327   32]\n",
            " [ 158    5]]\n"
          ],
          "name": "stdout"
        },
        {
          "output_type": "display_data",
          "data": {
            "image/png": "[encoded data removed]",
            "text/plain": [
              "<Figure size 432x288 with 2 Axes>"
            ]
          },
          "metadata": {
            "tags": [],
            "needs_background": "light"
          }
        }
      ]
    },
    {
      "cell_type": "code",
      "metadata": {
        "id": "cGlbxnynOkhB",
        "colab_type": "code",
        "colab": {},
        "outputId": "33dc180d-03f3-44de-a7ff-1b0896baf5a9"
      },
      "source": [
        "Y_pred_probs = model_rf.predict_proba(X_test)[:, 1]\n",
        "model_roc_auc = roc_auc_score(Y_test, Y_pred)\n",
        "print (\"Area under curve : \",model_roc_auc,\"\\n\")\n",
        "fpr,tpr,thresholds = roc_curve(Y_test,Y_pred_probs)\n",
        "\n",
        "plt.figure(figsize=(10, 8))\n",
        "plt.title('Receiver Operating Characteristic- Random Forest')\n",
        "plt.plot(fpr, tpr, 'b', label = 'AUC = %0.2f' % model_roc_auc)\n",
        "plt.legend(loc = 'lower right')\n",
        "plt.plot([0, 1], [0, 1],'r--')\n",
        "plt.xlim([0, 1])\n",
        "plt.ylim([0, 1])\n",
        "plt.ylabel('True Positive Rate')\n",
        "plt.xlabel('False Positive Rate')\n",
        "plt.show()\n"
      ],
      "execution_count": null,
      "outputs": [
        {
          "output_type": "stream",
          "text": [
            "Area under curve :  0.5035640605461432 \n",
            "\n"
          ],
          "name": "stdout"
        },
        {
          "output_type": "display_data",
          "data": {
            "image/png": "[encoded data removed]",
            "text/plain": [
              "<Figure size 720x576 with 1 Axes>"
            ]
          },
          "metadata": {
            "tags": [],
            "needs_background": "light"
          }
        }
      ]
    },
    {
      "cell_type": "markdown",
      "metadata": {
        "id": "FlN7Q58aOkhE",
        "colab_type": "text"
      },
      "source": [
        "<h6> Random Forest with GridSearch"
      ]
    },
    {
      "cell_type": "code",
      "metadata": {
        "id": "CAu-cMz6OkhF",
        "colab_type": "code",
        "colab": {},
        "outputId": "1e0ea1d4-ec6f-4177-c6af-84d6572f1e0e"
      },
      "source": [
        "#random forests with cross validation i.e.,  hyperparameter tuning:grid search\n",
        "from sklearn.model_selection import RandomizedSearchCV\n",
        "\n",
        "#creating the random grid with hyperparameters\n",
        "# Number of trees in random forest\n",
        "n_estimators = [int(x) for x in np.linspace(start = 200, stop = 2000, num = 10)]\n",
        "# Number of features to consider at every split\n",
        "max_features = ['auto', 'sqrt']\n",
        "# Maximum number of levels in tree\n",
        "max_depth = [int(x) for x in np.linspace(10, 110, num = 11)]\n",
        "max_depth.append(None)\n",
        "# Minimum number of samples required to split a node\n",
        "min_samples_split = [2, 5, 10]\n",
        "# Minimum number of samples required at each leaf node\n",
        "min_samples_leaf = [1, 2, 4]\n",
        "# Method of selecting samples for training each tree\n",
        "bootstrap = [True, False]\n",
        "#criterion\n",
        "criterion=['gini', 'entropy']\n",
        "\n",
        "# Create the random grid\n",
        "random_grid = {'n_estimators': n_estimators,\n",
        "               'max_features': max_features,\n",
        "               'max_depth': max_depth,\n",
        "               'min_samples_split': min_samples_split,\n",
        "               'min_samples_leaf': min_samples_leaf,\n",
        "               'bootstrap': bootstrap,\n",
        "                'criterion':criterion}\n",
        "\n",
        "\n",
        "# First create the base model to tune\n",
        "rf = RandomForestClassifier(random_state=42)\n",
        "# Random search of parameters, using 3 fold cross validation, \n",
        "# search across 100 different combinations, and use all available cores\n",
        "rf_random = RandomizedSearchCV(estimator = rf, param_distributions = random_grid, n_iter = 100, cv = 3, verbose=2, random_state=42, n_jobs = -1)\n",
        "# Fit the random search model\n",
        "rf_random.fit(X_train, Y_train)\n"
      ],
      "execution_count": null,
      "outputs": [
        {
          "output_type": "stream",
          "text": [
            "Fitting 3 folds for each of 100 candidates, totalling 300 fits\n"
          ],
          "name": "stdout"
        },
        {
          "output_type": "stream",
          "text": [
            "[Parallel(n_jobs=-1)]: Using backend LokyBackend with 8 concurrent workers.\n",
            "[Parallel(n_jobs=-1)]: Done  25 tasks      | elapsed: 14.2min\n",
            "[Parallel(n_jobs=-1)]: Done 146 tasks      | elapsed: 67.5min\n",
            "[Parallel(n_jobs=-1)]: Done 300 out of 300 | elapsed: 106.5min finished\n"
          ],
          "name": "stderr"
        },
        {
          "output_type": "execute_result",
          "data": {
            "text/plain": [
              "RandomizedSearchCV(cv=3, estimator=RandomForestClassifier(random_state=42),\n",
              "                   n_iter=100, n_jobs=-1,\n",
              "                   param_distributions={'bootstrap': [True, False],\n",
              "                                        'criterion': ['gini', 'entropy'],\n",
              "                                        'max_depth': [10, 20, 30, 40, 50, 60,\n",
              "                                                      70, 80, 90, 100, 110,\n",
              "                                                      None],\n",
              "                                        'max_features': ['auto', 'sqrt'],\n",
              "                                        'min_samples_leaf': [1, 2, 4],\n",
              "                                        'min_samples_split': [2, 5, 10],\n",
              "                                        'n_estimators': [200, 400, 600, 800,\n",
              "                                                         1000, 1200, 1400, 1600,\n",
              "                                                         1800, 2000]},\n",
              "                   random_state=42, verbose=2)"
            ]
          },
          "metadata": {
            "tags": []
          },
          "execution_count": 31
        }
      ]
    },
    {
      "cell_type": "code",
      "metadata": {
        "id": "OYV-5P7gOkhI",
        "colab_type": "code",
        "colab": {},
        "outputId": "be365ec2-1935-48e4-b819-0bcefff5602b"
      },
      "source": [
        "#best parameter\n",
        "rf_random.best_params_"
      ],
      "execution_count": null,
      "outputs": [
        {
          "output_type": "execute_result",
          "data": {
            "text/plain": [
              "{'n_estimators': 600,\n",
              " 'min_samples_split': 2,\n",
              " 'min_samples_leaf': 1,\n",
              " 'max_features': 'auto',\n",
              " 'max_depth': 90,\n",
              " 'criterion': 'entropy',\n",
              " 'bootstrap': False}"
            ]
          },
          "metadata": {
            "tags": []
          },
          "execution_count": 32
        }
      ]
    },
    {
      "cell_type": "code",
      "metadata": {
        "id": "2q6AbKBFOkhL",
        "colab_type": "code",
        "colab": {},
        "outputId": "12930cc7-f555-43ce-e10e-326a4b2a62b8"
      },
      "source": [
        "Y_pred = rf_random.predict(X_test)\n",
        "print('accuracy score',accuracy_score(Y_test, Y_pred))\n",
        "print('f1_score',f1_score(Y_test, Y_pred))\n",
        "print (\"\\n Classification report : \\n\",classification_report(Y_test,Y_pred))\n"
      ],
      "execution_count": null,
      "outputs": [
        {
          "output_type": "stream",
          "text": [
            "accuracy score 0.8823915900131406\n",
            "f1_score 0.032432432432432434\n",
            "\n",
            " Classification report : \n",
            "               precision    recall  f1-score   support\n",
            "\n",
            "         0.0       0.89      0.99      0.94      1359\n",
            "         1.0       0.14      0.02      0.03       163\n",
            "\n",
            "    accuracy                           0.88      1522\n",
            "   macro avg       0.51      0.50      0.48      1522\n",
            "weighted avg       0.81      0.88      0.84      1522\n",
            "\n"
          ],
          "name": "stdout"
        }
      ]
    },
    {
      "cell_type": "code",
      "metadata": {
        "id": "jAAc1MdeOkhQ",
        "colab_type": "code",
        "colab": {},
        "outputId": "ee1422d5-ed7f-4f7b-b5f5-45752e102295"
      },
      "source": [
        "#Confusion matrix\n",
        "from sklearn.metrics import confusion_matrix\n",
        "cm = confusion_matrix(Y_test, Y_pred)\n",
        "sns.heatmap(cm,xticklabels = [\"Negative Sentiment\",\"Positive Sentiment\"],yticklabels = [\"Negative Sentiment\",\"Positive Sentiment\"], annot=True)\n",
        "print(cm)"
      ],
      "execution_count": null,
      "outputs": [
        {
          "output_type": "stream",
          "text": [
            "[[1340   19]\n",
            " [ 160    3]]\n"
          ],
          "name": "stdout"
        },
        {
          "output_type": "display_data",
          "data": {
            "image/png": "[encoded data removed]",
            "text/plain": [
              "<Figure size 432x288 with 2 Axes>"
            ]
          },
          "metadata": {
            "tags": [],
            "needs_background": "light"
          }
        }
      ]
    },
    {
      "cell_type": "code",
      "metadata": {
        "id": "OAcYsJ4SOkhT",
        "colab_type": "code",
        "colab": {},
        "outputId": "3045fef1-06fc-49f4-ce3a-d62db1e6e3ea"
      },
      "source": [
        "#predicted probabilities\n",
        "Y_pred_probs = rf_random.predict_proba(X_test)[:, 1]\n",
        "\n",
        "from sklearn.metrics import roc_curve,roc_auc_score\n",
        "#Compute ROC Score\n",
        "model_roc_auc = roc_auc_score(Y_test, Y_pred)\n",
        "print (\"Area under curve : \",model_roc_auc,\"\\n\")\n",
        "fpr,tpr,thresholds = roc_curve(Y_test,Y_pred_probs)\n",
        "\n",
        "plt.figure(figsize=(10, 8))\n",
        "plt.title('Receiver Operating Characteristic- Random Forest with GridSearchCV')\n",
        "plt.plot(fpr, tpr, 'b', label = 'AUC = %0.2f' % model_roc_auc)\n",
        "plt.legend(loc = 'lower right')\n",
        "plt.plot([0, 1], [0, 1],'r--')\n",
        "plt.xlim([0, 1])\n",
        "plt.ylim([0, 1])\n",
        "plt.ylabel('True Positive Rate')\n",
        "plt.xlabel('False Positive Rate')\n",
        "plt.show()\n"
      ],
      "execution_count": null,
      "outputs": [
        {
          "output_type": "stream",
          "text": [
            "Area under curve :  0.502212019844978 \n",
            "\n"
          ],
          "name": "stdout"
        },
        {
          "output_type": "display_data",
          "data": {
            "image/png": "[encoded data removed]",
            "text/plain": [
              "<Figure size 720x576 with 1 Axes>"
            ]
          },
          "metadata": {
            "tags": [],
            "needs_background": "light"
          }
        }
      ]
    },
    {
      "cell_type": "markdown",
      "metadata": {
        "id": "axbtHjygOkhW",
        "colab_type": "text"
      },
      "source": [
        "# # Modeling & Evaluation: SVM"
      ]
    },
    {
      "cell_type": "code",
      "metadata": {
        "id": "pICUQ26dOkhX",
        "colab_type": "code",
        "colab": {}
      },
      "source": [
        "from sklearn.svm import SVC  "
      ],
      "execution_count": null,
      "outputs": []
    },
    {
      "cell_type": "code",
      "metadata": {
        "id": "pIqhLbjWOkhZ",
        "colab_type": "code",
        "colab": {}
      },
      "source": [
        "kernels = ['Polynomial', 'RBF', 'Sigmoid','Linear']\n",
        "#A function which returns the corresponding SVC model\n",
        "def getClassifier(ktype):\n",
        "    if ktype == 0:\n",
        "        # Polynomial kernal\n",
        "        return SVC(kernel='poly', degree=8, gamma=\"auto\",probability=True)\n",
        "    elif ktype == 1:\n",
        "        # Radial Basis Function kernal\n",
        "        return SVC(kernel='rbf', gamma=\"auto\",probability=True)\n",
        "    elif ktype == 2:\n",
        "        # Sigmoid kernal\n",
        "        return SVC(kernel='sigmoid', gamma=\"auto\",probability=True)\n",
        "        "
      ],
      "execution_count": null,
      "outputs": []
    },
    {
      "cell_type": "code",
      "metadata": {
        "id": "hpXgP3ykOkhb",
        "colab_type": "code",
        "colab": {},
        "outputId": "0985b753-35f9-4102-d33e-3d71fb4f517e"
      },
      "source": [
        "for i in range(3):\n",
        "    svclassifier = getClassifier(i) \n",
        "    svclassifier.fit(X_train, Y_train)\n",
        "# Make prediction\n",
        "    Y_pred = svclassifier.predict(X_test)\n",
        "# Evaluate our model\n",
        "    print(\"Evaluation:\", kernels[i], \"kernel\")\n",
        "    print(confusion_matrix(Y_test,Y_pred))\n",
        "    print(classification_report(Y_test,Y_pred))"
      ],
      "execution_count": null,
      "outputs": [
        {
          "output_type": "stream",
          "text": [
            "Evaluation: Polynomial kernel\n",
            "[[1359    0]\n",
            " [ 163    0]]\n",
            "              precision    recall  f1-score   support\n",
            "\n",
            "         0.0       0.89      1.00      0.94      1359\n",
            "         1.0       0.00      0.00      0.00       163\n",
            "\n",
            "    accuracy                           0.89      1522\n",
            "   macro avg       0.45      0.50      0.47      1522\n",
            "weighted avg       0.80      0.89      0.84      1522\n",
            "\n"
          ],
          "name": "stdout"
        },
        {
          "output_type": "stream",
          "text": [
            "C:\\ProgramData\\Anaconda3\\lib\\site-packages\\sklearn\\metrics\\_classification.py:1221: UndefinedMetricWarning: Precision and F-score are ill-defined and being set to 0.0 in labels with no predicted samples. Use `zero_division` parameter to control this behavior.\n",
            "  _warn_prf(average, modifier, msg_start, len(result))\n"
          ],
          "name": "stderr"
        },
        {
          "output_type": "stream",
          "text": [
            "Evaluation: RBF kernel\n",
            "[[  30 1329]\n",
            " [   4  159]]\n",
            "              precision    recall  f1-score   support\n",
            "\n",
            "         0.0       0.88      0.02      0.04      1359\n",
            "         1.0       0.11      0.98      0.19       163\n",
            "\n",
            "    accuracy                           0.12      1522\n",
            "   macro avg       0.49      0.50      0.12      1522\n",
            "weighted avg       0.80      0.12      0.06      1522\n",
            "\n",
            "Evaluation: Sigmoid kernel\n",
            "[[  31 1328]\n",
            " [   4  159]]\n",
            "              precision    recall  f1-score   support\n",
            "\n",
            "         0.0       0.89      0.02      0.04      1359\n",
            "         1.0       0.11      0.98      0.19       163\n",
            "\n",
            "    accuracy                           0.12      1522\n",
            "   macro avg       0.50      0.50      0.12      1522\n",
            "weighted avg       0.80      0.12      0.06      1522\n",
            "\n"
          ],
          "name": "stdout"
        }
      ]
    },
    {
      "cell_type": "code",
      "metadata": {
        "id": "7m-3wMA_Okhd",
        "colab_type": "code",
        "colab": {},
        "outputId": "9244bb7c-aa08-4bdd-a512-cd865efcff32"
      },
      "source": [
        "#Confusion matrix\n",
        "from sklearn.metrics import confusion_matrix\n",
        "cm = confusion_matrix(Y_test, Y_pred)\n",
        "sns.heatmap(cm,xticklabels = [\"Negative Sentiment\",\"Positive Sentiment\"],yticklabels = [\"Negative Sentiment\",\"Positive Sentiment\"], annot=True)\n",
        "print(cm)"
      ],
      "execution_count": null,
      "outputs": [
        {
          "output_type": "stream",
          "text": [
            "[[  31 1328]\n",
            " [   4  159]]\n"
          ],
          "name": "stdout"
        },
        {
          "output_type": "display_data",
          "data": {
            "image/png": "[encoded data removed]",
            "text/plain": [
              "<Figure size 432x288 with 2 Axes>"
            ]
          },
          "metadata": {
            "tags": [],
            "needs_background": "light"
          }
        }
      ]
    },
    {
      "cell_type": "code",
      "metadata": {
        "id": "RGocysCcOkhh",
        "colab_type": "code",
        "colab": {},
        "outputId": "9da00517-924d-4683-f6e0-39038f4d56c0"
      },
      "source": [
        "#predicted probabilities\n",
        "Y_pred_probs = svclassifier.predict_proba(X_test)[:, 1]\n",
        "\n",
        "from sklearn.metrics import roc_curve,roc_auc_score\n",
        "#Compute ROC Score\n",
        "model_roc_auc = roc_auc_score(Y_test, Y_pred)\n",
        "print (\"Area under curve : \",model_roc_auc,\"\\n\")\n",
        "fpr,tpr,thresholds = roc_curve(Y_test,Y_pred_probs)\n",
        "\n",
        "plt.figure(figsize=(10, 8))\n",
        "plt.title('Receiver Operating Characteristic- SVM')\n",
        "plt.plot(fpr, tpr, 'b', label = 'AUC = %0.2f' % model_roc_auc)\n",
        "plt.legend(loc = 'lower right')\n",
        "plt.plot([0, 1], [0, 1],'r--')\n",
        "plt.xlim([0, 1])\n",
        "plt.ylim([0, 1])\n",
        "plt.ylabel('True Positive Rate')\n",
        "plt.xlabel('False Positive Rate')\n",
        "plt.show()"
      ],
      "execution_count": null,
      "outputs": [
        {
          "output_type": "stream",
          "text": [
            "Area under curve :  0.4991355065299729 \n",
            "\n"
          ],
          "name": "stdout"
        },
        {
          "output_type": "display_data",
          "data": {
            "image/png": "[encoded data removed]",
            "text/plain": [
              "<Figure size 720x576 with 1 Axes>"
            ]
          },
          "metadata": {
            "tags": [],
            "needs_background": "light"
          }
        }
      ]
    },
    {
      "cell_type": "markdown",
      "metadata": {
        "id": "AvCrucbsOkhk",
        "colab_type": "text"
      },
      "source": [
        "SVM: Hyper parameter tuning with GridSearchCV"
      ]
    },
    {
      "cell_type": "code",
      "metadata": {
        "scrolled": true,
        "id": "rbbdZyl_Okhl",
        "colab_type": "code",
        "colab": {},
        "outputId": "d54ae365-8a3b-4906-fedd-d8add0191ba1"
      },
      "source": [
        "#selecting only rbf & sigmoid kernel as in previous SVM we see that they perform better and also to reduce computational time\n",
        "param_grid = {'C': [0.1,1, 100], 'gamma': [1,0.1,0.01],'kernel': ['rbf','sigmoid']}\n",
        "grid = GridSearchCV(SVC(probability=True),param_grid,refit=True,verbose=2)\n",
        "grid.fit(X_train,Y_train)"
      ],
      "execution_count": null,
      "outputs": [
        {
          "output_type": "stream",
          "text": [
            "Fitting 5 folds for each of 18 candidates, totalling 90 fits\n",
            "[CV] C=0.1, gamma=1, kernel=rbf ......................................\n"
          ],
          "name": "stdout"
        },
        {
          "output_type": "stream",
          "text": [
            "[Parallel(n_jobs=1)]: Using backend SequentialBackend with 1 concurrent workers.\n"
          ],
          "name": "stderr"
        },
        {
          "output_type": "stream",
          "text": [
            "[CV] ....................... C=0.1, gamma=1, kernel=rbf, total=  27.9s\n",
            "[CV] C=0.1, gamma=1, kernel=rbf ......................................\n"
          ],
          "name": "stdout"
        },
        {
          "output_type": "stream",
          "text": [
            "[Parallel(n_jobs=1)]: Done   1 out of   1 | elapsed:   27.8s remaining:    0.0s\n"
          ],
          "name": "stderr"
        },
        {
          "output_type": "stream",
          "text": [
            "[CV] ....................... C=0.1, gamma=1, kernel=rbf, total=  27.2s\n",
            "[CV] C=0.1, gamma=1, kernel=rbf ......................................\n",
            "[CV] ....................... C=0.1, gamma=1, kernel=rbf, total=  27.3s\n",
            "[CV] C=0.1, gamma=1, kernel=rbf ......................................\n",
            "[CV] ....................... C=0.1, gamma=1, kernel=rbf, total=  27.1s\n",
            "[CV] C=0.1, gamma=1, kernel=rbf ......................................\n",
            "[CV] ....................... C=0.1, gamma=1, kernel=rbf, total=  27.1s\n",
            "[CV] C=0.1, gamma=1, kernel=sigmoid ..................................\n",
            "[CV] ................... C=0.1, gamma=1, kernel=sigmoid, total=  26.8s\n",
            "[CV] C=0.1, gamma=1, kernel=sigmoid ..................................\n",
            "[CV] ................... C=0.1, gamma=1, kernel=sigmoid, total=  26.8s\n",
            "[CV] C=0.1, gamma=1, kernel=sigmoid ..................................\n",
            "[CV] ................... C=0.1, gamma=1, kernel=sigmoid, total=  27.3s\n",
            "[CV] C=0.1, gamma=1, kernel=sigmoid ..................................\n",
            "[CV] ................... C=0.1, gamma=1, kernel=sigmoid, total=  27.1s\n",
            "[CV] C=0.1, gamma=1, kernel=sigmoid ..................................\n",
            "[CV] ................... C=0.1, gamma=1, kernel=sigmoid, total=  27.2s\n",
            "[CV] C=0.1, gamma=0.1, kernel=rbf ....................................\n",
            "[CV] ..................... C=0.1, gamma=0.1, kernel=rbf, total=  25.9s\n",
            "[CV] C=0.1, gamma=0.1, kernel=rbf ....................................\n",
            "[CV] ..................... C=0.1, gamma=0.1, kernel=rbf, total=  19.7s\n",
            "[CV] C=0.1, gamma=0.1, kernel=rbf ....................................\n",
            "[CV] ..................... C=0.1, gamma=0.1, kernel=rbf, total=  19.8s\n",
            "[CV] C=0.1, gamma=0.1, kernel=rbf ....................................\n",
            "[CV] ..................... C=0.1, gamma=0.1, kernel=rbf, total=  19.5s\n",
            "[CV] C=0.1, gamma=0.1, kernel=rbf ....................................\n",
            "[CV] ..................... C=0.1, gamma=0.1, kernel=rbf, total=  19.3s\n",
            "[CV] C=0.1, gamma=0.1, kernel=sigmoid ................................\n",
            "[CV] ................. C=0.1, gamma=0.1, kernel=sigmoid, total=  19.3s\n",
            "[CV] C=0.1, gamma=0.1, kernel=sigmoid ................................\n",
            "[CV] ................. C=0.1, gamma=0.1, kernel=sigmoid, total=  19.4s\n",
            "[CV] C=0.1, gamma=0.1, kernel=sigmoid ................................\n",
            "[CV] ................. C=0.1, gamma=0.1, kernel=sigmoid, total=  19.5s\n",
            "[CV] C=0.1, gamma=0.1, kernel=sigmoid ................................\n",
            "[CV] ................. C=0.1, gamma=0.1, kernel=sigmoid, total=  19.3s\n",
            "[CV] C=0.1, gamma=0.1, kernel=sigmoid ................................\n",
            "[CV] ................. C=0.1, gamma=0.1, kernel=sigmoid, total=  19.5s\n",
            "[CV] C=0.1, gamma=0.01, kernel=rbf ...................................\n",
            "[CV] .................... C=0.1, gamma=0.01, kernel=rbf, total=  19.6s\n",
            "[CV] C=0.1, gamma=0.01, kernel=rbf ...................................\n",
            "[CV] .................... C=0.1, gamma=0.01, kernel=rbf, total=  19.6s\n",
            "[CV] C=0.1, gamma=0.01, kernel=rbf ...................................\n",
            "[CV] .................... C=0.1, gamma=0.01, kernel=rbf, total=  19.6s\n",
            "[CV] C=0.1, gamma=0.01, kernel=rbf ...................................\n",
            "[CV] .................... C=0.1, gamma=0.01, kernel=rbf, total=  19.6s\n",
            "[CV] C=0.1, gamma=0.01, kernel=rbf ...................................\n",
            "[CV] .................... C=0.1, gamma=0.01, kernel=rbf, total=  19.7s\n",
            "[CV] C=0.1, gamma=0.01, kernel=sigmoid ...............................\n",
            "[CV] ................ C=0.1, gamma=0.01, kernel=sigmoid, total=  19.3s\n",
            "[CV] C=0.1, gamma=0.01, kernel=sigmoid ...............................\n",
            "[CV] ................ C=0.1, gamma=0.01, kernel=sigmoid, total=  19.7s\n",
            "[CV] C=0.1, gamma=0.01, kernel=sigmoid ...............................\n",
            "[CV] ................ C=0.1, gamma=0.01, kernel=sigmoid, total=  19.5s\n",
            "[CV] C=0.1, gamma=0.01, kernel=sigmoid ...............................\n",
            "[CV] ................ C=0.1, gamma=0.01, kernel=sigmoid, total=  19.4s\n",
            "[CV] C=0.1, gamma=0.01, kernel=sigmoid ...............................\n",
            "[CV] ................ C=0.1, gamma=0.01, kernel=sigmoid, total=  19.4s\n",
            "[CV] C=1, gamma=1, kernel=rbf ........................................\n",
            "[CV] ......................... C=1, gamma=1, kernel=rbf, total=  16.6s\n",
            "[CV] C=1, gamma=1, kernel=rbf ........................................\n",
            "[CV] ......................... C=1, gamma=1, kernel=rbf, total=  17.0s\n",
            "[CV] C=1, gamma=1, kernel=rbf ........................................\n",
            "[CV] ......................... C=1, gamma=1, kernel=rbf, total=  16.9s\n",
            "[CV] C=1, gamma=1, kernel=rbf ........................................\n",
            "[CV] ......................... C=1, gamma=1, kernel=rbf, total=  16.9s\n",
            "[CV] C=1, gamma=1, kernel=rbf ........................................\n",
            "[CV] ......................... C=1, gamma=1, kernel=rbf, total=  16.7s\n",
            "[CV] C=1, gamma=1, kernel=sigmoid ....................................\n",
            "[CV] ..................... C=1, gamma=1, kernel=sigmoid, total=  17.3s\n",
            "[CV] C=1, gamma=1, kernel=sigmoid ....................................\n",
            "[CV] ..................... C=1, gamma=1, kernel=sigmoid, total=  18.0s\n",
            "[CV] C=1, gamma=1, kernel=sigmoid ....................................\n",
            "[CV] ..................... C=1, gamma=1, kernel=sigmoid, total=  18.0s\n",
            "[CV] C=1, gamma=1, kernel=sigmoid ....................................\n",
            "[CV] ..................... C=1, gamma=1, kernel=sigmoid, total=  17.9s\n",
            "[CV] C=1, gamma=1, kernel=sigmoid ....................................\n",
            "[CV] ..................... C=1, gamma=1, kernel=sigmoid, total=  17.6s\n",
            "[CV] C=1, gamma=0.1, kernel=rbf ......................................\n",
            "[CV] ....................... C=1, gamma=0.1, kernel=rbf, total=  19.0s\n",
            "[CV] C=1, gamma=0.1, kernel=rbf ......................................\n",
            "[CV] ....................... C=1, gamma=0.1, kernel=rbf, total=  19.3s\n",
            "[CV] C=1, gamma=0.1, kernel=rbf ......................................\n",
            "[CV] ....................... C=1, gamma=0.1, kernel=rbf, total=  19.3s\n",
            "[CV] C=1, gamma=0.1, kernel=rbf ......................................\n",
            "[CV] ....................... C=1, gamma=0.1, kernel=rbf, total=  19.4s\n",
            "[CV] C=1, gamma=0.1, kernel=rbf ......................................\n",
            "[CV] ....................... C=1, gamma=0.1, kernel=rbf, total=  19.5s\n",
            "[CV] C=1, gamma=0.1, kernel=sigmoid ..................................\n",
            "[CV] ................... C=1, gamma=0.1, kernel=sigmoid, total=  18.9s\n",
            "[CV] C=1, gamma=0.1, kernel=sigmoid ..................................\n",
            "[CV] ................... C=1, gamma=0.1, kernel=sigmoid, total=  19.1s\n",
            "[CV] C=1, gamma=0.1, kernel=sigmoid ..................................\n",
            "[CV] ................... C=1, gamma=0.1, kernel=sigmoid, total=  19.5s\n",
            "[CV] C=1, gamma=0.1, kernel=sigmoid ..................................\n",
            "[CV] ................... C=1, gamma=0.1, kernel=sigmoid, total=  19.1s\n",
            "[CV] C=1, gamma=0.1, kernel=sigmoid ..................................\n",
            "[CV] ................... C=1, gamma=0.1, kernel=sigmoid, total=  19.0s\n",
            "[CV] C=1, gamma=0.01, kernel=rbf .....................................\n",
            "[CV] ...................... C=1, gamma=0.01, kernel=rbf, total=  19.9s\n",
            "[CV] C=1, gamma=0.01, kernel=rbf .....................................\n",
            "[CV] ...................... C=1, gamma=0.01, kernel=rbf, total=  19.5s\n",
            "[CV] C=1, gamma=0.01, kernel=rbf .....................................\n",
            "[CV] ...................... C=1, gamma=0.01, kernel=rbf, total=  19.7s\n",
            "[CV] C=1, gamma=0.01, kernel=rbf .....................................\n",
            "[CV] ...................... C=1, gamma=0.01, kernel=rbf, total=  19.6s\n",
            "[CV] C=1, gamma=0.01, kernel=rbf .....................................\n",
            "[CV] ...................... C=1, gamma=0.01, kernel=rbf, total=  19.8s\n",
            "[CV] C=1, gamma=0.01, kernel=sigmoid .................................\n",
            "[CV] .................. C=1, gamma=0.01, kernel=sigmoid, total=  19.4s\n",
            "[CV] C=1, gamma=0.01, kernel=sigmoid .................................\n",
            "[CV] .................. C=1, gamma=0.01, kernel=sigmoid, total=  19.6s\n",
            "[CV] C=1, gamma=0.01, kernel=sigmoid .................................\n",
            "[CV] .................. C=1, gamma=0.01, kernel=sigmoid, total=  19.3s\n",
            "[CV] C=1, gamma=0.01, kernel=sigmoid .................................\n",
            "[CV] .................. C=1, gamma=0.01, kernel=sigmoid, total=  19.6s\n",
            "[CV] C=1, gamma=0.01, kernel=sigmoid .................................\n"
          ],
          "name": "stdout"
        },
        {
          "output_type": "stream",
          "text": [
            "[CV] .................. C=1, gamma=0.01, kernel=sigmoid, total=  19.4s\n",
            "[CV] C=100, gamma=1, kernel=rbf ......................................\n",
            "[CV] ....................... C=100, gamma=1, kernel=rbf, total=  13.4s\n",
            "[CV] C=100, gamma=1, kernel=rbf ......................................\n",
            "[CV] ....................... C=100, gamma=1, kernel=rbf, total=  13.7s\n",
            "[CV] C=100, gamma=1, kernel=rbf ......................................\n",
            "[CV] ....................... C=100, gamma=1, kernel=rbf, total=  14.0s\n",
            "[CV] C=100, gamma=1, kernel=rbf ......................................\n",
            "[CV] ....................... C=100, gamma=1, kernel=rbf, total=  13.9s\n",
            "[CV] C=100, gamma=1, kernel=rbf ......................................\n",
            "[CV] ....................... C=100, gamma=1, kernel=rbf, total=  13.9s\n",
            "[CV] C=100, gamma=1, kernel=sigmoid ..................................\n",
            "[CV] ................... C=100, gamma=1, kernel=sigmoid, total=  14.7s\n",
            "[CV] C=100, gamma=1, kernel=sigmoid ..................................\n",
            "[CV] ................... C=100, gamma=1, kernel=sigmoid, total=  14.4s\n",
            "[CV] C=100, gamma=1, kernel=sigmoid ..................................\n",
            "[CV] ................... C=100, gamma=1, kernel=sigmoid, total=  14.7s\n",
            "[CV] C=100, gamma=1, kernel=sigmoid ..................................\n",
            "[CV] ................... C=100, gamma=1, kernel=sigmoid, total=  14.4s\n",
            "[CV] C=100, gamma=1, kernel=sigmoid ..................................\n",
            "[CV] ................... C=100, gamma=1, kernel=sigmoid, total=  14.3s\n",
            "[CV] C=100, gamma=0.1, kernel=rbf ....................................\n",
            "[CV] ..................... C=100, gamma=0.1, kernel=rbf, total=  14.2s\n",
            "[CV] C=100, gamma=0.1, kernel=rbf ....................................\n",
            "[CV] ..................... C=100, gamma=0.1, kernel=rbf, total=  14.2s\n",
            "[CV] C=100, gamma=0.1, kernel=rbf ....................................\n",
            "[CV] ..................... C=100, gamma=0.1, kernel=rbf, total=  14.5s\n",
            "[CV] C=100, gamma=0.1, kernel=rbf ....................................\n",
            "[CV] ..................... C=100, gamma=0.1, kernel=rbf, total=  14.1s\n",
            "[CV] C=100, gamma=0.1, kernel=rbf ....................................\n",
            "[CV] ..................... C=100, gamma=0.1, kernel=rbf, total=  14.1s\n",
            "[CV] C=100, gamma=0.1, kernel=sigmoid ................................\n",
            "[CV] ................. C=100, gamma=0.1, kernel=sigmoid, total=  14.7s\n",
            "[CV] C=100, gamma=0.1, kernel=sigmoid ................................\n",
            "[CV] ................. C=100, gamma=0.1, kernel=sigmoid, total=  14.8s\n",
            "[CV] C=100, gamma=0.1, kernel=sigmoid ................................\n",
            "[CV] ................. C=100, gamma=0.1, kernel=sigmoid, total=  16.1s\n",
            "[CV] C=100, gamma=0.1, kernel=sigmoid ................................\n",
            "[CV] ................. C=100, gamma=0.1, kernel=sigmoid, total=  16.5s\n",
            "[CV] C=100, gamma=0.1, kernel=sigmoid ................................\n",
            "[CV] ................. C=100, gamma=0.1, kernel=sigmoid, total=  14.5s\n",
            "[CV] C=100, gamma=0.01, kernel=rbf ...................................\n",
            "[CV] .................... C=100, gamma=0.01, kernel=rbf, total=  16.8s\n",
            "[CV] C=100, gamma=0.01, kernel=rbf ...................................\n",
            "[CV] .................... C=100, gamma=0.01, kernel=rbf, total=  18.2s\n",
            "[CV] C=100, gamma=0.01, kernel=rbf ...................................\n",
            "[CV] .................... C=100, gamma=0.01, kernel=rbf, total=  17.1s\n",
            "[CV] C=100, gamma=0.01, kernel=rbf ...................................\n",
            "[CV] .................... C=100, gamma=0.01, kernel=rbf, total=  17.2s\n",
            "[CV] C=100, gamma=0.01, kernel=rbf ...................................\n",
            "[CV] .................... C=100, gamma=0.01, kernel=rbf, total=  16.9s\n",
            "[CV] C=100, gamma=0.01, kernel=sigmoid ...............................\n",
            "[CV] ................ C=100, gamma=0.01, kernel=sigmoid, total=  17.5s\n",
            "[CV] C=100, gamma=0.01, kernel=sigmoid ...............................\n",
            "[CV] ................ C=100, gamma=0.01, kernel=sigmoid, total=  17.8s\n",
            "[CV] C=100, gamma=0.01, kernel=sigmoid ...............................\n",
            "[CV] ................ C=100, gamma=0.01, kernel=sigmoid, total=  18.2s\n",
            "[CV] C=100, gamma=0.01, kernel=sigmoid ...............................\n",
            "[CV] ................ C=100, gamma=0.01, kernel=sigmoid, total=  17.8s\n",
            "[CV] C=100, gamma=0.01, kernel=sigmoid ...............................\n",
            "[CV] ................ C=100, gamma=0.01, kernel=sigmoid, total=  17.6s\n"
          ],
          "name": "stdout"
        },
        {
          "output_type": "stream",
          "text": [
            "[Parallel(n_jobs=1)]: Done  90 out of  90 | elapsed: 28.2min finished\n"
          ],
          "name": "stderr"
        },
        {
          "output_type": "execute_result",
          "data": {
            "text/plain": [
              "GridSearchCV(estimator=SVC(probability=True),\n",
              "             param_grid={'C': [0.1, 1, 100], 'gamma': [1, 0.1, 0.01],\n",
              "                         'kernel': ['rbf', 'sigmoid']},\n",
              "             verbose=2)"
            ]
          },
          "metadata": {
            "tags": []
          },
          "execution_count": 41
        }
      ]
    },
    {
      "cell_type": "code",
      "metadata": {
        "id": "i7GGqx2QOkhp",
        "colab_type": "code",
        "colab": {},
        "outputId": "6b69b62c-c28e-4a06-9d43-33e60bbc96eb"
      },
      "source": [
        "#best parameters\n",
        "grid.best_params_"
      ],
      "execution_count": null,
      "outputs": [
        {
          "output_type": "execute_result",
          "data": {
            "text/plain": [
              "{'C': 100, 'gamma': 1, 'kernel': 'rbf'}"
            ]
          },
          "metadata": {
            "tags": []
          },
          "execution_count": 42
        }
      ]
    },
    {
      "cell_type": "code",
      "metadata": {
        "id": "pjVe47ZzOkhr",
        "colab_type": "code",
        "colab": {},
        "outputId": "66413546-e857-4348-d298-4a50f2931416"
      },
      "source": [
        "# Make prediction\n",
        "Y_pred = grid.predict(X_test)\n",
        "print(confusion_matrix(Y_test,Y_pred))\n",
        "print(classification_report(Y_test,Y_pred))"
      ],
      "execution_count": null,
      "outputs": [
        {
          "output_type": "stream",
          "text": [
            "[[1017  342]\n",
            " [ 101   62]]\n",
            "              precision    recall  f1-score   support\n",
            "\n",
            "         0.0       0.91      0.75      0.82      1359\n",
            "         1.0       0.15      0.38      0.22       163\n",
            "\n",
            "    accuracy                           0.71      1522\n",
            "   macro avg       0.53      0.56      0.52      1522\n",
            "weighted avg       0.83      0.71      0.76      1522\n",
            "\n"
          ],
          "name": "stdout"
        }
      ]
    },
    {
      "cell_type": "code",
      "metadata": {
        "id": "39MesgxaOkhu",
        "colab_type": "code",
        "colab": {},
        "outputId": "39e30afb-314d-4c5f-80ea-e4f9865337ab"
      },
      "source": [
        "#Confusion matrix\n",
        "from sklearn.metrics import confusion_matrix\n",
        "cm = confusion_matrix(Y_test, Y_pred)\n",
        "sns.heatmap(cm,xticklabels = [\"Negative Sentiment\",\"Positive Sentiment\"],yticklabels = [\"Negative Sentiment\",\"Positive Sentiment\"], annot=True)\n",
        "print(cm)"
      ],
      "execution_count": null,
      "outputs": [
        {
          "output_type": "stream",
          "text": [
            "[[1017  342]\n",
            " [ 101   62]]\n"
          ],
          "name": "stdout"
        },
        {
          "output_type": "display_data",
          "data": {
            "image/png": "[encoded data removed]",
            "text/plain": [
              "<Figure size 432x288 with 2 Axes>"
            ]
          },
          "metadata": {
            "tags": [],
            "needs_background": "light"
          }
        }
      ]
    },
    {
      "cell_type": "code",
      "metadata": {
        "id": "X-9JcRMNOkhw",
        "colab_type": "code",
        "colab": {},
        "outputId": "86647096-be58-4e9b-8fb9-f39840e1407b"
      },
      "source": [
        "#predicted probabilities\n",
        "Y_pred_probs = grid.predict_proba(X_test)[:, 1]\n",
        "\n",
        "from sklearn.metrics import roc_curve,roc_auc_score\n",
        "#Compute ROC Score\n",
        "model_roc_auc = roc_auc_score(Y_test, Y_pred)\n",
        "print (\"Area under curve : \",model_roc_auc,\"\\n\")\n",
        "fpr,tpr,thresholds = roc_curve(Y_test,Y_pred_probs)\n",
        "\n",
        "plt.figure(figsize=(10, 8))\n",
        "plt.title('Receiver Operating Characteristic- SVM with Grid Search')\n",
        "plt.plot(fpr, tpr, 'b', label = 'AUC = %0.2f' % model_roc_auc)\n",
        "plt.legend(loc = 'lower right')\n",
        "plt.plot([0, 1], [0, 1],'r--')\n",
        "plt.xlim([0, 1])\n",
        "plt.ylim([0, 1])\n",
        "plt.ylabel('True Positive Rate')\n",
        "plt.xlabel('False Positive Rate')\n",
        "plt.show()"
      ],
      "execution_count": null,
      "outputs": [
        {
          "output_type": "stream",
          "text": [
            "Area under curve :  0.5643562345102182 \n",
            "\n"
          ],
          "name": "stdout"
        },
        {
          "output_type": "display_data",
          "data": {
            "image/png": "[encoded data removed]",
            "text/plain": [
              "<Figure size 720x576 with 1 Axes>"
            ]
          },
          "metadata": {
            "tags": [],
            "needs_background": "light"
          }
        }
      ]
    },
    {
      "cell_type": "markdown",
      "metadata": {
        "id": "iAwDq22MOkhy",
        "colab_type": "text"
      },
      "source": [
        "## Implications for the Business "
      ]
    },
    {
      "cell_type": "markdown",
      "metadata": {
        "id": "IvOto5qFOkhz",
        "colab_type": "text"
      },
      "source": [
        "\n",
        "As our aim to find all the negative reviews in the feedback, recall is the metric of concern for our business case.\n",
        "We aren't worried about a positive review being classified as negative but are more concerned with negative reviews being classified as positive. \n",
        "\n",
        "\n",
        "Based on the recall values for negative reviews (Y=1) we observe that Logistic Regression performs better than the others in terms of its recall as well as stability.\n",
        "\n",
        "Hence, we use logistic regression for word2vec vectors to predict sentiment of the reviews.\n",
        "\n",
        "Note: We have taken 5000 records to reduce the computational resources required i.e., keep our laptops from crashing."
      ]
    }
  ]
}